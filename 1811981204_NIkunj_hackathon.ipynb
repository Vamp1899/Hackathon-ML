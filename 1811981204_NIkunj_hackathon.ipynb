{
  "nbformat": 4,
  "nbformat_minor": 0,
  "metadata": {
    "colab": {
      "name": "hackathon.ipynb",
      "provenance": [],
      "collapsed_sections": []
    },
    "kernelspec": {
      "name": "python3",
      "display_name": "Python 3"
    },
    "language_info": {
      "name": "python"
    }
  },
  "cells": [
    {
      "cell_type": "code",
      "metadata": {
        "id": "nMO7zLLiM85P"
      },
      "source": [
        "import pandas as pd"
      ],
      "execution_count": 515,
      "outputs": []
    },
    {
      "cell_type": "code",
      "metadata": {
        "id": "s_j44y0mNIuj"
      },
      "source": [
        "import numpy as np"
      ],
      "execution_count": 516,
      "outputs": []
    },
    {
      "cell_type": "code",
      "metadata": {
        "id": "f_BlJ6VgNKXB"
      },
      "source": [
        "df=pd.read_excel(\"training_data.xlsx\")"
      ],
      "execution_count": 517,
      "outputs": []
    },
    {
      "cell_type": "code",
      "metadata": {
        "colab": {
          "base_uri": "https://localhost:8080/",
          "height": 493
        },
        "id": "XvX740WxNT3T",
        "outputId": "d9f76c65-1b6e-4b0f-f4f3-6d4e021f3dd0"
      },
      "source": [
        "df.head(10)"
      ],
      "execution_count": 518,
      "outputs": [
        {
          "output_type": "execute_result",
          "data": {
            "text/html": [
              "<div>\n",
              "<style scoped>\n",
              "    .dataframe tbody tr th:only-of-type {\n",
              "        vertical-align: middle;\n",
              "    }\n",
              "\n",
              "    .dataframe tbody tr th {\n",
              "        vertical-align: top;\n",
              "    }\n",
              "\n",
              "    .dataframe thead th {\n",
              "        text-align: right;\n",
              "    }\n",
              "</style>\n",
              "<table border=\"1\" class=\"dataframe\">\n",
              "  <thead>\n",
              "    <tr style=\"text-align: right;\">\n",
              "      <th></th>\n",
              "      <th>ID</th>\n",
              "      <th>Severity</th>\n",
              "      <th>Ventilation</th>\n",
              "      <th>Mean Age</th>\n",
              "      <th>% Male</th>\n",
              "      <th>Any Comorbidity</th>\n",
              "      <th>Hypertension</th>\n",
              "      <th>Diabetes</th>\n",
              "      <th>Cardiovascular Disease (incl. CAD)</th>\n",
              "      <th>Chronic obstructive lung (COPD)</th>\n",
              "      <th>Cancer (Any)</th>\n",
              "      <th>Liver Disease (any)</th>\n",
              "      <th>Cerebrovascular Disease</th>\n",
              "      <th>Chronic kidney/renal disease</th>\n",
              "      <th>Other</th>\n",
              "      <th>Fever (temperature ≥37·3°C)</th>\n",
              "      <th>Average temperature (celsius)</th>\n",
              "      <th>Max temperature (celsius)</th>\n",
              "      <th>Respiratory rate &gt; 24 breaths per min</th>\n",
              "      <th>Cough</th>\n",
              "      <th>Shortness of Breath (dyspnoea)</th>\n",
              "      <th>Headache</th>\n",
              "      <th>Sputum (/Expectoration)</th>\n",
              "      <th>Myalgia (Muscle Pain)</th>\n",
              "      <th>Fatigue</th>\n",
              "      <th>Diarrhoea</th>\n",
              "      <th>Nausea or Vomiting</th>\n",
              "      <th>Loss of Appetite/Anorexia</th>\n",
              "      <th>Disease Severity Asymptomatic</th>\n",
              "      <th>Disease Severity General</th>\n",
              "      <th>Disease Severity Severe</th>\n",
              "      <th>Disease Severity Critical</th>\n",
              "      <th>White Blood Cell Count (10^9/L) - Median</th>\n",
              "      <th>White Blood Cell Count (10^9/L) - LQ</th>\n",
              "      <th>White Blood Cell Count (10^9/L) - UQ</th>\n",
              "      <th>Lymphocyte Count (10^9/L) - Median</th>\n",
              "      <th>Lymphocyte Count (10^9/L) - LQ</th>\n",
              "      <th>Lymphocyte Count (10^9/L) - UQ</th>\n",
              "      <th>Platelet Count (10^9/L) - Median</th>\n",
              "      <th>Platelet Count (10^9/L) - LQ</th>\n",
              "      <th>...</th>\n",
              "      <th>Secondary infection/ Bacterial infection</th>\n",
              "      <th>ICU length of stay, days</th>\n",
              "      <th>Hospital length of stay, days</th>\n",
              "      <th>Mortality</th>\n",
              "      <th>Unnamed: 55</th>\n",
              "      <th>Unnamed: 56</th>\n",
              "      <th>Unnamed: 57</th>\n",
              "      <th>Unnamed: 58</th>\n",
              "      <th>Unnamed: 59</th>\n",
              "      <th>Unnamed: 60</th>\n",
              "      <th>Unnamed: 61</th>\n",
              "      <th>Unnamed: 62</th>\n",
              "      <th>Unnamed: 63</th>\n",
              "      <th>Unnamed: 64</th>\n",
              "      <th>Unnamed: 65</th>\n",
              "      <th>Unnamed: 66</th>\n",
              "      <th>Unnamed: 67</th>\n",
              "      <th>Unnamed: 68</th>\n",
              "      <th>Unnamed: 69</th>\n",
              "      <th>Unnamed: 70</th>\n",
              "      <th>Unnamed: 71</th>\n",
              "      <th>Unnamed: 72</th>\n",
              "      <th>Unnamed: 73</th>\n",
              "      <th>Unnamed: 74</th>\n",
              "      <th>Unnamed: 75</th>\n",
              "      <th>Unnamed: 76</th>\n",
              "      <th>Unnamed: 77</th>\n",
              "      <th>Unnamed: 78</th>\n",
              "      <th>Unnamed: 79</th>\n",
              "      <th>Unnamed: 80</th>\n",
              "      <th>Unnamed: 81</th>\n",
              "      <th>Unnamed: 82</th>\n",
              "      <th>Unnamed: 83</th>\n",
              "      <th>Unnamed: 84</th>\n",
              "      <th>Unnamed: 85</th>\n",
              "      <th>Unnamed: 86</th>\n",
              "      <th>Unnamed: 87</th>\n",
              "      <th>Unnamed: 88</th>\n",
              "      <th>Unnamed: 89</th>\n",
              "      <th>Unnamed: 90</th>\n",
              "    </tr>\n",
              "  </thead>\n",
              "  <tbody>\n",
              "    <tr>\n",
              "      <th>0</th>\n",
              "      <td>1</td>\n",
              "      <td>All</td>\n",
              "      <td>Both</td>\n",
              "      <td>NaN</td>\n",
              "      <td>0.6230</td>\n",
              "      <td>0.4760</td>\n",
              "      <td>0.3000</td>\n",
              "      <td>0.1900</td>\n",
              "      <td>0.0800</td>\n",
              "      <td>0.0300</td>\n",
              "      <td>0.0168</td>\n",
              "      <td>NaN</td>\n",
              "      <td>NaN</td>\n",
              "      <td>0.0168</td>\n",
              "      <td>0.1200</td>\n",
              "      <td>0.9400</td>\n",
              "      <td>NaN</td>\n",
              "      <td>NaN</td>\n",
              "      <td>0.2900</td>\n",
              "      <td>0.7900</td>\n",
              "      <td>NaN</td>\n",
              "      <td>NaN</td>\n",
              "      <td>0.2300</td>\n",
              "      <td>0.1500</td>\n",
              "      <td>0.2303</td>\n",
              "      <td>0.0471</td>\n",
              "      <td>0.0400</td>\n",
              "      <td>NaN</td>\n",
              "      <td>NaN</td>\n",
              "      <td>0.3770</td>\n",
              "      <td>0.3455</td>\n",
              "      <td>0.2775</td>\n",
              "      <td>6.2</td>\n",
              "      <td>4.5</td>\n",
              "      <td>9.5</td>\n",
              "      <td>1.0</td>\n",
              "      <td>0.6</td>\n",
              "      <td>1.3</td>\n",
              "      <td>206.0</td>\n",
              "      <td>155.0</td>\n",
              "      <td>...</td>\n",
              "      <td>0.1466</td>\n",
              "      <td>8</td>\n",
              "      <td>11</td>\n",
              "      <td>0.28</td>\n",
              "      <td>NaN</td>\n",
              "      <td>NaN</td>\n",
              "      <td>NaN</td>\n",
              "      <td>NaN</td>\n",
              "      <td>NaN</td>\n",
              "      <td>NaN</td>\n",
              "      <td>NaN</td>\n",
              "      <td>NaN</td>\n",
              "      <td>NaN</td>\n",
              "      <td>NaN</td>\n",
              "      <td>NaN</td>\n",
              "      <td>NaN</td>\n",
              "      <td>NaN</td>\n",
              "      <td>NaN</td>\n",
              "      <td>NaN</td>\n",
              "      <td>NaN</td>\n",
              "      <td>NaN</td>\n",
              "      <td>NaN</td>\n",
              "      <td>NaN</td>\n",
              "      <td>NaN</td>\n",
              "      <td>NaN</td>\n",
              "      <td>NaN</td>\n",
              "      <td>NaN</td>\n",
              "      <td>NaN</td>\n",
              "      <td>NaN</td>\n",
              "      <td>NaN</td>\n",
              "      <td>NaN</td>\n",
              "      <td>NaN</td>\n",
              "      <td>NaN</td>\n",
              "      <td>NaN</td>\n",
              "      <td>NaN</td>\n",
              "      <td>NaN</td>\n",
              "      <td>NaN</td>\n",
              "      <td>NaN</td>\n",
              "      <td>NaN</td>\n",
              "      <td>NaN</td>\n",
              "    </tr>\n",
              "    <tr>\n",
              "      <th>1</th>\n",
              "      <td>1</td>\n",
              "      <td>Severe/Critical Only</td>\n",
              "      <td>Both</td>\n",
              "      <td>NaN</td>\n",
              "      <td>0.7037</td>\n",
              "      <td>0.6667</td>\n",
              "      <td>0.4815</td>\n",
              "      <td>0.3148</td>\n",
              "      <td>0.2407</td>\n",
              "      <td>0.0741</td>\n",
              "      <td>0.0000</td>\n",
              "      <td>NaN</td>\n",
              "      <td>NaN</td>\n",
              "      <td>0.0370</td>\n",
              "      <td>0.2037</td>\n",
              "      <td>0.9444</td>\n",
              "      <td>NaN</td>\n",
              "      <td>NaN</td>\n",
              "      <td>0.6296</td>\n",
              "      <td>0.7222</td>\n",
              "      <td>NaN</td>\n",
              "      <td>NaN</td>\n",
              "      <td>0.2593</td>\n",
              "      <td>0.1481</td>\n",
              "      <td>0.2778</td>\n",
              "      <td>0.0370</td>\n",
              "      <td>0.0556</td>\n",
              "      <td>NaN</td>\n",
              "      <td>NaN</td>\n",
              "      <td>0.0000</td>\n",
              "      <td>0.2222</td>\n",
              "      <td>0.7778</td>\n",
              "      <td>9.8</td>\n",
              "      <td>6.9</td>\n",
              "      <td>13.9</td>\n",
              "      <td>0.6</td>\n",
              "      <td>0.5</td>\n",
              "      <td>0.8</td>\n",
              "      <td>165.5</td>\n",
              "      <td>107.0</td>\n",
              "      <td>...</td>\n",
              "      <td>0.5000</td>\n",
              "      <td>8</td>\n",
              "      <td>7.5</td>\n",
              "      <td>1</td>\n",
              "      <td>NaN</td>\n",
              "      <td>NaN</td>\n",
              "      <td>NaN</td>\n",
              "      <td>NaN</td>\n",
              "      <td>NaN</td>\n",
              "      <td>NaN</td>\n",
              "      <td>NaN</td>\n",
              "      <td>NaN</td>\n",
              "      <td>NaN</td>\n",
              "      <td>NaN</td>\n",
              "      <td>NaN</td>\n",
              "      <td>NaN</td>\n",
              "      <td>NaN</td>\n",
              "      <td>NaN</td>\n",
              "      <td>NaN</td>\n",
              "      <td>NaN</td>\n",
              "      <td>NaN</td>\n",
              "      <td>NaN</td>\n",
              "      <td>NaN</td>\n",
              "      <td>NaN</td>\n",
              "      <td>NaN</td>\n",
              "      <td>NaN</td>\n",
              "      <td>NaN</td>\n",
              "      <td>NaN</td>\n",
              "      <td>NaN</td>\n",
              "      <td>NaN</td>\n",
              "      <td>NaN</td>\n",
              "      <td>NaN</td>\n",
              "      <td>NaN</td>\n",
              "      <td>NaN</td>\n",
              "      <td>NaN</td>\n",
              "      <td>NaN</td>\n",
              "      <td>NaN</td>\n",
              "      <td>NaN</td>\n",
              "      <td>NaN</td>\n",
              "      <td>NaN</td>\n",
              "    </tr>\n",
              "    <tr>\n",
              "      <th>2</th>\n",
              "      <td>1</td>\n",
              "      <td>All</td>\n",
              "      <td>Both</td>\n",
              "      <td>NaN</td>\n",
              "      <td>0.5912</td>\n",
              "      <td>0.4015</td>\n",
              "      <td>0.2336</td>\n",
              "      <td>0.1387</td>\n",
              "      <td>0.0146</td>\n",
              "      <td>0.0146</td>\n",
              "      <td>0.0700</td>\n",
              "      <td>NaN</td>\n",
              "      <td>NaN</td>\n",
              "      <td>0.0000</td>\n",
              "      <td>0.0803</td>\n",
              "      <td>0.9416</td>\n",
              "      <td>NaN</td>\n",
              "      <td>NaN</td>\n",
              "      <td>0.1606</td>\n",
              "      <td>0.8175</td>\n",
              "      <td>NaN</td>\n",
              "      <td>NaN</td>\n",
              "      <td>0.2190</td>\n",
              "      <td>0.1533</td>\n",
              "      <td>0.2117</td>\n",
              "      <td>0.0511</td>\n",
              "      <td>0.0292</td>\n",
              "      <td>NaN</td>\n",
              "      <td>NaN</td>\n",
              "      <td>0.5255</td>\n",
              "      <td>0.3942</td>\n",
              "      <td>0.0803</td>\n",
              "      <td>5.2</td>\n",
              "      <td>4.3</td>\n",
              "      <td>7.7</td>\n",
              "      <td>1.1</td>\n",
              "      <td>0.8</td>\n",
              "      <td>1.5</td>\n",
              "      <td>220.0</td>\n",
              "      <td>168.0</td>\n",
              "      <td>...</td>\n",
              "      <td>0.0073</td>\n",
              "      <td>7</td>\n",
              "      <td>12</td>\n",
              "      <td>0</td>\n",
              "      <td>NaN</td>\n",
              "      <td>NaN</td>\n",
              "      <td>NaN</td>\n",
              "      <td>NaN</td>\n",
              "      <td>NaN</td>\n",
              "      <td>NaN</td>\n",
              "      <td>NaN</td>\n",
              "      <td>NaN</td>\n",
              "      <td>NaN</td>\n",
              "      <td>NaN</td>\n",
              "      <td>NaN</td>\n",
              "      <td>NaN</td>\n",
              "      <td>NaN</td>\n",
              "      <td>NaN</td>\n",
              "      <td>NaN</td>\n",
              "      <td>NaN</td>\n",
              "      <td>NaN</td>\n",
              "      <td>NaN</td>\n",
              "      <td>NaN</td>\n",
              "      <td>NaN</td>\n",
              "      <td>NaN</td>\n",
              "      <td>NaN</td>\n",
              "      <td>NaN</td>\n",
              "      <td>NaN</td>\n",
              "      <td>NaN</td>\n",
              "      <td>NaN</td>\n",
              "      <td>NaN</td>\n",
              "      <td>NaN</td>\n",
              "      <td>NaN</td>\n",
              "      <td>NaN</td>\n",
              "      <td>NaN</td>\n",
              "      <td>NaN</td>\n",
              "      <td>NaN</td>\n",
              "      <td>NaN</td>\n",
              "      <td>NaN</td>\n",
              "      <td>NaN</td>\n",
              "    </tr>\n",
              "    <tr>\n",
              "      <th>3</th>\n",
              "      <td>2</td>\n",
              "      <td>All</td>\n",
              "      <td>Both</td>\n",
              "      <td>NaN</td>\n",
              "      <td>0.6030</td>\n",
              "      <td>NaN</td>\n",
              "      <td>NaN</td>\n",
              "      <td>0.1160</td>\n",
              "      <td>NaN</td>\n",
              "      <td>NaN</td>\n",
              "      <td>0.0300</td>\n",
              "      <td>NaN</td>\n",
              "      <td>0.065</td>\n",
              "      <td>NaN</td>\n",
              "      <td>NaN</td>\n",
              "      <td>0.9150</td>\n",
              "      <td>36.50</td>\n",
              "      <td>NaN</td>\n",
              "      <td>0.1880</td>\n",
              "      <td>NaN</td>\n",
              "      <td>NaN</td>\n",
              "      <td>NaN</td>\n",
              "      <td>NaN</td>\n",
              "      <td>NaN</td>\n",
              "      <td>NaN</td>\n",
              "      <td>0.0206</td>\n",
              "      <td>0.0425</td>\n",
              "      <td>0.010</td>\n",
              "      <td>NaN</td>\n",
              "      <td>NaN</td>\n",
              "      <td>NaN</td>\n",
              "      <td>NaN</td>\n",
              "      <td>7.0</td>\n",
              "      <td>5.1</td>\n",
              "      <td>9.4</td>\n",
              "      <td>0.9</td>\n",
              "      <td>0.6</td>\n",
              "      <td>1.2</td>\n",
              "      <td>207.0</td>\n",
              "      <td>158.0</td>\n",
              "      <td>...</td>\n",
              "      <td>0.0365</td>\n",
              "      <td>10</td>\n",
              "      <td>15</td>\n",
              "      <td>0.16</td>\n",
              "      <td>NaN</td>\n",
              "      <td>NaN</td>\n",
              "      <td>NaN</td>\n",
              "      <td>NaN</td>\n",
              "      <td>NaN</td>\n",
              "      <td>NaN</td>\n",
              "      <td>NaN</td>\n",
              "      <td>NaN</td>\n",
              "      <td>NaN</td>\n",
              "      <td>NaN</td>\n",
              "      <td>NaN</td>\n",
              "      <td>NaN</td>\n",
              "      <td>NaN</td>\n",
              "      <td>NaN</td>\n",
              "      <td>NaN</td>\n",
              "      <td>NaN</td>\n",
              "      <td>NaN</td>\n",
              "      <td>NaN</td>\n",
              "      <td>NaN</td>\n",
              "      <td>NaN</td>\n",
              "      <td>NaN</td>\n",
              "      <td>NaN</td>\n",
              "      <td>NaN</td>\n",
              "      <td>NaN</td>\n",
              "      <td>NaN</td>\n",
              "      <td>NaN</td>\n",
              "      <td>NaN</td>\n",
              "      <td>NaN</td>\n",
              "      <td>NaN</td>\n",
              "      <td>NaN</td>\n",
              "      <td>NaN</td>\n",
              "      <td>NaN</td>\n",
              "      <td>NaN</td>\n",
              "      <td>NaN</td>\n",
              "      <td>NaN</td>\n",
              "      <td>NaN</td>\n",
              "    </tr>\n",
              "    <tr>\n",
              "      <th>4</th>\n",
              "      <td>2</td>\n",
              "      <td>All</td>\n",
              "      <td>Both</td>\n",
              "      <td>NaN</td>\n",
              "      <td>0.6160</td>\n",
              "      <td>NaN</td>\n",
              "      <td>NaN</td>\n",
              "      <td>0.1010</td>\n",
              "      <td>NaN</td>\n",
              "      <td>NaN</td>\n",
              "      <td>0.0510</td>\n",
              "      <td>NaN</td>\n",
              "      <td>0.051</td>\n",
              "      <td>NaN</td>\n",
              "      <td>NaN</td>\n",
              "      <td>0.8990</td>\n",
              "      <td>36.50</td>\n",
              "      <td>NaN</td>\n",
              "      <td>0.2160</td>\n",
              "      <td>NaN</td>\n",
              "      <td>NaN</td>\n",
              "      <td>NaN</td>\n",
              "      <td>NaN</td>\n",
              "      <td>NaN</td>\n",
              "      <td>NaN</td>\n",
              "      <td>0.0420</td>\n",
              "      <td>0.0950</td>\n",
              "      <td>0.021</td>\n",
              "      <td>NaN</td>\n",
              "      <td>NaN</td>\n",
              "      <td>NaN</td>\n",
              "      <td>NaN</td>\n",
              "      <td>7.3</td>\n",
              "      <td>5.3</td>\n",
              "      <td>9.6</td>\n",
              "      <td>0.8</td>\n",
              "      <td>0.6</td>\n",
              "      <td>1.4</td>\n",
              "      <td>201.0</td>\n",
              "      <td>155.0</td>\n",
              "      <td>...</td>\n",
              "      <td>0.0110</td>\n",
              "      <td>6</td>\n",
              "      <td>14</td>\n",
              "      <td>0.15</td>\n",
              "      <td>NaN</td>\n",
              "      <td>NaN</td>\n",
              "      <td>NaN</td>\n",
              "      <td>NaN</td>\n",
              "      <td>NaN</td>\n",
              "      <td>NaN</td>\n",
              "      <td>NaN</td>\n",
              "      <td>NaN</td>\n",
              "      <td>NaN</td>\n",
              "      <td>NaN</td>\n",
              "      <td>NaN</td>\n",
              "      <td>NaN</td>\n",
              "      <td>NaN</td>\n",
              "      <td>NaN</td>\n",
              "      <td>NaN</td>\n",
              "      <td>NaN</td>\n",
              "      <td>NaN</td>\n",
              "      <td>NaN</td>\n",
              "      <td>NaN</td>\n",
              "      <td>NaN</td>\n",
              "      <td>NaN</td>\n",
              "      <td>NaN</td>\n",
              "      <td>NaN</td>\n",
              "      <td>NaN</td>\n",
              "      <td>NaN</td>\n",
              "      <td>NaN</td>\n",
              "      <td>NaN</td>\n",
              "      <td>NaN</td>\n",
              "      <td>NaN</td>\n",
              "      <td>NaN</td>\n",
              "      <td>NaN</td>\n",
              "      <td>NaN</td>\n",
              "      <td>NaN</td>\n",
              "      <td>NaN</td>\n",
              "      <td>NaN</td>\n",
              "      <td>NaN</td>\n",
              "    </tr>\n",
              "    <tr>\n",
              "      <th>5</th>\n",
              "      <td>2</td>\n",
              "      <td>All</td>\n",
              "      <td>Both</td>\n",
              "      <td>NaN</td>\n",
              "      <td>0.5900</td>\n",
              "      <td>NaN</td>\n",
              "      <td>NaN</td>\n",
              "      <td>0.1300</td>\n",
              "      <td>NaN</td>\n",
              "      <td>NaN</td>\n",
              "      <td>0.0100</td>\n",
              "      <td>NaN</td>\n",
              "      <td>0.080</td>\n",
              "      <td>NaN</td>\n",
              "      <td>NaN</td>\n",
              "      <td>0.9300</td>\n",
              "      <td>36.50</td>\n",
              "      <td>NaN</td>\n",
              "      <td>0.1600</td>\n",
              "      <td>NaN</td>\n",
              "      <td>NaN</td>\n",
              "      <td>NaN</td>\n",
              "      <td>NaN</td>\n",
              "      <td>NaN</td>\n",
              "      <td>NaN</td>\n",
              "      <td>0.0000</td>\n",
              "      <td>0.0000</td>\n",
              "      <td>0.000</td>\n",
              "      <td>NaN</td>\n",
              "      <td>NaN</td>\n",
              "      <td>NaN</td>\n",
              "      <td>NaN</td>\n",
              "      <td>6.9</td>\n",
              "      <td>4.9</td>\n",
              "      <td>9.1</td>\n",
              "      <td>0.9</td>\n",
              "      <td>0.5</td>\n",
              "      <td>1.2</td>\n",
              "      <td>210.0</td>\n",
              "      <td>163.0</td>\n",
              "      <td>...</td>\n",
              "      <td>0.0610</td>\n",
              "      <td>11</td>\n",
              "      <td>16</td>\n",
              "      <td>0.17</td>\n",
              "      <td>NaN</td>\n",
              "      <td>NaN</td>\n",
              "      <td>NaN</td>\n",
              "      <td>NaN</td>\n",
              "      <td>NaN</td>\n",
              "      <td>NaN</td>\n",
              "      <td>NaN</td>\n",
              "      <td>NaN</td>\n",
              "      <td>NaN</td>\n",
              "      <td>NaN</td>\n",
              "      <td>NaN</td>\n",
              "      <td>NaN</td>\n",
              "      <td>NaN</td>\n",
              "      <td>NaN</td>\n",
              "      <td>NaN</td>\n",
              "      <td>NaN</td>\n",
              "      <td>NaN</td>\n",
              "      <td>NaN</td>\n",
              "      <td>NaN</td>\n",
              "      <td>NaN</td>\n",
              "      <td>NaN</td>\n",
              "      <td>NaN</td>\n",
              "      <td>NaN</td>\n",
              "      <td>NaN</td>\n",
              "      <td>NaN</td>\n",
              "      <td>NaN</td>\n",
              "      <td>NaN</td>\n",
              "      <td>NaN</td>\n",
              "      <td>NaN</td>\n",
              "      <td>NaN</td>\n",
              "      <td>NaN</td>\n",
              "      <td>NaN</td>\n",
              "      <td>NaN</td>\n",
              "      <td>NaN</td>\n",
              "      <td>NaN</td>\n",
              "      <td>NaN</td>\n",
              "    </tr>\n",
              "    <tr>\n",
              "      <th>6</th>\n",
              "      <td>3</td>\n",
              "      <td>All</td>\n",
              "      <td>Both</td>\n",
              "      <td>49.5</td>\n",
              "      <td>0.5200</td>\n",
              "      <td>0.2600</td>\n",
              "      <td>0.1500</td>\n",
              "      <td>0.1200</td>\n",
              "      <td>0.1000</td>\n",
              "      <td>0.1100</td>\n",
              "      <td>0.0500</td>\n",
              "      <td>0.09</td>\n",
              "      <td>0.070</td>\n",
              "      <td>0.0400</td>\n",
              "      <td>0.1600</td>\n",
              "      <td>0.7300</td>\n",
              "      <td>37.93</td>\n",
              "      <td>37.93</td>\n",
              "      <td>NaN</td>\n",
              "      <td>0.5900</td>\n",
              "      <td>0.42</td>\n",
              "      <td>0.06</td>\n",
              "      <td>0.1900</td>\n",
              "      <td>0.0900</td>\n",
              "      <td>0.0900</td>\n",
              "      <td>0.0400</td>\n",
              "      <td>0.0500</td>\n",
              "      <td>0.010</td>\n",
              "      <td>0.1851</td>\n",
              "      <td>NaN</td>\n",
              "      <td>NaN</td>\n",
              "      <td>NaN</td>\n",
              "      <td>8.1</td>\n",
              "      <td>4.7</td>\n",
              "      <td>11.5</td>\n",
              "      <td>1.1</td>\n",
              "      <td>0.8</td>\n",
              "      <td>1.4</td>\n",
              "      <td>212.2</td>\n",
              "      <td>112.5</td>\n",
              "      <td>...</td>\n",
              "      <td>NaN</td>\n",
              "      <td>NaN</td>\n",
              "      <td>23.2</td>\n",
              "      <td>0.04</td>\n",
              "      <td>NaN</td>\n",
              "      <td>NaN</td>\n",
              "      <td>NaN</td>\n",
              "      <td>NaN</td>\n",
              "      <td>NaN</td>\n",
              "      <td>NaN</td>\n",
              "      <td>NaN</td>\n",
              "      <td>NaN</td>\n",
              "      <td>NaN</td>\n",
              "      <td>NaN</td>\n",
              "      <td>NaN</td>\n",
              "      <td>NaN</td>\n",
              "      <td>NaN</td>\n",
              "      <td>NaN</td>\n",
              "      <td>NaN</td>\n",
              "      <td>NaN</td>\n",
              "      <td>NaN</td>\n",
              "      <td>NaN</td>\n",
              "      <td>NaN</td>\n",
              "      <td>NaN</td>\n",
              "      <td>NaN</td>\n",
              "      <td>NaN</td>\n",
              "      <td>NaN</td>\n",
              "      <td>NaN</td>\n",
              "      <td>NaN</td>\n",
              "      <td>NaN</td>\n",
              "      <td>NaN</td>\n",
              "      <td>NaN</td>\n",
              "      <td>NaN</td>\n",
              "      <td>NaN</td>\n",
              "      <td>NaN</td>\n",
              "      <td>NaN</td>\n",
              "      <td>NaN</td>\n",
              "      <td>NaN</td>\n",
              "      <td>NaN</td>\n",
              "      <td>NaN</td>\n",
              "    </tr>\n",
              "    <tr>\n",
              "      <th>7</th>\n",
              "      <td>3</td>\n",
              "      <td>All</td>\n",
              "      <td>Both</td>\n",
              "      <td>44.9</td>\n",
              "      <td>0.2700</td>\n",
              "      <td>0.2700</td>\n",
              "      <td>0.1300</td>\n",
              "      <td>0.2000</td>\n",
              "      <td>0.2000</td>\n",
              "      <td>0.0700</td>\n",
              "      <td>0.0700</td>\n",
              "      <td>0.00</td>\n",
              "      <td>0.070</td>\n",
              "      <td>0.0000</td>\n",
              "      <td>0.0700</td>\n",
              "      <td>0.0000</td>\n",
              "      <td>NaN</td>\n",
              "      <td>36.60</td>\n",
              "      <td>NaN</td>\n",
              "      <td>0.0000</td>\n",
              "      <td>0.00</td>\n",
              "      <td>0.00</td>\n",
              "      <td>0.0000</td>\n",
              "      <td>0.0000</td>\n",
              "      <td>0.0000</td>\n",
              "      <td>0.0000</td>\n",
              "      <td>0.0000</td>\n",
              "      <td>0.000</td>\n",
              "      <td>1.0000</td>\n",
              "      <td>0.0000</td>\n",
              "      <td>0.0000</td>\n",
              "      <td>0.0000</td>\n",
              "      <td>8.0</td>\n",
              "      <td>5.5</td>\n",
              "      <td>10.5</td>\n",
              "      <td>1.1</td>\n",
              "      <td>0.8</td>\n",
              "      <td>1.4</td>\n",
              "      <td>202.9</td>\n",
              "      <td>135.5</td>\n",
              "      <td>...</td>\n",
              "      <td>NaN</td>\n",
              "      <td>NaN</td>\n",
              "      <td>NaN</td>\n",
              "      <td>0</td>\n",
              "      <td>NaN</td>\n",
              "      <td>NaN</td>\n",
              "      <td>NaN</td>\n",
              "      <td>NaN</td>\n",
              "      <td>NaN</td>\n",
              "      <td>NaN</td>\n",
              "      <td>NaN</td>\n",
              "      <td>NaN</td>\n",
              "      <td>NaN</td>\n",
              "      <td>NaN</td>\n",
              "      <td>NaN</td>\n",
              "      <td>NaN</td>\n",
              "      <td>NaN</td>\n",
              "      <td>NaN</td>\n",
              "      <td>NaN</td>\n",
              "      <td>NaN</td>\n",
              "      <td>NaN</td>\n",
              "      <td>NaN</td>\n",
              "      <td>NaN</td>\n",
              "      <td>NaN</td>\n",
              "      <td>NaN</td>\n",
              "      <td>NaN</td>\n",
              "      <td>NaN</td>\n",
              "      <td>NaN</td>\n",
              "      <td>NaN</td>\n",
              "      <td>NaN</td>\n",
              "      <td>NaN</td>\n",
              "      <td>NaN</td>\n",
              "      <td>NaN</td>\n",
              "      <td>NaN</td>\n",
              "      <td>NaN</td>\n",
              "      <td>NaN</td>\n",
              "      <td>NaN</td>\n",
              "      <td>NaN</td>\n",
              "      <td>NaN</td>\n",
              "      <td>NaN</td>\n",
              "    </tr>\n",
              "    <tr>\n",
              "      <th>8</th>\n",
              "      <td>3</td>\n",
              "      <td>All</td>\n",
              "      <td>Both</td>\n",
              "      <td>48.8</td>\n",
              "      <td>0.5200</td>\n",
              "      <td>0.2400</td>\n",
              "      <td>0.0500</td>\n",
              "      <td>0.1000</td>\n",
              "      <td>0.0500</td>\n",
              "      <td>0.1400</td>\n",
              "      <td>0.0500</td>\n",
              "      <td>0.10</td>\n",
              "      <td>0.050</td>\n",
              "      <td>0.0000</td>\n",
              "      <td>0.1500</td>\n",
              "      <td>0.8600</td>\n",
              "      <td>NaN</td>\n",
              "      <td>38.10</td>\n",
              "      <td>NaN</td>\n",
              "      <td>0.7100</td>\n",
              "      <td>0.43</td>\n",
              "      <td>0.10</td>\n",
              "      <td>0.1400</td>\n",
              "      <td>0.0500</td>\n",
              "      <td>0.0900</td>\n",
              "      <td>0.0500</td>\n",
              "      <td>0.1000</td>\n",
              "      <td>0.050</td>\n",
              "      <td>0.0000</td>\n",
              "      <td>NaN</td>\n",
              "      <td>NaN</td>\n",
              "      <td>NaN</td>\n",
              "      <td>7.8</td>\n",
              "      <td>4.2</td>\n",
              "      <td>11.4</td>\n",
              "      <td>1.0</td>\n",
              "      <td>0.7</td>\n",
              "      <td>1.3</td>\n",
              "      <td>213.5</td>\n",
              "      <td>112.7</td>\n",
              "      <td>...</td>\n",
              "      <td>NaN</td>\n",
              "      <td>NaN</td>\n",
              "      <td>NaN</td>\n",
              "      <td>0</td>\n",
              "      <td>NaN</td>\n",
              "      <td>NaN</td>\n",
              "      <td>NaN</td>\n",
              "      <td>NaN</td>\n",
              "      <td>NaN</td>\n",
              "      <td>NaN</td>\n",
              "      <td>NaN</td>\n",
              "      <td>NaN</td>\n",
              "      <td>NaN</td>\n",
              "      <td>NaN</td>\n",
              "      <td>NaN</td>\n",
              "      <td>NaN</td>\n",
              "      <td>NaN</td>\n",
              "      <td>NaN</td>\n",
              "      <td>NaN</td>\n",
              "      <td>NaN</td>\n",
              "      <td>NaN</td>\n",
              "      <td>NaN</td>\n",
              "      <td>NaN</td>\n",
              "      <td>NaN</td>\n",
              "      <td>NaN</td>\n",
              "      <td>NaN</td>\n",
              "      <td>NaN</td>\n",
              "      <td>NaN</td>\n",
              "      <td>NaN</td>\n",
              "      <td>NaN</td>\n",
              "      <td>NaN</td>\n",
              "      <td>NaN</td>\n",
              "      <td>NaN</td>\n",
              "      <td>NaN</td>\n",
              "      <td>NaN</td>\n",
              "      <td>NaN</td>\n",
              "      <td>NaN</td>\n",
              "      <td>NaN</td>\n",
              "      <td>NaN</td>\n",
              "      <td>NaN</td>\n",
              "    </tr>\n",
              "    <tr>\n",
              "      <th>9</th>\n",
              "      <td>3</td>\n",
              "      <td>All</td>\n",
              "      <td>Both</td>\n",
              "      <td>52.3</td>\n",
              "      <td>0.6700</td>\n",
              "      <td>0.3000</td>\n",
              "      <td>0.2300</td>\n",
              "      <td>0.1000</td>\n",
              "      <td>0.1000</td>\n",
              "      <td>0.1000</td>\n",
              "      <td>0.0700</td>\n",
              "      <td>0.10</td>\n",
              "      <td>0.100</td>\n",
              "      <td>0.1000</td>\n",
              "      <td>0.2000</td>\n",
              "      <td>0.9000</td>\n",
              "      <td>NaN</td>\n",
              "      <td>38.20</td>\n",
              "      <td>NaN</td>\n",
              "      <td>0.7000</td>\n",
              "      <td>0.43</td>\n",
              "      <td>0.07</td>\n",
              "      <td>0.2000</td>\n",
              "      <td>0.1300</td>\n",
              "      <td>0.0500</td>\n",
              "      <td>0.0300</td>\n",
              "      <td>0.0700</td>\n",
              "      <td>0.000</td>\n",
              "      <td>0.0000</td>\n",
              "      <td>NaN</td>\n",
              "      <td>NaN</td>\n",
              "      <td>NaN</td>\n",
              "      <td>8.4</td>\n",
              "      <td>4.9</td>\n",
              "      <td>11.9</td>\n",
              "      <td>1.1</td>\n",
              "      <td>0.8</td>\n",
              "      <td>1.4</td>\n",
              "      <td>206.8</td>\n",
              "      <td>110.7</td>\n",
              "      <td>...</td>\n",
              "      <td>NaN</td>\n",
              "      <td>NaN</td>\n",
              "      <td>NaN</td>\n",
              "      <td>0.07</td>\n",
              "      <td>NaN</td>\n",
              "      <td>NaN</td>\n",
              "      <td>NaN</td>\n",
              "      <td>NaN</td>\n",
              "      <td>NaN</td>\n",
              "      <td>NaN</td>\n",
              "      <td>NaN</td>\n",
              "      <td>NaN</td>\n",
              "      <td>NaN</td>\n",
              "      <td>NaN</td>\n",
              "      <td>NaN</td>\n",
              "      <td>NaN</td>\n",
              "      <td>NaN</td>\n",
              "      <td>NaN</td>\n",
              "      <td>NaN</td>\n",
              "      <td>NaN</td>\n",
              "      <td>NaN</td>\n",
              "      <td>NaN</td>\n",
              "      <td>NaN</td>\n",
              "      <td>NaN</td>\n",
              "      <td>NaN</td>\n",
              "      <td>NaN</td>\n",
              "      <td>NaN</td>\n",
              "      <td>NaN</td>\n",
              "      <td>NaN</td>\n",
              "      <td>NaN</td>\n",
              "      <td>NaN</td>\n",
              "      <td>NaN</td>\n",
              "      <td>NaN</td>\n",
              "      <td>NaN</td>\n",
              "      <td>NaN</td>\n",
              "      <td>NaN</td>\n",
              "      <td>NaN</td>\n",
              "      <td>NaN</td>\n",
              "      <td>NaN</td>\n",
              "      <td>NaN</td>\n",
              "    </tr>\n",
              "  </tbody>\n",
              "</table>\n",
              "<p>10 rows × 91 columns</p>\n",
              "</div>"
            ],
            "text/plain": [
              "   ID              Severity Ventilation  ...  Unnamed: 88  Unnamed: 89  Unnamed: 90\n",
              "0   1                   All        Both  ...          NaN          NaN          NaN\n",
              "1   1  Severe/Critical Only        Both  ...          NaN          NaN          NaN\n",
              "2   1                   All        Both  ...          NaN          NaN          NaN\n",
              "3   2                   All        Both  ...          NaN          NaN          NaN\n",
              "4   2                   All        Both  ...          NaN          NaN          NaN\n",
              "5   2                   All        Both  ...          NaN          NaN          NaN\n",
              "6   3                   All        Both  ...          NaN          NaN          NaN\n",
              "7   3                   All        Both  ...          NaN          NaN          NaN\n",
              "8   3                   All        Both  ...          NaN          NaN          NaN\n",
              "9   3                   All        Both  ...          NaN          NaN          NaN\n",
              "\n",
              "[10 rows x 91 columns]"
            ]
          },
          "metadata": {
            "tags": []
          },
          "execution_count": 518
        }
      ]
    },
    {
      "cell_type": "code",
      "metadata": {
        "colab": {
          "base_uri": "https://localhost:8080/",
          "height": 417
        },
        "id": "doq3FbMRNeSx",
        "outputId": "3c4e35ae-fbfd-4625-e8c0-0f8db237d7fd"
      },
      "source": [
        "df.describe()"
      ],
      "execution_count": 519,
      "outputs": [
        {
          "output_type": "execute_result",
          "data": {
            "text/html": [
              "<div>\n",
              "<style scoped>\n",
              "    .dataframe tbody tr th:only-of-type {\n",
              "        vertical-align: middle;\n",
              "    }\n",
              "\n",
              "    .dataframe tbody tr th {\n",
              "        vertical-align: top;\n",
              "    }\n",
              "\n",
              "    .dataframe thead th {\n",
              "        text-align: right;\n",
              "    }\n",
              "</style>\n",
              "<table border=\"1\" class=\"dataframe\">\n",
              "  <thead>\n",
              "    <tr style=\"text-align: right;\">\n",
              "      <th></th>\n",
              "      <th>ID</th>\n",
              "      <th>Mean Age</th>\n",
              "      <th>% Male</th>\n",
              "      <th>Any Comorbidity</th>\n",
              "      <th>Hypertension</th>\n",
              "      <th>Diabetes</th>\n",
              "      <th>Cardiovascular Disease (incl. CAD)</th>\n",
              "      <th>Chronic obstructive lung (COPD)</th>\n",
              "      <th>Cancer (Any)</th>\n",
              "      <th>Liver Disease (any)</th>\n",
              "      <th>Cerebrovascular Disease</th>\n",
              "      <th>Chronic kidney/renal disease</th>\n",
              "      <th>Other</th>\n",
              "      <th>Fever (temperature ≥37·3°C)</th>\n",
              "      <th>Average temperature (celsius)</th>\n",
              "      <th>Max temperature (celsius)</th>\n",
              "      <th>Respiratory rate &gt; 24 breaths per min</th>\n",
              "      <th>Cough</th>\n",
              "      <th>Shortness of Breath (dyspnoea)</th>\n",
              "      <th>Headache</th>\n",
              "      <th>Sputum (/Expectoration)</th>\n",
              "      <th>Myalgia (Muscle Pain)</th>\n",
              "      <th>Fatigue</th>\n",
              "      <th>Diarrhoea</th>\n",
              "      <th>Nausea or Vomiting</th>\n",
              "      <th>Loss of Appetite/Anorexia</th>\n",
              "      <th>Disease Severity Asymptomatic</th>\n",
              "      <th>Disease Severity General</th>\n",
              "      <th>Disease Severity Severe</th>\n",
              "      <th>Disease Severity Critical</th>\n",
              "      <th>White Blood Cell Count (10^9/L) - Median</th>\n",
              "      <th>White Blood Cell Count (10^9/L) - LQ</th>\n",
              "      <th>White Blood Cell Count (10^9/L) - UQ</th>\n",
              "      <th>Lymphocyte Count (10^9/L) - Median</th>\n",
              "      <th>Lymphocyte Count (10^9/L) - LQ</th>\n",
              "      <th>Lymphocyte Count (10^9/L) - UQ</th>\n",
              "      <th>Platelet Count (10^9/L) - Median</th>\n",
              "      <th>Platelet Count (10^9/L) - LQ</th>\n",
              "      <th>Platelet Count (10^9/L) - UQ</th>\n",
              "      <th>Hemoglobin (g/L) - Median</th>\n",
              "      <th>...</th>\n",
              "      <th>Antiviral (Any)</th>\n",
              "      <th>Heart failure</th>\n",
              "      <th>Acute kidney injury (AKI)</th>\n",
              "      <th>Secondary infection/ Bacterial infection</th>\n",
              "      <th>Unnamed: 55</th>\n",
              "      <th>Unnamed: 56</th>\n",
              "      <th>Unnamed: 57</th>\n",
              "      <th>Unnamed: 58</th>\n",
              "      <th>Unnamed: 59</th>\n",
              "      <th>Unnamed: 60</th>\n",
              "      <th>Unnamed: 61</th>\n",
              "      <th>Unnamed: 62</th>\n",
              "      <th>Unnamed: 63</th>\n",
              "      <th>Unnamed: 64</th>\n",
              "      <th>Unnamed: 65</th>\n",
              "      <th>Unnamed: 66</th>\n",
              "      <th>Unnamed: 67</th>\n",
              "      <th>Unnamed: 68</th>\n",
              "      <th>Unnamed: 69</th>\n",
              "      <th>Unnamed: 70</th>\n",
              "      <th>Unnamed: 71</th>\n",
              "      <th>Unnamed: 72</th>\n",
              "      <th>Unnamed: 73</th>\n",
              "      <th>Unnamed: 74</th>\n",
              "      <th>Unnamed: 75</th>\n",
              "      <th>Unnamed: 76</th>\n",
              "      <th>Unnamed: 77</th>\n",
              "      <th>Unnamed: 78</th>\n",
              "      <th>Unnamed: 79</th>\n",
              "      <th>Unnamed: 80</th>\n",
              "      <th>Unnamed: 81</th>\n",
              "      <th>Unnamed: 82</th>\n",
              "      <th>Unnamed: 83</th>\n",
              "      <th>Unnamed: 84</th>\n",
              "      <th>Unnamed: 85</th>\n",
              "      <th>Unnamed: 86</th>\n",
              "      <th>Unnamed: 87</th>\n",
              "      <th>Unnamed: 88</th>\n",
              "      <th>Unnamed: 89</th>\n",
              "      <th>Unnamed: 90</th>\n",
              "    </tr>\n",
              "  </thead>\n",
              "  <tbody>\n",
              "    <tr>\n",
              "      <th>count</th>\n",
              "      <td>475.000000</td>\n",
              "      <td>252.000000</td>\n",
              "      <td>430.000000</td>\n",
              "      <td>222.00000</td>\n",
              "      <td>309.000000</td>\n",
              "      <td>325.000000</td>\n",
              "      <td>295.000000</td>\n",
              "      <td>262.000000</td>\n",
              "      <td>233.000000</td>\n",
              "      <td>192.000000</td>\n",
              "      <td>173.000000</td>\n",
              "      <td>250.000000</td>\n",
              "      <td>199.000000</td>\n",
              "      <td>356.000000</td>\n",
              "      <td>64.000000</td>\n",
              "      <td>54.000000</td>\n",
              "      <td>38.000000</td>\n",
              "      <td>340.000000</td>\n",
              "      <td>243.000000</td>\n",
              "      <td>175.000000</td>\n",
              "      <td>160.000000</td>\n",
              "      <td>197.000000</td>\n",
              "      <td>221.000000</td>\n",
              "      <td>260.000000</td>\n",
              "      <td>171.000000</td>\n",
              "      <td>81.000000</td>\n",
              "      <td>167.00000</td>\n",
              "      <td>229.000000</td>\n",
              "      <td>214.000000</td>\n",
              "      <td>199.000000</td>\n",
              "      <td>284.000000</td>\n",
              "      <td>253.000000</td>\n",
              "      <td>251.000000</td>\n",
              "      <td>289.000000</td>\n",
              "      <td>237.000000</td>\n",
              "      <td>237.000000</td>\n",
              "      <td>180.000000</td>\n",
              "      <td>162.000000</td>\n",
              "      <td>162.000000</td>\n",
              "      <td>134.000000</td>\n",
              "      <td>...</td>\n",
              "      <td>199.000000</td>\n",
              "      <td>76.000000</td>\n",
              "      <td>101.000000</td>\n",
              "      <td>43.000000</td>\n",
              "      <td>0.0</td>\n",
              "      <td>0.0</td>\n",
              "      <td>0.0</td>\n",
              "      <td>0.0</td>\n",
              "      <td>0.0</td>\n",
              "      <td>0.0</td>\n",
              "      <td>0.0</td>\n",
              "      <td>0.0</td>\n",
              "      <td>0.0</td>\n",
              "      <td>0.0</td>\n",
              "      <td>0.0</td>\n",
              "      <td>0.0</td>\n",
              "      <td>0.0</td>\n",
              "      <td>0.0</td>\n",
              "      <td>0.0</td>\n",
              "      <td>0.0</td>\n",
              "      <td>0.0</td>\n",
              "      <td>9.000000</td>\n",
              "      <td>9.000000</td>\n",
              "      <td>11.000000</td>\n",
              "      <td>10.000000</td>\n",
              "      <td>10.000000</td>\n",
              "      <td>8.000000</td>\n",
              "      <td>4.000000</td>\n",
              "      <td>4.000000</td>\n",
              "      <td>4.00000</td>\n",
              "      <td>14.000000</td>\n",
              "      <td>14.000000</td>\n",
              "      <td>4.000000</td>\n",
              "      <td>9.000000</td>\n",
              "      <td>3.000000</td>\n",
              "      <td>13.000000</td>\n",
              "      <td>11.000000</td>\n",
              "      <td>8.000000</td>\n",
              "      <td>15.000000</td>\n",
              "      <td>36.000000</td>\n",
              "    </tr>\n",
              "    <tr>\n",
              "      <th>mean</th>\n",
              "      <td>94.324211</td>\n",
              "      <td>51.093536</td>\n",
              "      <td>0.547413</td>\n",
              "      <td>0.48413</td>\n",
              "      <td>0.286662</td>\n",
              "      <td>0.147790</td>\n",
              "      <td>0.142180</td>\n",
              "      <td>0.066283</td>\n",
              "      <td>0.075804</td>\n",
              "      <td>0.037113</td>\n",
              "      <td>0.104421</td>\n",
              "      <td>0.044744</td>\n",
              "      <td>0.160487</td>\n",
              "      <td>0.706176</td>\n",
              "      <td>36.474891</td>\n",
              "      <td>38.408778</td>\n",
              "      <td>0.234295</td>\n",
              "      <td>0.603716</td>\n",
              "      <td>0.288274</td>\n",
              "      <td>0.121554</td>\n",
              "      <td>0.275512</td>\n",
              "      <td>0.225184</td>\n",
              "      <td>0.330612</td>\n",
              "      <td>0.144762</td>\n",
              "      <td>0.107010</td>\n",
              "      <td>0.117175</td>\n",
              "      <td>0.07853</td>\n",
              "      <td>0.516531</td>\n",
              "      <td>0.304105</td>\n",
              "      <td>0.303799</td>\n",
              "      <td>6.058345</td>\n",
              "      <td>4.751225</td>\n",
              "      <td>7.706295</td>\n",
              "      <td>1.587924</td>\n",
              "      <td>1.381983</td>\n",
              "      <td>2.058692</td>\n",
              "      <td>186.339222</td>\n",
              "      <td>145.298519</td>\n",
              "      <td>233.919198</td>\n",
              "      <td>125.731493</td>\n",
              "      <td>...</td>\n",
              "      <td>0.842674</td>\n",
              "      <td>0.095805</td>\n",
              "      <td>0.105184</td>\n",
              "      <td>0.114935</td>\n",
              "      <td>NaN</td>\n",
              "      <td>NaN</td>\n",
              "      <td>NaN</td>\n",
              "      <td>NaN</td>\n",
              "      <td>NaN</td>\n",
              "      <td>NaN</td>\n",
              "      <td>NaN</td>\n",
              "      <td>NaN</td>\n",
              "      <td>NaN</td>\n",
              "      <td>NaN</td>\n",
              "      <td>NaN</td>\n",
              "      <td>NaN</td>\n",
              "      <td>NaN</td>\n",
              "      <td>NaN</td>\n",
              "      <td>NaN</td>\n",
              "      <td>NaN</td>\n",
              "      <td>NaN</td>\n",
              "      <td>0.553333</td>\n",
              "      <td>1.186667</td>\n",
              "      <td>169.272727</td>\n",
              "      <td>120.350000</td>\n",
              "      <td>215.200000</td>\n",
              "      <td>70.175000</td>\n",
              "      <td>11.162500</td>\n",
              "      <td>13.600000</td>\n",
              "      <td>25.91750</td>\n",
              "      <td>23.832143</td>\n",
              "      <td>34.110714</td>\n",
              "      <td>0.807250</td>\n",
              "      <td>0.764589</td>\n",
              "      <td>0.066667</td>\n",
              "      <td>0.101615</td>\n",
              "      <td>0.177909</td>\n",
              "      <td>11.375000</td>\n",
              "      <td>20.873333</td>\n",
              "      <td>0.142222</td>\n",
              "    </tr>\n",
              "    <tr>\n",
              "      <th>std</th>\n",
              "      <td>51.058213</td>\n",
              "      <td>18.572915</td>\n",
              "      <td>0.263608</td>\n",
              "      <td>0.35929</td>\n",
              "      <td>0.288207</td>\n",
              "      <td>0.201715</td>\n",
              "      <td>0.241088</td>\n",
              "      <td>0.150995</td>\n",
              "      <td>0.212610</td>\n",
              "      <td>0.090475</td>\n",
              "      <td>0.450986</td>\n",
              "      <td>0.116095</td>\n",
              "      <td>0.269377</td>\n",
              "      <td>0.298083</td>\n",
              "      <td>6.567408</td>\n",
              "      <td>0.724731</td>\n",
              "      <td>0.300278</td>\n",
              "      <td>0.285895</td>\n",
              "      <td>0.301333</td>\n",
              "      <td>0.185448</td>\n",
              "      <td>0.257751</td>\n",
              "      <td>0.275312</td>\n",
              "      <td>0.280192</td>\n",
              "      <td>0.253176</td>\n",
              "      <td>0.216675</td>\n",
              "      <td>0.199007</td>\n",
              "      <td>0.24972</td>\n",
              "      <td>0.444439</td>\n",
              "      <td>0.388665</td>\n",
              "      <td>0.436035</td>\n",
              "      <td>2.196594</td>\n",
              "      <td>2.049314</td>\n",
              "      <td>3.331050</td>\n",
              "      <td>3.320552</td>\n",
              "      <td>3.316809</td>\n",
              "      <td>3.720481</td>\n",
              "      <td>38.775387</td>\n",
              "      <td>46.873641</td>\n",
              "      <td>55.891596</td>\n",
              "      <td>25.954569</td>\n",
              "      <td>...</td>\n",
              "      <td>0.276362</td>\n",
              "      <td>0.186147</td>\n",
              "      <td>0.164716</td>\n",
              "      <td>0.186450</td>\n",
              "      <td>NaN</td>\n",
              "      <td>NaN</td>\n",
              "      <td>NaN</td>\n",
              "      <td>NaN</td>\n",
              "      <td>NaN</td>\n",
              "      <td>NaN</td>\n",
              "      <td>NaN</td>\n",
              "      <td>NaN</td>\n",
              "      <td>NaN</td>\n",
              "      <td>NaN</td>\n",
              "      <td>NaN</td>\n",
              "      <td>NaN</td>\n",
              "      <td>NaN</td>\n",
              "      <td>NaN</td>\n",
              "      <td>NaN</td>\n",
              "      <td>NaN</td>\n",
              "      <td>NaN</td>\n",
              "      <td>0.173997</td>\n",
              "      <td>0.182003</td>\n",
              "      <td>42.909418</td>\n",
              "      <td>40.199537</td>\n",
              "      <td>51.600065</td>\n",
              "      <td>61.583735</td>\n",
              "      <td>0.193111</td>\n",
              "      <td>0.294392</td>\n",
              "      <td>15.69335</td>\n",
              "      <td>7.519759</td>\n",
              "      <td>9.481484</td>\n",
              "      <td>0.169224</td>\n",
              "      <td>0.298162</td>\n",
              "      <td>0.020817</td>\n",
              "      <td>0.138349</td>\n",
              "      <td>0.219794</td>\n",
              "      <td>14.411677</td>\n",
              "      <td>10.863995</td>\n",
              "      <td>0.255568</td>\n",
              "    </tr>\n",
              "    <tr>\n",
              "      <th>min</th>\n",
              "      <td>1.000000</td>\n",
              "      <td>0.170000</td>\n",
              "      <td>0.000000</td>\n",
              "      <td>0.00000</td>\n",
              "      <td>0.000000</td>\n",
              "      <td>0.000000</td>\n",
              "      <td>0.000000</td>\n",
              "      <td>0.000000</td>\n",
              "      <td>0.000000</td>\n",
              "      <td>0.000000</td>\n",
              "      <td>0.000000</td>\n",
              "      <td>0.000000</td>\n",
              "      <td>0.000000</td>\n",
              "      <td>0.000000</td>\n",
              "      <td>0.341000</td>\n",
              "      <td>36.600000</td>\n",
              "      <td>0.000000</td>\n",
              "      <td>0.000000</td>\n",
              "      <td>0.000000</td>\n",
              "      <td>0.000000</td>\n",
              "      <td>0.000000</td>\n",
              "      <td>0.000000</td>\n",
              "      <td>0.000000</td>\n",
              "      <td>0.000000</td>\n",
              "      <td>0.000000</td>\n",
              "      <td>0.000000</td>\n",
              "      <td>0.00000</td>\n",
              "      <td>0.000000</td>\n",
              "      <td>0.000000</td>\n",
              "      <td>0.000000</td>\n",
              "      <td>1.290000</td>\n",
              "      <td>1.290000</td>\n",
              "      <td>1.290000</td>\n",
              "      <td>0.060000</td>\n",
              "      <td>0.200000</td>\n",
              "      <td>0.260000</td>\n",
              "      <td>77.000000</td>\n",
              "      <td>30.000000</td>\n",
              "      <td>86.000000</td>\n",
              "      <td>6.710000</td>\n",
              "      <td>...</td>\n",
              "      <td>0.000000</td>\n",
              "      <td>0.000000</td>\n",
              "      <td>0.000000</td>\n",
              "      <td>0.000000</td>\n",
              "      <td>NaN</td>\n",
              "      <td>NaN</td>\n",
              "      <td>NaN</td>\n",
              "      <td>NaN</td>\n",
              "      <td>NaN</td>\n",
              "      <td>NaN</td>\n",
              "      <td>NaN</td>\n",
              "      <td>NaN</td>\n",
              "      <td>NaN</td>\n",
              "      <td>NaN</td>\n",
              "      <td>NaN</td>\n",
              "      <td>NaN</td>\n",
              "      <td>NaN</td>\n",
              "      <td>NaN</td>\n",
              "      <td>NaN</td>\n",
              "      <td>NaN</td>\n",
              "      <td>NaN</td>\n",
              "      <td>0.200000</td>\n",
              "      <td>0.910000</td>\n",
              "      <td>77.000000</td>\n",
              "      <td>44.000000</td>\n",
              "      <td>93.000000</td>\n",
              "      <td>12.400000</td>\n",
              "      <td>10.950000</td>\n",
              "      <td>13.300000</td>\n",
              "      <td>2.97000</td>\n",
              "      <td>13.000000</td>\n",
              "      <td>22.000000</td>\n",
              "      <td>0.625000</td>\n",
              "      <td>0.000000</td>\n",
              "      <td>0.050000</td>\n",
              "      <td>0.000000</td>\n",
              "      <td>0.000000</td>\n",
              "      <td>0.000000</td>\n",
              "      <td>4.100000</td>\n",
              "      <td>0.000000</td>\n",
              "    </tr>\n",
              "    <tr>\n",
              "      <th>25%</th>\n",
              "      <td>58.500000</td>\n",
              "      <td>43.300000</td>\n",
              "      <td>0.451175</td>\n",
              "      <td>0.18050</td>\n",
              "      <td>0.078000</td>\n",
              "      <td>0.000000</td>\n",
              "      <td>0.000000</td>\n",
              "      <td>0.000000</td>\n",
              "      <td>0.000000</td>\n",
              "      <td>0.000000</td>\n",
              "      <td>0.000000</td>\n",
              "      <td>0.000000</td>\n",
              "      <td>0.000000</td>\n",
              "      <td>0.565000</td>\n",
              "      <td>37.072500</td>\n",
              "      <td>38.025000</td>\n",
              "      <td>0.015000</td>\n",
              "      <td>0.459750</td>\n",
              "      <td>0.033000</td>\n",
              "      <td>0.000000</td>\n",
              "      <td>0.090175</td>\n",
              "      <td>0.027800</td>\n",
              "      <td>0.090000</td>\n",
              "      <td>0.000000</td>\n",
              "      <td>0.000000</td>\n",
              "      <td>0.000000</td>\n",
              "      <td>0.00000</td>\n",
              "      <td>0.000000</td>\n",
              "      <td>0.000000</td>\n",
              "      <td>0.000000</td>\n",
              "      <td>4.800000</td>\n",
              "      <td>3.600000</td>\n",
              "      <td>5.900000</td>\n",
              "      <td>0.780000</td>\n",
              "      <td>0.600000</td>\n",
              "      <td>1.000000</td>\n",
              "      <td>165.000000</td>\n",
              "      <td>118.000000</td>\n",
              "      <td>206.587500</td>\n",
              "      <td>124.000000</td>\n",
              "      <td>...</td>\n",
              "      <td>0.842000</td>\n",
              "      <td>0.000000</td>\n",
              "      <td>0.000000</td>\n",
              "      <td>0.000000</td>\n",
              "      <td>NaN</td>\n",
              "      <td>NaN</td>\n",
              "      <td>NaN</td>\n",
              "      <td>NaN</td>\n",
              "      <td>NaN</td>\n",
              "      <td>NaN</td>\n",
              "      <td>NaN</td>\n",
              "      <td>NaN</td>\n",
              "      <td>NaN</td>\n",
              "      <td>NaN</td>\n",
              "      <td>NaN</td>\n",
              "      <td>NaN</td>\n",
              "      <td>NaN</td>\n",
              "      <td>NaN</td>\n",
              "      <td>NaN</td>\n",
              "      <td>NaN</td>\n",
              "      <td>NaN</td>\n",
              "      <td>0.500000</td>\n",
              "      <td>1.100000</td>\n",
              "      <td>151.000000</td>\n",
              "      <td>92.375000</td>\n",
              "      <td>200.625000</td>\n",
              "      <td>12.650000</td>\n",
              "      <td>11.025000</td>\n",
              "      <td>13.375000</td>\n",
              "      <td>22.49250</td>\n",
              "      <td>17.112500</td>\n",
              "      <td>30.000000</td>\n",
              "      <td>0.691750</td>\n",
              "      <td>0.802300</td>\n",
              "      <td>0.055000</td>\n",
              "      <td>0.010000</td>\n",
              "      <td>0.040000</td>\n",
              "      <td>0.000000</td>\n",
              "      <td>15.500000</td>\n",
              "      <td>0.000000</td>\n",
              "    </tr>\n",
              "    <tr>\n",
              "      <th>50%</th>\n",
              "      <td>96.000000</td>\n",
              "      <td>52.450000</td>\n",
              "      <td>0.540600</td>\n",
              "      <td>0.40075</td>\n",
              "      <td>0.206000</td>\n",
              "      <td>0.101000</td>\n",
              "      <td>0.060500</td>\n",
              "      <td>0.017950</td>\n",
              "      <td>0.008000</td>\n",
              "      <td>0.000000</td>\n",
              "      <td>0.011000</td>\n",
              "      <td>0.000000</td>\n",
              "      <td>0.053000</td>\n",
              "      <td>0.791350</td>\n",
              "      <td>37.571000</td>\n",
              "      <td>38.500000</td>\n",
              "      <td>0.150000</td>\n",
              "      <td>0.644500</td>\n",
              "      <td>0.164000</td>\n",
              "      <td>0.065000</td>\n",
              "      <td>0.248500</td>\n",
              "      <td>0.119000</td>\n",
              "      <td>0.310800</td>\n",
              "      <td>0.063000</td>\n",
              "      <td>0.040000</td>\n",
              "      <td>0.025000</td>\n",
              "      <td>0.00000</td>\n",
              "      <td>0.588800</td>\n",
              "      <td>0.099500</td>\n",
              "      <td>0.000000</td>\n",
              "      <td>5.400000</td>\n",
              "      <td>4.130000</td>\n",
              "      <td>7.110000</td>\n",
              "      <td>0.980000</td>\n",
              "      <td>0.730000</td>\n",
              "      <td>1.380000</td>\n",
              "      <td>184.485000</td>\n",
              "      <td>136.000000</td>\n",
              "      <td>229.000000</td>\n",
              "      <td>130.000000</td>\n",
              "      <td>...</td>\n",
              "      <td>1.000000</td>\n",
              "      <td>0.000000</td>\n",
              "      <td>0.035700</td>\n",
              "      <td>0.025000</td>\n",
              "      <td>NaN</td>\n",
              "      <td>NaN</td>\n",
              "      <td>NaN</td>\n",
              "      <td>NaN</td>\n",
              "      <td>NaN</td>\n",
              "      <td>NaN</td>\n",
              "      <td>NaN</td>\n",
              "      <td>NaN</td>\n",
              "      <td>NaN</td>\n",
              "      <td>NaN</td>\n",
              "      <td>NaN</td>\n",
              "      <td>NaN</td>\n",
              "      <td>NaN</td>\n",
              "      <td>NaN</td>\n",
              "      <td>NaN</td>\n",
              "      <td>NaN</td>\n",
              "      <td>NaN</td>\n",
              "      <td>0.600000</td>\n",
              "      <td>1.100000</td>\n",
              "      <td>184.000000</td>\n",
              "      <td>142.000000</td>\n",
              "      <td>226.000000</td>\n",
              "      <td>68.900000</td>\n",
              "      <td>11.175000</td>\n",
              "      <td>13.600000</td>\n",
              "      <td>31.60000</td>\n",
              "      <td>26.000000</td>\n",
              "      <td>31.500000</td>\n",
              "      <td>0.802000</td>\n",
              "      <td>0.810000</td>\n",
              "      <td>0.060000</td>\n",
              "      <td>0.026000</td>\n",
              "      <td>0.068000</td>\n",
              "      <td>7.500000</td>\n",
              "      <td>21.000000</td>\n",
              "      <td>0.010000</td>\n",
              "    </tr>\n",
              "    <tr>\n",
              "      <th>75%</th>\n",
              "      <td>131.500000</td>\n",
              "      <td>64.000000</td>\n",
              "      <td>0.670000</td>\n",
              "      <td>0.82000</td>\n",
              "      <td>0.395000</td>\n",
              "      <td>0.180000</td>\n",
              "      <td>0.150500</td>\n",
              "      <td>0.077675</td>\n",
              "      <td>0.052000</td>\n",
              "      <td>0.040000</td>\n",
              "      <td>0.079000</td>\n",
              "      <td>0.035750</td>\n",
              "      <td>0.180000</td>\n",
              "      <td>0.941150</td>\n",
              "      <td>38.062500</td>\n",
              "      <td>38.600000</td>\n",
              "      <td>0.280000</td>\n",
              "      <td>0.798500</td>\n",
              "      <td>0.470500</td>\n",
              "      <td>0.138000</td>\n",
              "      <td>0.363750</td>\n",
              "      <td>0.325000</td>\n",
              "      <td>0.472200</td>\n",
              "      <td>0.128250</td>\n",
              "      <td>0.100500</td>\n",
              "      <td>0.150000</td>\n",
              "      <td>0.00000</td>\n",
              "      <td>1.000000</td>\n",
              "      <td>0.500000</td>\n",
              "      <td>1.000000</td>\n",
              "      <td>6.792500</td>\n",
              "      <td>5.110000</td>\n",
              "      <td>8.800000</td>\n",
              "      <td>1.300000</td>\n",
              "      <td>0.960000</td>\n",
              "      <td>1.750000</td>\n",
              "      <td>204.125000</td>\n",
              "      <td>155.750000</td>\n",
              "      <td>262.750000</td>\n",
              "      <td>137.000000</td>\n",
              "      <td>...</td>\n",
              "      <td>1.000000</td>\n",
              "      <td>0.117600</td>\n",
              "      <td>0.146000</td>\n",
              "      <td>0.148300</td>\n",
              "      <td>NaN</td>\n",
              "      <td>NaN</td>\n",
              "      <td>NaN</td>\n",
              "      <td>NaN</td>\n",
              "      <td>NaN</td>\n",
              "      <td>NaN</td>\n",
              "      <td>NaN</td>\n",
              "      <td>NaN</td>\n",
              "      <td>NaN</td>\n",
              "      <td>NaN</td>\n",
              "      <td>NaN</td>\n",
              "      <td>NaN</td>\n",
              "      <td>NaN</td>\n",
              "      <td>NaN</td>\n",
              "      <td>NaN</td>\n",
              "      <td>NaN</td>\n",
              "      <td>NaN</td>\n",
              "      <td>0.600000</td>\n",
              "      <td>1.300000</td>\n",
              "      <td>194.500000</td>\n",
              "      <td>143.750000</td>\n",
              "      <td>244.875000</td>\n",
              "      <td>126.500000</td>\n",
              "      <td>11.312500</td>\n",
              "      <td>13.825000</td>\n",
              "      <td>35.02500</td>\n",
              "      <td>27.825000</td>\n",
              "      <td>36.750000</td>\n",
              "      <td>0.917500</td>\n",
              "      <td>0.846000</td>\n",
              "      <td>0.075000</td>\n",
              "      <td>0.200000</td>\n",
              "      <td>0.237000</td>\n",
              "      <td>14.500000</td>\n",
              "      <td>24.500000</td>\n",
              "      <td>0.210000</td>\n",
              "    </tr>\n",
              "    <tr>\n",
              "      <th>max</th>\n",
              "      <td>199.000000</td>\n",
              "      <td>100.000000</td>\n",
              "      <td>1.000000</td>\n",
              "      <td>1.00000</td>\n",
              "      <td>1.000000</td>\n",
              "      <td>1.000000</td>\n",
              "      <td>1.000000</td>\n",
              "      <td>1.000000</td>\n",
              "      <td>1.000000</td>\n",
              "      <td>1.000000</td>\n",
              "      <td>5.600000</td>\n",
              "      <td>1.000000</td>\n",
              "      <td>1.000000</td>\n",
              "      <td>1.000000</td>\n",
              "      <td>39.000000</td>\n",
              "      <td>40.500000</td>\n",
              "      <td>1.000000</td>\n",
              "      <td>1.000000</td>\n",
              "      <td>1.000000</td>\n",
              "      <td>1.000000</td>\n",
              "      <td>1.000000</td>\n",
              "      <td>1.000000</td>\n",
              "      <td>1.000000</td>\n",
              "      <td>1.000000</td>\n",
              "      <td>1.000000</td>\n",
              "      <td>1.000000</td>\n",
              "      <td>1.00000</td>\n",
              "      <td>1.000000</td>\n",
              "      <td>1.000000</td>\n",
              "      <td>1.000000</td>\n",
              "      <td>16.600000</td>\n",
              "      <td>14.490000</td>\n",
              "      <td>27.500000</td>\n",
              "      <td>30.600000</td>\n",
              "      <td>30.600000</td>\n",
              "      <td>30.600000</td>\n",
              "      <td>363.000000</td>\n",
              "      <td>363.000000</td>\n",
              "      <td>503.000000</td>\n",
              "      <td>163.000000</td>\n",
              "      <td>...</td>\n",
              "      <td>1.000000</td>\n",
              "      <td>1.000000</td>\n",
              "      <td>1.000000</td>\n",
              "      <td>0.817000</td>\n",
              "      <td>NaN</td>\n",
              "      <td>NaN</td>\n",
              "      <td>NaN</td>\n",
              "      <td>NaN</td>\n",
              "      <td>NaN</td>\n",
              "      <td>NaN</td>\n",
              "      <td>NaN</td>\n",
              "      <td>NaN</td>\n",
              "      <td>NaN</td>\n",
              "      <td>NaN</td>\n",
              "      <td>NaN</td>\n",
              "      <td>NaN</td>\n",
              "      <td>NaN</td>\n",
              "      <td>NaN</td>\n",
              "      <td>NaN</td>\n",
              "      <td>NaN</td>\n",
              "      <td>NaN</td>\n",
              "      <td>0.810000</td>\n",
              "      <td>1.540000</td>\n",
              "      <td>221.000000</td>\n",
              "      <td>160.000000</td>\n",
              "      <td>268.000000</td>\n",
              "      <td>132.000000</td>\n",
              "      <td>11.350000</td>\n",
              "      <td>13.900000</td>\n",
              "      <td>37.50000</td>\n",
              "      <td>39.000000</td>\n",
              "      <td>61.000000</td>\n",
              "      <td>1.000000</td>\n",
              "      <td>1.000000</td>\n",
              "      <td>0.090000</td>\n",
              "      <td>0.421000</td>\n",
              "      <td>0.600000</td>\n",
              "      <td>34.000000</td>\n",
              "      <td>52.000000</td>\n",
              "      <td>1.000000</td>\n",
              "    </tr>\n",
              "  </tbody>\n",
              "</table>\n",
              "<p>8 rows × 86 columns</p>\n",
              "</div>"
            ],
            "text/plain": [
              "               ID    Mean Age  ...  Unnamed: 89  Unnamed: 90\n",
              "count  475.000000  252.000000  ...    15.000000    36.000000\n",
              "mean    94.324211   51.093536  ...    20.873333     0.142222\n",
              "std     51.058213   18.572915  ...    10.863995     0.255568\n",
              "min      1.000000    0.170000  ...     4.100000     0.000000\n",
              "25%     58.500000   43.300000  ...    15.500000     0.000000\n",
              "50%     96.000000   52.450000  ...    21.000000     0.010000\n",
              "75%    131.500000   64.000000  ...    24.500000     0.210000\n",
              "max    199.000000  100.000000  ...    52.000000     1.000000\n",
              "\n",
              "[8 rows x 86 columns]"
            ]
          },
          "metadata": {
            "tags": []
          },
          "execution_count": 519
        }
      ]
    },
    {
      "cell_type": "code",
      "metadata": {
        "colab": {
          "base_uri": "https://localhost:8080/"
        },
        "id": "tmbwTSXONicl",
        "outputId": "cf5e3f8c-399b-4e2d-d1e0-11df87dfd3a2"
      },
      "source": [
        "df.isnull().sum()"
      ],
      "execution_count": 520,
      "outputs": [
        {
          "output_type": "execute_result",
          "data": {
            "text/plain": [
              "ID               0\n",
              "Severity        17\n",
              "Ventilation    174\n",
              "Mean Age       223\n",
              "% Male          45\n",
              "              ... \n",
              "Unnamed: 86    462\n",
              "Unnamed: 87    464\n",
              "Unnamed: 88    467\n",
              "Unnamed: 89    460\n",
              "Unnamed: 90    439\n",
              "Length: 91, dtype: int64"
            ]
          },
          "metadata": {
            "tags": []
          },
          "execution_count": 520
        }
      ]
    },
    {
      "cell_type": "code",
      "metadata": {
        "colab": {
          "base_uri": "https://localhost:8080/"
        },
        "id": "PXvNpR-VNksl",
        "outputId": "30225d33-81ed-4afa-9dcd-2b32c14e1bea"
      },
      "source": [
        "df.shape"
      ],
      "execution_count": 521,
      "outputs": [
        {
          "output_type": "execute_result",
          "data": {
            "text/plain": [
              "(475, 91)"
            ]
          },
          "metadata": {
            "tags": []
          },
          "execution_count": 521
        }
      ]
    },
    {
      "cell_type": "code",
      "metadata": {
        "colab": {
          "base_uri": "https://localhost:8080/"
        },
        "id": "ymYg9qcyNpMB",
        "outputId": "96928e4b-b878-402a-8e57-6f110970f016"
      },
      "source": [
        "df.columns"
      ],
      "execution_count": 522,
      "outputs": [
        {
          "output_type": "execute_result",
          "data": {
            "text/plain": [
              "Index(['ID', 'Severity', 'Ventilation', 'Mean Age', '% Male',\n",
              "       'Any Comorbidity', 'Hypertension', 'Diabetes',\n",
              "       'Cardiovascular Disease (incl. CAD)', 'Chronic obstructive lung (COPD)',\n",
              "       'Cancer (Any)', 'Liver Disease (any)', 'Cerebrovascular Disease',\n",
              "       'Chronic kidney/renal disease', 'Other', 'Fever (temperature ≥37·3°C)',\n",
              "       'Average temperature (celsius)', 'Max temperature (celsius)',\n",
              "       'Respiratory rate > 24 breaths per min', 'Cough',\n",
              "       'Shortness of Breath (dyspnoea)', 'Headache', 'Sputum (/Expectoration)',\n",
              "       'Myalgia (Muscle Pain)', 'Fatigue', 'Diarrhoea', 'Nausea or Vomiting',\n",
              "       'Loss of Appetite/Anorexia', 'Disease Severity Asymptomatic',\n",
              "       'Disease Severity General', 'Disease Severity Severe',\n",
              "       'Disease Severity Critical', 'White Blood Cell Count (10^9/L) - Median',\n",
              "       'White Blood Cell Count (10^9/L) - LQ',\n",
              "       'White Blood Cell Count (10^9/L) - UQ',\n",
              "       'Lymphocyte Count (10^9/L) - Median', 'Lymphocyte Count (10^9/L) - LQ',\n",
              "       'Lymphocyte Count (10^9/L) - UQ', 'Platelet Count (10^9/L) - Median',\n",
              "       'Platelet Count (10^9/L) - LQ', 'Platelet Count (10^9/L) - UQ',\n",
              "       'Hemoglobin (g/L) - Median', 'Hemoglobin (g/L) - LQ',\n",
              "       'Hemoglobin (g/L) - UQ', 'Albumin (g/L)',\n",
              "       'Alanine Aminotransferase (U/L)', 'Aspartate Aminotransferase (U/L)',\n",
              "       'Antibiotic', 'Antiviral (Any)', 'Heart failure',\n",
              "       'Acute kidney injury (AKI)', 'Secondary infection/ Bacterial infection',\n",
              "       'ICU length of stay, days', 'Hospital length of stay, days',\n",
              "       'Mortality', 'Unnamed: 55', 'Unnamed: 56', 'Unnamed: 57', 'Unnamed: 58',\n",
              "       'Unnamed: 59', 'Unnamed: 60', 'Unnamed: 61', 'Unnamed: 62',\n",
              "       'Unnamed: 63', 'Unnamed: 64', 'Unnamed: 65', 'Unnamed: 66',\n",
              "       'Unnamed: 67', 'Unnamed: 68', 'Unnamed: 69', 'Unnamed: 70',\n",
              "       'Unnamed: 71', 'Unnamed: 72', 'Unnamed: 73', 'Unnamed: 74',\n",
              "       'Unnamed: 75', 'Unnamed: 76', 'Unnamed: 77', 'Unnamed: 78',\n",
              "       'Unnamed: 79', 'Unnamed: 80', 'Unnamed: 81', 'Unnamed: 82',\n",
              "       'Unnamed: 83', 'Unnamed: 84', 'Unnamed: 85', 'Unnamed: 86',\n",
              "       'Unnamed: 87', 'Unnamed: 88', 'Unnamed: 89', 'Unnamed: 90'],\n",
              "      dtype='object')"
            ]
          },
          "metadata": {
            "tags": []
          },
          "execution_count": 522
        }
      ]
    },
    {
      "cell_type": "code",
      "metadata": {
        "colab": {
          "base_uri": "https://localhost:8080/"
        },
        "id": "TK6rkZg1N68X",
        "outputId": "7e9dfa5d-2069-4c98-b547-317051b28b6d"
      },
      "source": [
        "df.info()"
      ],
      "execution_count": 523,
      "outputs": [
        {
          "output_type": "stream",
          "text": [
            "<class 'pandas.core.frame.DataFrame'>\n",
            "RangeIndex: 475 entries, 0 to 474\n",
            "Data columns (total 91 columns):\n",
            " #   Column                                    Non-Null Count  Dtype  \n",
            "---  ------                                    --------------  -----  \n",
            " 0   ID                                        475 non-null    int64  \n",
            " 1   Severity                                  458 non-null    object \n",
            " 2   Ventilation                               301 non-null    object \n",
            " 3   Mean Age                                  252 non-null    float64\n",
            " 4   % Male                                    430 non-null    float64\n",
            " 5   Any Comorbidity                           222 non-null    float64\n",
            " 6   Hypertension                              309 non-null    float64\n",
            " 7   Diabetes                                  325 non-null    float64\n",
            " 8   Cardiovascular Disease (incl. CAD)        295 non-null    float64\n",
            " 9   Chronic obstructive lung (COPD)           262 non-null    float64\n",
            " 10  Cancer (Any)                              233 non-null    float64\n",
            " 11  Liver Disease (any)                       192 non-null    float64\n",
            " 12  Cerebrovascular Disease                   173 non-null    float64\n",
            " 13  Chronic kidney/renal disease              250 non-null    float64\n",
            " 14  Other                                     199 non-null    float64\n",
            " 15  Fever (temperature ≥37·3°C)               356 non-null    float64\n",
            " 16  Average temperature (celsius)             64 non-null     float64\n",
            " 17  Max temperature (celsius)                 54 non-null     float64\n",
            " 18  Respiratory rate > 24 breaths per min     38 non-null     float64\n",
            " 19  Cough                                     340 non-null    float64\n",
            " 20  Shortness of Breath (dyspnoea)            243 non-null    float64\n",
            " 21  Headache                                  175 non-null    float64\n",
            " 22  Sputum (/Expectoration)                   160 non-null    float64\n",
            " 23  Myalgia (Muscle Pain)                     197 non-null    float64\n",
            " 24  Fatigue                                   221 non-null    float64\n",
            " 25  Diarrhoea                                 260 non-null    float64\n",
            " 26  Nausea or Vomiting                        171 non-null    float64\n",
            " 27  Loss of Appetite/Anorexia                 81 non-null     float64\n",
            " 28  Disease Severity Asymptomatic             167 non-null    float64\n",
            " 29  Disease Severity General                  229 non-null    float64\n",
            " 30  Disease Severity Severe                   214 non-null    float64\n",
            " 31  Disease Severity Critical                 199 non-null    float64\n",
            " 32  White Blood Cell Count (10^9/L) - Median  284 non-null    float64\n",
            " 33  White Blood Cell Count (10^9/L) - LQ      253 non-null    float64\n",
            " 34  White Blood Cell Count (10^9/L) - UQ      251 non-null    float64\n",
            " 35  Lymphocyte Count (10^9/L) - Median        289 non-null    float64\n",
            " 36  Lymphocyte Count (10^9/L) - LQ            237 non-null    float64\n",
            " 37  Lymphocyte Count (10^9/L) - UQ            237 non-null    float64\n",
            " 38  Platelet Count (10^9/L) - Median          180 non-null    float64\n",
            " 39  Platelet Count (10^9/L) - LQ              162 non-null    float64\n",
            " 40  Platelet Count (10^9/L) - UQ              162 non-null    float64\n",
            " 41  Hemoglobin (g/L) - Median                 134 non-null    float64\n",
            " 42  Hemoglobin (g/L) - LQ                     123 non-null    float64\n",
            " 43  Hemoglobin (g/L) - UQ                     123 non-null    float64\n",
            " 44  Albumin (g/L)                             113 non-null    float64\n",
            " 45  Alanine Aminotransferase (U/L)            184 non-null    float64\n",
            " 46  Aspartate Aminotransferase (U/L)          176 non-null    float64\n",
            " 47  Antibiotic                                148 non-null    float64\n",
            " 48  Antiviral (Any)                           199 non-null    float64\n",
            " 49  Heart failure                             76 non-null     float64\n",
            " 50  Acute kidney injury (AKI)                 101 non-null    float64\n",
            " 51  Secondary infection/ Bacterial infection  43 non-null     float64\n",
            " 52  ICU length of stay, days                  31 non-null     object \n",
            " 53  Hospital length of stay, days             183 non-null    object \n",
            " 54  Mortality                                 475 non-null    object \n",
            " 55  Unnamed: 55                               0 non-null      float64\n",
            " 56  Unnamed: 56                               0 non-null      float64\n",
            " 57  Unnamed: 57                               0 non-null      float64\n",
            " 58  Unnamed: 58                               0 non-null      float64\n",
            " 59  Unnamed: 59                               0 non-null      float64\n",
            " 60  Unnamed: 60                               0 non-null      float64\n",
            " 61  Unnamed: 61                               0 non-null      float64\n",
            " 62  Unnamed: 62                               0 non-null      float64\n",
            " 63  Unnamed: 63                               0 non-null      float64\n",
            " 64  Unnamed: 64                               0 non-null      float64\n",
            " 65  Unnamed: 65                               0 non-null      float64\n",
            " 66  Unnamed: 66                               0 non-null      float64\n",
            " 67  Unnamed: 67                               0 non-null      float64\n",
            " 68  Unnamed: 68                               0 non-null      float64\n",
            " 69  Unnamed: 69                               0 non-null      float64\n",
            " 70  Unnamed: 70                               0 non-null      float64\n",
            " 71  Unnamed: 71                               0 non-null      float64\n",
            " 72  Unnamed: 72                               9 non-null      float64\n",
            " 73  Unnamed: 73                               9 non-null      float64\n",
            " 74  Unnamed: 74                               11 non-null     float64\n",
            " 75  Unnamed: 75                               10 non-null     float64\n",
            " 76  Unnamed: 76                               10 non-null     float64\n",
            " 77  Unnamed: 77                               8 non-null      float64\n",
            " 78  Unnamed: 78                               4 non-null      float64\n",
            " 79  Unnamed: 79                               4 non-null      float64\n",
            " 80  Unnamed: 80                               4 non-null      float64\n",
            " 81  Unnamed: 81                               14 non-null     float64\n",
            " 82  Unnamed: 82                               14 non-null     float64\n",
            " 83  Unnamed: 83                               4 non-null      float64\n",
            " 84  Unnamed: 84                               9 non-null      float64\n",
            " 85  Unnamed: 85                               3 non-null      float64\n",
            " 86  Unnamed: 86                               13 non-null     float64\n",
            " 87  Unnamed: 87                               11 non-null     float64\n",
            " 88  Unnamed: 88                               8 non-null      float64\n",
            " 89  Unnamed: 89                               15 non-null     float64\n",
            " 90  Unnamed: 90                               36 non-null     float64\n",
            "dtypes: float64(85), int64(1), object(5)\n",
            "memory usage: 337.8+ KB\n"
          ],
          "name": "stdout"
        }
      ]
    },
    {
      "cell_type": "code",
      "metadata": {
        "id": "9bxkvNDTOEYE"
      },
      "source": [
        "from collections import Counter"
      ],
      "execution_count": 131,
      "outputs": []
    },
    {
      "cell_type": "code",
      "metadata": {
        "colab": {
          "base_uri": "https://localhost:8080/"
        },
        "id": "UQlErnbzOWld",
        "outputId": "0bd66ea3-38c0-47a2-c33b-79f62e1a338e"
      },
      "source": [
        "Counter(df['Mortality'])"
      ],
      "execution_count": 524,
      "outputs": [
        {
          "output_type": "execute_result",
          "data": {
            "text/plain": [
              "Counter({0: 248,\n",
              "         '0%%': 1,\n",
              "         0.01: 28,\n",
              "         0.02: 4,\n",
              "         0.03: 3,\n",
              "         0.04: 3,\n",
              "         0.05: 4,\n",
              "         0.06: 4,\n",
              "         0.07: 8,\n",
              "         0.08: 4,\n",
              "         0.09: 4,\n",
              "         0.1: 4,\n",
              "         0.11: 6,\n",
              "         0.12: 3,\n",
              "         0.14: 4,\n",
              "         0.15: 5,\n",
              "         0.16: 1,\n",
              "         0.17: 2,\n",
              "         0.18: 1,\n",
              "         0.19: 1,\n",
              "         0.2: 10,\n",
              "         0.21: 1,\n",
              "         0.22: 3,\n",
              "         0.23: 7,\n",
              "         0.25: 4,\n",
              "         0.26: 1,\n",
              "         0.27: 1,\n",
              "         0.28: 4,\n",
              "         0.29: 2,\n",
              "         0.3: 2,\n",
              "         0.32: 1,\n",
              "         0.34: 4,\n",
              "         0.35: 2,\n",
              "         0.36: 5,\n",
              "         0.38: 1,\n",
              "         0.39: 1,\n",
              "         0.4: 2,\n",
              "         0.41: 1,\n",
              "         0.42: 1,\n",
              "         0.45: 3,\n",
              "         0.47: 1,\n",
              "         0.48: 1,\n",
              "         0.49: 1,\n",
              "         0.5: 1,\n",
              "         0.51: 2,\n",
              "         0.52: 2,\n",
              "         0.54: 1,\n",
              "         0.55: 1,\n",
              "         0.56: 4,\n",
              "         0.58: 1,\n",
              "         0.6: 2,\n",
              "         0.62: 1,\n",
              "         0.63: 1,\n",
              "         0.64: 1,\n",
              "         0.66: 1,\n",
              "         0.67: 1,\n",
              "         0.7: 3,\n",
              "         0.76: 1,\n",
              "         0.79: 1,\n",
              "         0.9: 1,\n",
              "         1: 50,\n",
              "         'na': 3})"
            ]
          },
          "metadata": {
            "tags": []
          },
          "execution_count": 524
        }
      ]
    },
    {
      "cell_type": "code",
      "metadata": {
        "id": "n98yZCXIOk8f"
      },
      "source": [
        "df['Mortality']=df['Mortality'].dropna()"
      ],
      "execution_count": 525,
      "outputs": []
    },
    {
      "cell_type": "code",
      "metadata": {
        "colab": {
          "base_uri": "https://localhost:8080/"
        },
        "id": "KLDODJ6jO0NT",
        "outputId": "de68eafa-7439-4c63-d427-e9a929c152ef"
      },
      "source": [
        "df['Mortality'].shape"
      ],
      "execution_count": 526,
      "outputs": [
        {
          "output_type": "execute_result",
          "data": {
            "text/plain": [
              "(475,)"
            ]
          },
          "metadata": {
            "tags": []
          },
          "execution_count": 526
        }
      ]
    },
    {
      "cell_type": "code",
      "metadata": {
        "id": "GxGDAr7bPuEX"
      },
      "source": [
        "df['Mortality'].dropna(inplace=True)"
      ],
      "execution_count": 527,
      "outputs": []
    },
    {
      "cell_type": "code",
      "metadata": {
        "colab": {
          "base_uri": "https://localhost:8080/"
        },
        "id": "J4A4ESX3P0EM",
        "outputId": "c3408d76-1fe2-426b-8497-b537f8cb44ce"
      },
      "source": [
        "type(df['Mortality'])"
      ],
      "execution_count": 136,
      "outputs": [
        {
          "output_type": "execute_result",
          "data": {
            "text/plain": [
              "pandas.core.series.Series"
            ]
          },
          "metadata": {
            "tags": []
          },
          "execution_count": 136
        }
      ]
    },
    {
      "cell_type": "code",
      "metadata": {
        "id": "R8PCZrunZ-T1"
      },
      "source": [
        "df.drop(df[df['Mortality']=='0%%'].index,inplace=True)"
      ],
      "execution_count": 530,
      "outputs": []
    },
    {
      "cell_type": "code",
      "metadata": {
        "id": "wOp_EUgjRqSe"
      },
      "source": [
        "df.drop(df[df['Mortality']=='na'].index,inplace=True)"
      ],
      "execution_count": 531,
      "outputs": []
    },
    {
      "cell_type": "code",
      "metadata": {
        "id": "4xLKZxh3Rz9K"
      },
      "source": [
        "df['Mortality']=df['Mortality'].astype(np.float64)"
      ],
      "execution_count": 532,
      "outputs": []
    },
    {
      "cell_type": "code",
      "metadata": {
        "colab": {
          "base_uri": "https://localhost:8080/"
        },
        "id": "wrGRCPV9IBdm",
        "outputId": "138b434e-e3ba-4a92-8e9d-a4bbe0ddc611"
      },
      "source": [
        "df['Mortality'].shape"
      ],
      "execution_count": 533,
      "outputs": [
        {
          "output_type": "execute_result",
          "data": {
            "text/plain": [
              "(471,)"
            ]
          },
          "metadata": {
            "tags": []
          },
          "execution_count": 533
        }
      ]
    },
    {
      "cell_type": "code",
      "metadata": {
        "colab": {
          "base_uri": "https://localhost:8080/"
        },
        "id": "DhW35JDeTHz4",
        "outputId": "f98dd2b3-0272-4918-f98d-816760c35567"
      },
      "source": [
        "df.shape"
      ],
      "execution_count": 535,
      "outputs": [
        {
          "output_type": "execute_result",
          "data": {
            "text/plain": [
              "(471, 91)"
            ]
          },
          "metadata": {
            "tags": []
          },
          "execution_count": 535
        }
      ]
    },
    {
      "cell_type": "code",
      "metadata": {
        "id": "gVe9qe9UVT2O"
      },
      "source": [
        "null_data=int(.6*df.shape[0])"
      ],
      "execution_count": 536,
      "outputs": []
    },
    {
      "cell_type": "code",
      "metadata": {
        "colab": {
          "base_uri": "https://localhost:8080/"
        },
        "id": "puGeHWA6ZE_S",
        "outputId": "69a89cb0-fbbb-4039-da2e-a9284bce302a"
      },
      "source": [
        "null_data"
      ],
      "execution_count": 537,
      "outputs": [
        {
          "output_type": "execute_result",
          "data": {
            "text/plain": [
              "282"
            ]
          },
          "metadata": {
            "tags": []
          },
          "execution_count": 537
        }
      ]
    },
    {
      "cell_type": "code",
      "metadata": {
        "colab": {
          "base_uri": "https://localhost:8080/"
        },
        "id": "AhJ_QWpEZG5i",
        "outputId": "3654de68-1cc9-48ad-d979-35b899794652"
      },
      "source": [
        "471-null_data"
      ],
      "execution_count": 538,
      "outputs": [
        {
          "output_type": "execute_result",
          "data": {
            "text/plain": [
              "189"
            ]
          },
          "metadata": {
            "tags": []
          },
          "execution_count": 538
        }
      ]
    },
    {
      "cell_type": "code",
      "metadata": {
        "colab": {
          "base_uri": "https://localhost:8080/"
        },
        "id": "y9YvSY2QXvZa",
        "outputId": "003bcd97-3cb7-43a6-b9d6-fc62e3b9f7cb"
      },
      "source": [
        "df.columns"
      ],
      "execution_count": 539,
      "outputs": [
        {
          "output_type": "execute_result",
          "data": {
            "text/plain": [
              "Index(['ID', 'Severity', 'Ventilation', 'Mean Age', '% Male',\n",
              "       'Any Comorbidity', 'Hypertension', 'Diabetes',\n",
              "       'Cardiovascular Disease (incl. CAD)', 'Chronic obstructive lung (COPD)',\n",
              "       'Cancer (Any)', 'Liver Disease (any)', 'Cerebrovascular Disease',\n",
              "       'Chronic kidney/renal disease', 'Other', 'Fever (temperature ≥37·3°C)',\n",
              "       'Average temperature (celsius)', 'Max temperature (celsius)',\n",
              "       'Respiratory rate > 24 breaths per min', 'Cough',\n",
              "       'Shortness of Breath (dyspnoea)', 'Headache', 'Sputum (/Expectoration)',\n",
              "       'Myalgia (Muscle Pain)', 'Fatigue', 'Diarrhoea', 'Nausea or Vomiting',\n",
              "       'Loss of Appetite/Anorexia', 'Disease Severity Asymptomatic',\n",
              "       'Disease Severity General', 'Disease Severity Severe',\n",
              "       'Disease Severity Critical', 'White Blood Cell Count (10^9/L) - Median',\n",
              "       'White Blood Cell Count (10^9/L) - LQ',\n",
              "       'White Blood Cell Count (10^9/L) - UQ',\n",
              "       'Lymphocyte Count (10^9/L) - Median', 'Lymphocyte Count (10^9/L) - LQ',\n",
              "       'Lymphocyte Count (10^9/L) - UQ', 'Platelet Count (10^9/L) - Median',\n",
              "       'Platelet Count (10^9/L) - LQ', 'Platelet Count (10^9/L) - UQ',\n",
              "       'Hemoglobin (g/L) - Median', 'Hemoglobin (g/L) - LQ',\n",
              "       'Hemoglobin (g/L) - UQ', 'Albumin (g/L)',\n",
              "       'Alanine Aminotransferase (U/L)', 'Aspartate Aminotransferase (U/L)',\n",
              "       'Antibiotic', 'Antiviral (Any)', 'Heart failure',\n",
              "       'Acute kidney injury (AKI)', 'Secondary infection/ Bacterial infection',\n",
              "       'ICU length of stay, days', 'Hospital length of stay, days',\n",
              "       'Mortality', 'Unnamed: 55', 'Unnamed: 56', 'Unnamed: 57', 'Unnamed: 58',\n",
              "       'Unnamed: 59', 'Unnamed: 60', 'Unnamed: 61', 'Unnamed: 62',\n",
              "       'Unnamed: 63', 'Unnamed: 64', 'Unnamed: 65', 'Unnamed: 66',\n",
              "       'Unnamed: 67', 'Unnamed: 68', 'Unnamed: 69', 'Unnamed: 70',\n",
              "       'Unnamed: 71', 'Unnamed: 72', 'Unnamed: 73', 'Unnamed: 74',\n",
              "       'Unnamed: 75', 'Unnamed: 76', 'Unnamed: 77', 'Unnamed: 78',\n",
              "       'Unnamed: 79', 'Unnamed: 80', 'Unnamed: 81', 'Unnamed: 82',\n",
              "       'Unnamed: 83', 'Unnamed: 84', 'Unnamed: 85', 'Unnamed: 86',\n",
              "       'Unnamed: 87', 'Unnamed: 88', 'Unnamed: 89', 'Unnamed: 90'],\n",
              "      dtype='object')"
            ]
          },
          "metadata": {
            "tags": []
          },
          "execution_count": 539
        }
      ]
    },
    {
      "cell_type": "code",
      "metadata": {
        "id": "R5cPWdsBTT7J"
      },
      "source": [
        "for i in df.columns:\n",
        "  if(df[i].isnull().sum()>(df.shape[0]-null_data)):\n",
        "    df.drop([i],inplace=True,axis=1)\n",
        "  else:\n",
        "    pass  "
      ],
      "execution_count": 540,
      "outputs": []
    },
    {
      "cell_type": "code",
      "metadata": {
        "colab": {
          "base_uri": "https://localhost:8080/"
        },
        "id": "Q4HDPfYFWeP8",
        "outputId": "54ca9ae1-0f64-4e57-b7ea-06935b733671"
      },
      "source": [
        "df.info()"
      ],
      "execution_count": 542,
      "outputs": [
        {
          "output_type": "stream",
          "text": [
            "<class 'pandas.core.frame.DataFrame'>\n",
            "Int64Index: 471 entries, 0 to 474\n",
            "Data columns (total 11 columns):\n",
            " #   Column                              Non-Null Count  Dtype  \n",
            "---  ------                              --------------  -----  \n",
            " 0   ID                                  471 non-null    int64  \n",
            " 1   Severity                            454 non-null    object \n",
            " 2   Ventilation                         297 non-null    object \n",
            " 3   % Male                              426 non-null    float64\n",
            " 4   Hypertension                        305 non-null    float64\n",
            " 5   Diabetes                            321 non-null    float64\n",
            " 6   Cardiovascular Disease (incl. CAD)  294 non-null    float64\n",
            " 7   Fever (temperature ≥37·3°C)         355 non-null    float64\n",
            " 8   Cough                               339 non-null    float64\n",
            " 9   Lymphocyte Count (10^9/L) - Median  288 non-null    float64\n",
            " 10  Mortality                           471 non-null    float64\n",
            "dtypes: float64(8), int64(1), object(2)\n",
            "memory usage: 44.2+ KB\n"
          ],
          "name": "stdout"
        }
      ]
    },
    {
      "cell_type": "code",
      "metadata": {
        "id": "pWqbXmksWnb9"
      },
      "source": [
        "df=df.drop(['ID'],axis=1)"
      ],
      "execution_count": 544,
      "outputs": []
    },
    {
      "cell_type": "code",
      "metadata": {
        "colab": {
          "base_uri": "https://localhost:8080/",
          "height": 246
        },
        "id": "U1qpweLCakNm",
        "outputId": "081911db-0242-4021-a65c-c09ba038d28f"
      },
      "source": [
        "df.head()"
      ],
      "execution_count": 545,
      "outputs": [
        {
          "output_type": "execute_result",
          "data": {
            "text/html": [
              "<div>\n",
              "<style scoped>\n",
              "    .dataframe tbody tr th:only-of-type {\n",
              "        vertical-align: middle;\n",
              "    }\n",
              "\n",
              "    .dataframe tbody tr th {\n",
              "        vertical-align: top;\n",
              "    }\n",
              "\n",
              "    .dataframe thead th {\n",
              "        text-align: right;\n",
              "    }\n",
              "</style>\n",
              "<table border=\"1\" class=\"dataframe\">\n",
              "  <thead>\n",
              "    <tr style=\"text-align: right;\">\n",
              "      <th></th>\n",
              "      <th>Severity</th>\n",
              "      <th>Ventilation</th>\n",
              "      <th>% Male</th>\n",
              "      <th>Hypertension</th>\n",
              "      <th>Diabetes</th>\n",
              "      <th>Cardiovascular Disease (incl. CAD)</th>\n",
              "      <th>Fever (temperature ≥37·3°C)</th>\n",
              "      <th>Cough</th>\n",
              "      <th>Lymphocyte Count (10^9/L) - Median</th>\n",
              "      <th>Mortality</th>\n",
              "    </tr>\n",
              "  </thead>\n",
              "  <tbody>\n",
              "    <tr>\n",
              "      <th>0</th>\n",
              "      <td>All</td>\n",
              "      <td>Both</td>\n",
              "      <td>0.6230</td>\n",
              "      <td>0.3000</td>\n",
              "      <td>0.1900</td>\n",
              "      <td>0.0800</td>\n",
              "      <td>0.9400</td>\n",
              "      <td>0.7900</td>\n",
              "      <td>1.0</td>\n",
              "      <td>0.28</td>\n",
              "    </tr>\n",
              "    <tr>\n",
              "      <th>1</th>\n",
              "      <td>Severe/Critical Only</td>\n",
              "      <td>Both</td>\n",
              "      <td>0.7037</td>\n",
              "      <td>0.4815</td>\n",
              "      <td>0.3148</td>\n",
              "      <td>0.2407</td>\n",
              "      <td>0.9444</td>\n",
              "      <td>0.7222</td>\n",
              "      <td>0.6</td>\n",
              "      <td>1.00</td>\n",
              "    </tr>\n",
              "    <tr>\n",
              "      <th>2</th>\n",
              "      <td>All</td>\n",
              "      <td>Both</td>\n",
              "      <td>0.5912</td>\n",
              "      <td>0.2336</td>\n",
              "      <td>0.1387</td>\n",
              "      <td>0.0146</td>\n",
              "      <td>0.9416</td>\n",
              "      <td>0.8175</td>\n",
              "      <td>1.1</td>\n",
              "      <td>0.00</td>\n",
              "    </tr>\n",
              "    <tr>\n",
              "      <th>3</th>\n",
              "      <td>All</td>\n",
              "      <td>Both</td>\n",
              "      <td>0.6030</td>\n",
              "      <td>NaN</td>\n",
              "      <td>0.1160</td>\n",
              "      <td>NaN</td>\n",
              "      <td>0.9150</td>\n",
              "      <td>NaN</td>\n",
              "      <td>0.9</td>\n",
              "      <td>0.16</td>\n",
              "    </tr>\n",
              "    <tr>\n",
              "      <th>4</th>\n",
              "      <td>All</td>\n",
              "      <td>Both</td>\n",
              "      <td>0.6160</td>\n",
              "      <td>NaN</td>\n",
              "      <td>0.1010</td>\n",
              "      <td>NaN</td>\n",
              "      <td>0.8990</td>\n",
              "      <td>NaN</td>\n",
              "      <td>0.8</td>\n",
              "      <td>0.15</td>\n",
              "    </tr>\n",
              "  </tbody>\n",
              "</table>\n",
              "</div>"
            ],
            "text/plain": [
              "               Severity  ... Mortality\n",
              "0                   All  ...      0.28\n",
              "1  Severe/Critical Only  ...      1.00\n",
              "2                   All  ...      0.00\n",
              "3                   All  ...      0.16\n",
              "4                   All  ...      0.15\n",
              "\n",
              "[5 rows x 10 columns]"
            ]
          },
          "metadata": {
            "tags": []
          },
          "execution_count": 545
        }
      ]
    },
    {
      "cell_type": "code",
      "metadata": {
        "id": "4BOafDkJarm0"
      },
      "source": [
        "import matplotlib.pyplot as plt\n"
      ],
      "execution_count": 546,
      "outputs": []
    },
    {
      "cell_type": "code",
      "metadata": {
        "id": "ePzcvPEBYHjs"
      },
      "source": [
        "import seaborn as sns\n"
      ],
      "execution_count": 547,
      "outputs": []
    },
    {
      "cell_type": "code",
      "metadata": {
        "colab": {
          "base_uri": "https://localhost:8080/",
          "height": 623
        },
        "id": "RYgruU4tY5v1",
        "outputId": "42bc0a83-ccd0-4bb0-82d7-dd1bc58a5026"
      },
      "source": [
        "plt.figure(figsize=(14,10))\n",
        "sns.boxplot(x='Hypertension',y='Ventilation',data=df,orient='h')"
      ],
      "execution_count": 548,
      "outputs": [
        {
          "output_type": "execute_result",
          "data": {
            "text/plain": [
              "<matplotlib.axes._subplots.AxesSubplot at 0x7efe07cc7250>"
            ]
          },
          "metadata": {
            "tags": []
          },
          "execution_count": 548
        },
        {
          "output_type": "display_data",
          "data": {
            "image/png": "[encoded data removed]",
            "text/plain": [
              "<Figure size 1008x720 with 1 Axes>"
            ]
          },
          "metadata": {
            "tags": [],
            "needs_background": "light"
          }
        }
      ]
    },
    {
      "cell_type": "code",
      "metadata": {
        "colab": {
          "base_uri": "https://localhost:8080/",
          "height": 459
        },
        "id": "zct09X83a0nN",
        "outputId": "5fcf99e3-eec3-4e3b-db69-62a88dca9550"
      },
      "source": [
        "plt.figure(figsize=(10,7))\n",
        "sns.violinplot(x='% Male',y='Ventilation',data=df,orient='h')"
      ],
      "execution_count": 549,
      "outputs": [
        {
          "output_type": "execute_result",
          "data": {
            "text/plain": [
              "<matplotlib.axes._subplots.AxesSubplot at 0x7efde8a4b390>"
            ]
          },
          "metadata": {
            "tags": []
          },
          "execution_count": 549
        },
        {
          "output_type": "display_data",
          "data": {
            "image/png": "[encoded data removed]",
            "text/plain": [
              "<Figure size 720x504 with 1 Axes>"
            ]
          },
          "metadata": {
            "tags": [],
            "needs_background": "light"
          }
        }
      ]
    },
    {
      "cell_type": "code",
      "metadata": {
        "colab": {
          "base_uri": "https://localhost:8080/",
          "height": 417
        },
        "id": "2aFNWSz0boU8",
        "outputId": "e91ac494-c0c9-43a2-c055-588cdb1f646e"
      },
      "source": [
        "plt.figure(figsize=(14,10))\n",
        "sns.catplot(x='Mortality',y='Ventilation',data=df,orient='h')"
      ],
      "execution_count": 550,
      "outputs": [
        {
          "output_type": "execute_result",
          "data": {
            "text/plain": [
              "<seaborn.axisgrid.FacetGrid at 0x7efde6fbfd10>"
            ]
          },
          "metadata": {
            "tags": []
          },
          "execution_count": 550
        },
        {
          "output_type": "display_data",
          "data": {
            "text/plain": [
              "<Figure size 1008x720 with 0 Axes>"
            ]
          },
          "metadata": {
            "tags": []
          }
        },
        {
          "output_type": "display_data",
          "data": {
            "image/png": "[encoded data removed]",
            "text/plain": [
              "<Figure size 360x360 with 1 Axes>"
            ]
          },
          "metadata": {
            "tags": [],
            "needs_background": "light"
          }
        }
      ]
    },
    {
      "cell_type": "code",
      "metadata": {
        "colab": {
          "base_uri": "https://localhost:8080/"
        },
        "id": "GpXe0QjDeIIE",
        "outputId": "c22bcf27-53bd-4d03-ddd0-02a8acc820e1"
      },
      "source": [
        "Counter(df['Severity'])"
      ],
      "execution_count": 552,
      "outputs": [
        {
          "output_type": "execute_result",
          "data": {
            "text/plain": [
              "Counter({'All': 209,\n",
              "         'Asymptomatic only': 1,\n",
              "         'Both': 5,\n",
              "         'Mild': 2,\n",
              "         'Mild only': 91,\n",
              "         'Severe': 1,\n",
              "         'Severe/Critical Only': 143,\n",
              "         'Severe/critical only': 2,\n",
              "         nan: 17})"
            ]
          },
          "metadata": {
            "tags": []
          },
          "execution_count": 552
        }
      ]
    },
    {
      "cell_type": "code",
      "metadata": {
        "colab": {
          "base_uri": "https://localhost:8080/"
        },
        "id": "TYYcIzXLfSo6",
        "outputId": "fecd4c51-c2c5-42a8-d6a4-30dabba423d4"
      },
      "source": [
        "df.info()"
      ],
      "execution_count": 242,
      "outputs": [
        {
          "output_type": "stream",
          "text": [
            "<class 'pandas.core.frame.DataFrame'>\n",
            "Int64Index: 471 entries, 0 to 474\n",
            "Data columns (total 11 columns):\n",
            " #   Column                              Non-Null Count  Dtype  \n",
            "---  ------                              --------------  -----  \n",
            " 0   ID                                  471 non-null    int64  \n",
            " 1   Severity                            471 non-null    object \n",
            " 2   Ventilation                         471 non-null    object \n",
            " 3   % Male                              471 non-null    float64\n",
            " 4   Hypertension                        471 non-null    float64\n",
            " 5   Diabetes                            471 non-null    float64\n",
            " 6   Cardiovascular Disease (incl. CAD)  471 non-null    float64\n",
            " 7   Fever (temperature ≥37·3°C)         471 non-null    float64\n",
            " 8   Cough                               471 non-null    float64\n",
            " 9   Lymphocyte Count (10^9/L) - Median  471 non-null    float64\n",
            " 10  Mortality                           471 non-null    float64\n",
            "dtypes: float64(8), int64(1), object(2)\n",
            "memory usage: 64.2+ KB\n"
          ],
          "name": "stdout"
        }
      ]
    },
    {
      "cell_type": "code",
      "metadata": {
        "colab": {
          "base_uri": "https://localhost:8080/"
        },
        "id": "3pDMhsfydGw0",
        "outputId": "5e5f5753-07f3-4af8-b151-2e6734b93246"
      },
      "source": [
        "new_df['Hypertension']=new_df['Hypertension'].interpolate(method='linear',limit_direction='both')"
      ],
      "execution_count": 646,
      "outputs": [
        {
          "output_type": "stream",
          "text": [
            "/usr/local/lib/python3.7/dist-packages/ipykernel_launcher.py:1: SettingWithCopyWarning: \n",
            "A value is trying to be set on a copy of a slice from a DataFrame.\n",
            "Try using .loc[row_indexer,col_indexer] = value instead\n",
            "\n",
            "See the caveats in the documentation: https://pandas.pydata.org/pandas-docs/stable/user_guide/indexing.html#returning-a-view-versus-a-copy\n",
            "  \"\"\"Entry point for launching an IPython kernel.\n"
          ],
          "name": "stderr"
        }
      ]
    },
    {
      "cell_type": "code",
      "metadata": {
        "colab": {
          "base_uri": "https://localhost:8080/"
        },
        "id": "ngzicDLSdhYM",
        "outputId": "7c9be1c4-fcf7-4297-9308-9474b2382215"
      },
      "source": [
        "new_df['Diabetes']=new_df['Diabetes'].interpolate(method='polynomial',limit_direction='forward',order=2)"
      ],
      "execution_count": 647,
      "outputs": [
        {
          "output_type": "stream",
          "text": [
            "/usr/local/lib/python3.7/dist-packages/ipykernel_launcher.py:1: SettingWithCopyWarning: \n",
            "A value is trying to be set on a copy of a slice from a DataFrame.\n",
            "Try using .loc[row_indexer,col_indexer] = value instead\n",
            "\n",
            "See the caveats in the documentation: https://pandas.pydata.org/pandas-docs/stable/user_guide/indexing.html#returning-a-view-versus-a-copy\n",
            "  \"\"\"Entry point for launching an IPython kernel.\n"
          ],
          "name": "stderr"
        }
      ]
    },
    {
      "cell_type": "code",
      "metadata": {
        "colab": {
          "base_uri": "https://localhost:8080/"
        },
        "id": "p76viReHjBV7",
        "outputId": "e0e57b73-5531-4a34-d3ef-5b6036416a05"
      },
      "source": [
        "new_df['% Male']=new_df['% Male'].interpolate(method='values',limit_direction='backward')"
      ],
      "execution_count": 639,
      "outputs": [
        {
          "output_type": "stream",
          "text": [
            "/usr/local/lib/python3.7/dist-packages/ipykernel_launcher.py:1: SettingWithCopyWarning: \n",
            "A value is trying to be set on a copy of a slice from a DataFrame.\n",
            "Try using .loc[row_indexer,col_indexer] = value instead\n",
            "\n",
            "See the caveats in the documentation: https://pandas.pydata.org/pandas-docs/stable/user_guide/indexing.html#returning-a-view-versus-a-copy\n",
            "  \"\"\"Entry point for launching an IPython kernel.\n"
          ],
          "name": "stderr"
        }
      ]
    },
    {
      "cell_type": "code",
      "metadata": {
        "colab": {
          "base_uri": "https://localhost:8080/"
        },
        "id": "RvNkYebMOZ5L",
        "outputId": "1913cea1-f2cc-4bf2-984d-abe7cf0f01a3"
      },
      "source": [
        "new_df.isnull().sum()"
      ],
      "execution_count": 648,
      "outputs": [
        {
          "output_type": "execute_result",
          "data": {
            "text/plain": [
              "All                                   0\n",
              "Both                                  0\n",
              "Mild                                  0\n",
              "Mild only                             0\n",
              "Severe/Critical Only                  0\n",
              "Severe/critical only                  0\n",
              "Both                                  0\n",
              "No                                    0\n",
              "Non-ventilation only                  0\n",
              "Ventilation only                      0\n",
              "% Male                                0\n",
              "Hypertension                          0\n",
              "Diabetes                              0\n",
              "Cardiovascular Disease (incl. CAD)    0\n",
              "Fever (temperature ≥37·3°C)           0\n",
              "Cough                                 0\n",
              "Lymphocyte Count (10^9/L) - Median    0\n",
              "Mortality                             0\n",
              "dtype: int64"
            ]
          },
          "metadata": {
            "tags": []
          },
          "execution_count": 648
        }
      ]
    },
    {
      "cell_type": "code",
      "metadata": {
        "colab": {
          "base_uri": "https://localhost:8080/"
        },
        "id": "eYuFZBigjakt",
        "outputId": "d7ab6d59-5039-436a-8eac-e92d870e5637"
      },
      "source": [
        "new_df['Cardiovascular Disease (incl. CAD)']=new_df['Cardiovascular Disease (incl. CAD)'].interpolate(method='linear',limit_direction='both')"
      ],
      "execution_count": 641,
      "outputs": [
        {
          "output_type": "stream",
          "text": [
            "/usr/local/lib/python3.7/dist-packages/ipykernel_launcher.py:1: SettingWithCopyWarning: \n",
            "A value is trying to be set on a copy of a slice from a DataFrame.\n",
            "Try using .loc[row_indexer,col_indexer] = value instead\n",
            "\n",
            "See the caveats in the documentation: https://pandas.pydata.org/pandas-docs/stable/user_guide/indexing.html#returning-a-view-versus-a-copy\n",
            "  \"\"\"Entry point for launching an IPython kernel.\n"
          ],
          "name": "stderr"
        }
      ]
    },
    {
      "cell_type": "code",
      "metadata": {
        "colab": {
          "base_uri": "https://localhost:8080/"
        },
        "id": "Hiqk1BGKjyDr",
        "outputId": "d16ece21-1816-454b-aac0-80323c10487b"
      },
      "source": [
        "new_df['Fever (temperature ≥37·3°C)']=new_df['Fever (temperature ≥37·3°C)'].interpolate(method='cubic',limit_direction='both')"
      ],
      "execution_count": 642,
      "outputs": [
        {
          "output_type": "stream",
          "text": [
            "/usr/local/lib/python3.7/dist-packages/ipykernel_launcher.py:1: SettingWithCopyWarning: \n",
            "A value is trying to be set on a copy of a slice from a DataFrame.\n",
            "Try using .loc[row_indexer,col_indexer] = value instead\n",
            "\n",
            "See the caveats in the documentation: https://pandas.pydata.org/pandas-docs/stable/user_guide/indexing.html#returning-a-view-versus-a-copy\n",
            "  \"\"\"Entry point for launching an IPython kernel.\n"
          ],
          "name": "stderr"
        }
      ]
    },
    {
      "cell_type": "code",
      "metadata": {
        "colab": {
          "base_uri": "https://localhost:8080/"
        },
        "id": "Qp1g23_qkNN2",
        "outputId": "c5d241b7-8c90-4299-9dd0-69c44cdabe91"
      },
      "source": [
        "new_df['Cough']=new_df['Cough'].interpolate(method='linear',limit_direction='both')"
      ],
      "execution_count": 643,
      "outputs": [
        {
          "output_type": "stream",
          "text": [
            "/usr/local/lib/python3.7/dist-packages/ipykernel_launcher.py:1: SettingWithCopyWarning: \n",
            "A value is trying to be set on a copy of a slice from a DataFrame.\n",
            "Try using .loc[row_indexer,col_indexer] = value instead\n",
            "\n",
            "See the caveats in the documentation: https://pandas.pydata.org/pandas-docs/stable/user_guide/indexing.html#returning-a-view-versus-a-copy\n",
            "  \"\"\"Entry point for launching an IPython kernel.\n"
          ],
          "name": "stderr"
        }
      ]
    },
    {
      "cell_type": "code",
      "metadata": {
        "colab": {
          "base_uri": "https://localhost:8080/"
        },
        "id": "TwSRoPi9kXHJ",
        "outputId": "2fbf1c9b-8782-4427-987a-13c143609e47"
      },
      "source": [
        "new_df['Lymphocyte Count (10^9/L) - Median']=new_df['Lymphocyte Count (10^9/L) - Median'].interpolate(method='values',limit_direction='forward')"
      ],
      "execution_count": 644,
      "outputs": [
        {
          "output_type": "stream",
          "text": [
            "/usr/local/lib/python3.7/dist-packages/ipykernel_launcher.py:1: SettingWithCopyWarning: \n",
            "A value is trying to be set on a copy of a slice from a DataFrame.\n",
            "Try using .loc[row_indexer,col_indexer] = value instead\n",
            "\n",
            "See the caveats in the documentation: https://pandas.pydata.org/pandas-docs/stable/user_guide/indexing.html#returning-a-view-versus-a-copy\n",
            "  \"\"\"Entry point for launching an IPython kernel.\n"
          ],
          "name": "stderr"
        }
      ]
    },
    {
      "cell_type": "code",
      "metadata": {
        "colab": {
          "base_uri": "https://localhost:8080/",
          "height": 182
        },
        "id": "ExQztgfBjn2Q",
        "outputId": "f582c81b-65d6-41db-94de-39fc46b87b3b"
      },
      "source": [
        "df.head(4)"
      ],
      "execution_count": 632,
      "outputs": [
        {
          "output_type": "execute_result",
          "data": {
            "text/html": [
              "<div>\n",
              "<style scoped>\n",
              "    .dataframe tbody tr th:only-of-type {\n",
              "        vertical-align: middle;\n",
              "    }\n",
              "\n",
              "    .dataframe tbody tr th {\n",
              "        vertical-align: top;\n",
              "    }\n",
              "\n",
              "    .dataframe thead th {\n",
              "        text-align: right;\n",
              "    }\n",
              "</style>\n",
              "<table border=\"1\" class=\"dataframe\">\n",
              "  <thead>\n",
              "    <tr style=\"text-align: right;\">\n",
              "      <th></th>\n",
              "      <th>% Male</th>\n",
              "      <th>Hypertension</th>\n",
              "      <th>Diabetes</th>\n",
              "      <th>Cardiovascular Disease (incl. CAD)</th>\n",
              "      <th>Fever (temperature ≥37·3°C)</th>\n",
              "      <th>Cough</th>\n",
              "      <th>Lymphocyte Count (10^9/L) - Median</th>\n",
              "      <th>Mortality</th>\n",
              "    </tr>\n",
              "  </thead>\n",
              "  <tbody>\n",
              "    <tr>\n",
              "      <th>0</th>\n",
              "      <td>0.6230</td>\n",
              "      <td>0.3000</td>\n",
              "      <td>0.1900</td>\n",
              "      <td>0.08000</td>\n",
              "      <td>0.9400</td>\n",
              "      <td>0.790000</td>\n",
              "      <td>1.0</td>\n",
              "      <td>0.28</td>\n",
              "    </tr>\n",
              "    <tr>\n",
              "      <th>1</th>\n",
              "      <td>0.7037</td>\n",
              "      <td>0.4815</td>\n",
              "      <td>0.3148</td>\n",
              "      <td>0.24070</td>\n",
              "      <td>0.9444</td>\n",
              "      <td>0.722200</td>\n",
              "      <td>0.6</td>\n",
              "      <td>1.00</td>\n",
              "    </tr>\n",
              "    <tr>\n",
              "      <th>2</th>\n",
              "      <td>0.5912</td>\n",
              "      <td>0.2336</td>\n",
              "      <td>0.1387</td>\n",
              "      <td>0.01460</td>\n",
              "      <td>0.9416</td>\n",
              "      <td>0.817500</td>\n",
              "      <td>1.1</td>\n",
              "      <td>0.00</td>\n",
              "    </tr>\n",
              "    <tr>\n",
              "      <th>3</th>\n",
              "      <td>0.6030</td>\n",
              "      <td>0.2127</td>\n",
              "      <td>0.1160</td>\n",
              "      <td>0.03595</td>\n",
              "      <td>0.9150</td>\n",
              "      <td>0.760625</td>\n",
              "      <td>0.9</td>\n",
              "      <td>0.16</td>\n",
              "    </tr>\n",
              "  </tbody>\n",
              "</table>\n",
              "</div>"
            ],
            "text/plain": [
              "   % Male  Hypertension  ...  Lymphocyte Count (10^9/L) - Median  Mortality\n",
              "0  0.6230        0.3000  ...                                 1.0       0.28\n",
              "1  0.7037        0.4815  ...                                 0.6       1.00\n",
              "2  0.5912        0.2336  ...                                 1.1       0.00\n",
              "3  0.6030        0.2127  ...                                 0.9       0.16\n",
              "\n",
              "[4 rows x 8 columns]"
            ]
          },
          "metadata": {
            "tags": []
          },
          "execution_count": 632
        }
      ]
    },
    {
      "cell_type": "code",
      "metadata": {
        "colab": {
          "base_uri": "https://localhost:8080/",
          "height": 301
        },
        "id": "tb_pXl3rf1N7",
        "outputId": "78a822d9-85ca-4a20-d228-ff460e0195f6"
      },
      "source": [
        "df.describe()"
      ],
      "execution_count": 633,
      "outputs": [
        {
          "output_type": "execute_result",
          "data": {
            "text/html": [
              "<div>\n",
              "<style scoped>\n",
              "    .dataframe tbody tr th:only-of-type {\n",
              "        vertical-align: middle;\n",
              "    }\n",
              "\n",
              "    .dataframe tbody tr th {\n",
              "        vertical-align: top;\n",
              "    }\n",
              "\n",
              "    .dataframe thead th {\n",
              "        text-align: right;\n",
              "    }\n",
              "</style>\n",
              "<table border=\"1\" class=\"dataframe\">\n",
              "  <thead>\n",
              "    <tr style=\"text-align: right;\">\n",
              "      <th></th>\n",
              "      <th>% Male</th>\n",
              "      <th>Hypertension</th>\n",
              "      <th>Diabetes</th>\n",
              "      <th>Cardiovascular Disease (incl. CAD)</th>\n",
              "      <th>Fever (temperature ≥37·3°C)</th>\n",
              "      <th>Cough</th>\n",
              "      <th>Lymphocyte Count (10^9/L) - Median</th>\n",
              "      <th>Mortality</th>\n",
              "    </tr>\n",
              "  </thead>\n",
              "  <tbody>\n",
              "    <tr>\n",
              "      <th>count</th>\n",
              "      <td>471.000000</td>\n",
              "      <td>471.000000</td>\n",
              "      <td>471.000000</td>\n",
              "      <td>471.000000</td>\n",
              "      <td>471.000000</td>\n",
              "      <td>471.000000</td>\n",
              "      <td>471.000000</td>\n",
              "      <td>471.000000</td>\n",
              "    </tr>\n",
              "    <tr>\n",
              "      <th>mean</th>\n",
              "      <td>0.547625</td>\n",
              "      <td>0.284650</td>\n",
              "      <td>0.159626</td>\n",
              "      <td>0.142775</td>\n",
              "      <td>0.522389</td>\n",
              "      <td>0.597886</td>\n",
              "      <td>1.717265</td>\n",
              "      <td>0.188896</td>\n",
              "    </tr>\n",
              "    <tr>\n",
              "      <th>std</th>\n",
              "      <td>0.250890</td>\n",
              "      <td>0.247661</td>\n",
              "      <td>0.244247</td>\n",
              "      <td>0.209709</td>\n",
              "      <td>1.081816</td>\n",
              "      <td>0.262356</td>\n",
              "      <td>3.397941</td>\n",
              "      <td>0.323967</td>\n",
              "    </tr>\n",
              "    <tr>\n",
              "      <th>min</th>\n",
              "      <td>0.000000</td>\n",
              "      <td>0.000000</td>\n",
              "      <td>-0.537828</td>\n",
              "      <td>0.000000</td>\n",
              "      <td>-5.909242</td>\n",
              "      <td>0.000000</td>\n",
              "      <td>0.060000</td>\n",
              "      <td>0.000000</td>\n",
              "    </tr>\n",
              "    <tr>\n",
              "      <th>25%</th>\n",
              "      <td>0.460500</td>\n",
              "      <td>0.114000</td>\n",
              "      <td>0.000000</td>\n",
              "      <td>0.021167</td>\n",
              "      <td>0.530300</td>\n",
              "      <td>0.467850</td>\n",
              "      <td>0.780000</td>\n",
              "      <td>0.000000</td>\n",
              "    </tr>\n",
              "    <tr>\n",
              "      <th>50%</th>\n",
              "      <td>0.538000</td>\n",
              "      <td>0.236000</td>\n",
              "      <td>0.102559</td>\n",
              "      <td>0.078857</td>\n",
              "      <td>0.789500</td>\n",
              "      <td>0.636000</td>\n",
              "      <td>0.940000</td>\n",
              "      <td>0.000000</td>\n",
              "    </tr>\n",
              "    <tr>\n",
              "      <th>75%</th>\n",
              "      <td>0.661167</td>\n",
              "      <td>0.400000</td>\n",
              "      <td>0.226500</td>\n",
              "      <td>0.159500</td>\n",
              "      <td>0.940000</td>\n",
              "      <td>0.757643</td>\n",
              "      <td>1.300000</td>\n",
              "      <td>0.230000</td>\n",
              "    </tr>\n",
              "    <tr>\n",
              "      <th>max</th>\n",
              "      <td>1.000000</td>\n",
              "      <td>1.000000</td>\n",
              "      <td>1.000000</td>\n",
              "      <td>1.000000</td>\n",
              "      <td>2.015146</td>\n",
              "      <td>1.000000</td>\n",
              "      <td>30.600000</td>\n",
              "      <td>1.000000</td>\n",
              "    </tr>\n",
              "  </tbody>\n",
              "</table>\n",
              "</div>"
            ],
            "text/plain": [
              "           % Male  Hypertension  ...  Lymphocyte Count (10^9/L) - Median   Mortality\n",
              "count  471.000000    471.000000  ...                          471.000000  471.000000\n",
              "mean     0.547625      0.284650  ...                            1.717265    0.188896\n",
              "std      0.250890      0.247661  ...                            3.397941    0.323967\n",
              "min      0.000000      0.000000  ...                            0.060000    0.000000\n",
              "25%      0.460500      0.114000  ...                            0.780000    0.000000\n",
              "50%      0.538000      0.236000  ...                            0.940000    0.000000\n",
              "75%      0.661167      0.400000  ...                            1.300000    0.230000\n",
              "max      1.000000      1.000000  ...                           30.600000    1.000000\n",
              "\n",
              "[8 rows x 8 columns]"
            ]
          },
          "metadata": {
            "tags": []
          },
          "execution_count": 633
        }
      ]
    },
    {
      "cell_type": "code",
      "metadata": {
        "colab": {
          "base_uri": "https://localhost:8080/"
        },
        "id": "SYWfVvRYlS67",
        "outputId": "6a58f520-cc42-4539-d08c-0a4fe79434cc"
      },
      "source": [
        "Counter(df['Ventilation'])"
      ],
      "execution_count": 554,
      "outputs": [
        {
          "output_type": "execute_result",
          "data": {
            "text/plain": [
              "Counter({'Both': 196,\n",
              "         'No': 3,\n",
              "         'Non-ventilation only': 65,\n",
              "         'Ventilation only': 18,\n",
              "         'Yes': 11,\n",
              "         nan: 174,\n",
              "         'ΝΑ': 4})"
            ]
          },
          "metadata": {
            "tags": []
          },
          "execution_count": 554
        }
      ]
    },
    {
      "cell_type": "code",
      "metadata": {
        "colab": {
          "base_uri": "https://localhost:8080/"
        },
        "id": "vV6u14AYlX9p",
        "outputId": "c61ecff8-1c42-4a98-e7e4-5e25a06b35c7"
      },
      "source": [
        "df['Ventilation'].isnull().sum()"
      ],
      "execution_count": 555,
      "outputs": [
        {
          "output_type": "execute_result",
          "data": {
            "text/plain": [
              "174"
            ]
          },
          "metadata": {
            "tags": []
          },
          "execution_count": 555
        }
      ]
    },
    {
      "cell_type": "code",
      "metadata": {
        "id": "Zox1u2_WlgBT"
      },
      "source": [
        "df['Ventilation']=df['Ventilation'].replace(np.nan,'No')"
      ],
      "execution_count": 556,
      "outputs": []
    },
    {
      "cell_type": "code",
      "metadata": {
        "colab": {
          "base_uri": "https://localhost:8080/"
        },
        "id": "BDNWldM5I2Ig",
        "outputId": "0146d986-0a20-4acd-817a-fdd6cc713e5f"
      },
      "source": [
        "df['Ventilation'].isnull().sum()"
      ],
      "execution_count": 557,
      "outputs": [
        {
          "output_type": "execute_result",
          "data": {
            "text/plain": [
              "0"
            ]
          },
          "metadata": {
            "tags": []
          },
          "execution_count": 557
        }
      ]
    },
    {
      "cell_type": "code",
      "metadata": {
        "id": "ap8Uac9Hl3Qo"
      },
      "source": [
        "dummy_vent=pd.get_dummies(df['Ventilation'])\n",
        "dumm_sev=pd.get_dummies(df['Severity'])"
      ],
      "execution_count": 558,
      "outputs": []
    },
    {
      "cell_type": "code",
      "metadata": {
        "colab": {
          "base_uri": "https://localhost:8080/"
        },
        "id": "diwNDvStF7Wc",
        "outputId": "257f9e73-79da-4d06-dd63-d15b867a3d70"
      },
      "source": [
        "dummy_vent.columns"
      ],
      "execution_count": 492,
      "outputs": [
        {
          "output_type": "execute_result",
          "data": {
            "text/plain": [
              "Index(['Both', 'No', 'Non-ventilation only', 'Ventilation only', 'Yes', 'ΝΑ'], dtype='object')"
            ]
          },
          "metadata": {
            "tags": []
          },
          "execution_count": 492
        }
      ]
    },
    {
      "cell_type": "code",
      "metadata": {
        "id": "otITHv_ZEFfR"
      },
      "source": [
        "dummy_vent=dummy_vent.drop(['ΝΑ'],axis=1)"
      ],
      "execution_count": 563,
      "outputs": []
    },
    {
      "cell_type": "code",
      "metadata": {
        "colab": {
          "base_uri": "https://localhost:8080/"
        },
        "id": "klYm7QNTJBzM",
        "outputId": "69480416-39a6-4e97-eaed-c2310a857fef"
      },
      "source": [
        "dumm_sev.columns , dummy_vent.columns"
      ],
      "execution_count": 564,
      "outputs": [
        {
          "output_type": "execute_result",
          "data": {
            "text/plain": [
              "(Index(['All', 'Asymptomatic only', 'Both', 'Mild', 'Mild only', 'Severe',\n",
              "        'Severe/Critical Only', 'Severe/critical only'],\n",
              "       dtype='object'),\n",
              " Index(['Both', 'No', 'Non-ventilation only', 'Ventilation only', 'Yes'], dtype='object'))"
            ]
          },
          "metadata": {
            "tags": []
          },
          "execution_count": 564
        }
      ]
    },
    {
      "cell_type": "code",
      "metadata": {
        "colab": {
          "base_uri": "https://localhost:8080/"
        },
        "id": "XPFRZdPJI8iG",
        "outputId": "151a2f86-4f29-4704-849c-f7976e1da562"
      },
      "source": [
        "frame.columns"
      ],
      "execution_count": 560,
      "outputs": [
        {
          "output_type": "execute_result",
          "data": {
            "text/plain": [
              "Index(['All', 'Both', 'Mild Only', 'Mild only', 'Severe/Critical Only',\n",
              "       'Severe/critical only', 'Both', 'No', 'Non-ventilation only',\n",
              "       'Ventilation only', '% Male', 'Hypertension', 'Diabetes',\n",
              "       'Fever (temperature ≥37·3°C)', 'Cardiovascular Disease (incl. CAD)',\n",
              "       'Cough', 'Lymphocyte Count (10^9/L) - Median'],\n",
              "      dtype='object')"
            ]
          },
          "metadata": {
            "tags": []
          },
          "execution_count": 560
        }
      ]
    },
    {
      "cell_type": "code",
      "metadata": {
        "colab": {
          "base_uri": "https://localhost:8080/"
        },
        "id": "QFU6AG6DEfl0",
        "outputId": "813e9aee-84fa-43e7-cd95-d38a27dadb87"
      },
      "source": [
        "dummy_vent.shape"
      ],
      "execution_count": 649,
      "outputs": [
        {
          "output_type": "execute_result",
          "data": {
            "text/plain": [
              "(471, 5)"
            ]
          },
          "metadata": {
            "tags": []
          },
          "execution_count": 649
        }
      ]
    },
    {
      "cell_type": "code",
      "metadata": {
        "id": "PizilSM7OMJ3"
      },
      "source": [
        ""
      ],
      "execution_count": null,
      "outputs": []
    },
    {
      "cell_type": "code",
      "metadata": {
        "colab": {
          "base_uri": "https://localhost:8080/",
          "height": 246
        },
        "id": "ntmJMM1uoEur",
        "outputId": "e6282bb9-48de-495e-976b-00e0b32b1ccf"
      },
      "source": [
        "df.head()"
      ],
      "execution_count": 566,
      "outputs": [
        {
          "output_type": "execute_result",
          "data": {
            "text/html": [
              "<div>\n",
              "<style scoped>\n",
              "    .dataframe tbody tr th:only-of-type {\n",
              "        vertical-align: middle;\n",
              "    }\n",
              "\n",
              "    .dataframe tbody tr th {\n",
              "        vertical-align: top;\n",
              "    }\n",
              "\n",
              "    .dataframe thead th {\n",
              "        text-align: right;\n",
              "    }\n",
              "</style>\n",
              "<table border=\"1\" class=\"dataframe\">\n",
              "  <thead>\n",
              "    <tr style=\"text-align: right;\">\n",
              "      <th></th>\n",
              "      <th>Severity</th>\n",
              "      <th>Ventilation</th>\n",
              "      <th>% Male</th>\n",
              "      <th>Hypertension</th>\n",
              "      <th>Diabetes</th>\n",
              "      <th>Cardiovascular Disease (incl. CAD)</th>\n",
              "      <th>Fever (temperature ≥37·3°C)</th>\n",
              "      <th>Cough</th>\n",
              "      <th>Lymphocyte Count (10^9/L) - Median</th>\n",
              "      <th>Mortality</th>\n",
              "    </tr>\n",
              "  </thead>\n",
              "  <tbody>\n",
              "    <tr>\n",
              "      <th>0</th>\n",
              "      <td>All</td>\n",
              "      <td>Both</td>\n",
              "      <td>0.6230</td>\n",
              "      <td>0.3000</td>\n",
              "      <td>0.1900</td>\n",
              "      <td>0.0800</td>\n",
              "      <td>0.9400</td>\n",
              "      <td>0.7900</td>\n",
              "      <td>1.0</td>\n",
              "      <td>0.28</td>\n",
              "    </tr>\n",
              "    <tr>\n",
              "      <th>1</th>\n",
              "      <td>Severe/Critical Only</td>\n",
              "      <td>Both</td>\n",
              "      <td>0.7037</td>\n",
              "      <td>0.4815</td>\n",
              "      <td>0.3148</td>\n",
              "      <td>0.2407</td>\n",
              "      <td>0.9444</td>\n",
              "      <td>0.7222</td>\n",
              "      <td>0.6</td>\n",
              "      <td>1.00</td>\n",
              "    </tr>\n",
              "    <tr>\n",
              "      <th>2</th>\n",
              "      <td>All</td>\n",
              "      <td>Both</td>\n",
              "      <td>0.5912</td>\n",
              "      <td>0.2336</td>\n",
              "      <td>0.1387</td>\n",
              "      <td>0.0146</td>\n",
              "      <td>0.9416</td>\n",
              "      <td>0.8175</td>\n",
              "      <td>1.1</td>\n",
              "      <td>0.00</td>\n",
              "    </tr>\n",
              "    <tr>\n",
              "      <th>3</th>\n",
              "      <td>All</td>\n",
              "      <td>Both</td>\n",
              "      <td>0.6030</td>\n",
              "      <td>NaN</td>\n",
              "      <td>0.1160</td>\n",
              "      <td>NaN</td>\n",
              "      <td>0.9150</td>\n",
              "      <td>NaN</td>\n",
              "      <td>0.9</td>\n",
              "      <td>0.16</td>\n",
              "    </tr>\n",
              "    <tr>\n",
              "      <th>4</th>\n",
              "      <td>All</td>\n",
              "      <td>Both</td>\n",
              "      <td>0.6160</td>\n",
              "      <td>NaN</td>\n",
              "      <td>0.1010</td>\n",
              "      <td>NaN</td>\n",
              "      <td>0.8990</td>\n",
              "      <td>NaN</td>\n",
              "      <td>0.8</td>\n",
              "      <td>0.15</td>\n",
              "    </tr>\n",
              "  </tbody>\n",
              "</table>\n",
              "</div>"
            ],
            "text/plain": [
              "               Severity  ... Mortality\n",
              "0                   All  ...      0.28\n",
              "1  Severe/Critical Only  ...      1.00\n",
              "2                   All  ...      0.00\n",
              "3                   All  ...      0.16\n",
              "4                   All  ...      0.15\n",
              "\n",
              "[5 rows x 10 columns]"
            ]
          },
          "metadata": {
            "tags": []
          },
          "execution_count": 566
        }
      ]
    },
    {
      "cell_type": "code",
      "metadata": {
        "id": "Jf7oQhHVoRml"
      },
      "source": [
        "df.drop(['Severity','Ventilation'],axis=1,inplace=True)"
      ],
      "execution_count": 567,
      "outputs": []
    },
    {
      "cell_type": "code",
      "metadata": {
        "colab": {
          "base_uri": "https://localhost:8080/",
          "height": 212
        },
        "id": "fzyAwb2nMsxW",
        "outputId": "9c9d252b-eabf-41d1-d90e-99ddb830e5da"
      },
      "source": [
        "df.head()"
      ],
      "execution_count": 594,
      "outputs": [
        {
          "output_type": "execute_result",
          "data": {
            "text/html": [
              "<div>\n",
              "<style scoped>\n",
              "    .dataframe tbody tr th:only-of-type {\n",
              "        vertical-align: middle;\n",
              "    }\n",
              "\n",
              "    .dataframe tbody tr th {\n",
              "        vertical-align: top;\n",
              "    }\n",
              "\n",
              "    .dataframe thead th {\n",
              "        text-align: right;\n",
              "    }\n",
              "</style>\n",
              "<table border=\"1\" class=\"dataframe\">\n",
              "  <thead>\n",
              "    <tr style=\"text-align: right;\">\n",
              "      <th></th>\n",
              "      <th>% Male</th>\n",
              "      <th>Hypertension</th>\n",
              "      <th>Diabetes</th>\n",
              "      <th>Cardiovascular Disease (incl. CAD)</th>\n",
              "      <th>Fever (temperature ≥37·3°C)</th>\n",
              "      <th>Cough</th>\n",
              "      <th>Lymphocyte Count (10^9/L) - Median</th>\n",
              "      <th>Mortality</th>\n",
              "    </tr>\n",
              "  </thead>\n",
              "  <tbody>\n",
              "    <tr>\n",
              "      <th>0</th>\n",
              "      <td>0.6230</td>\n",
              "      <td>0.3000</td>\n",
              "      <td>0.1900</td>\n",
              "      <td>0.0800</td>\n",
              "      <td>0.9400</td>\n",
              "      <td>0.7900</td>\n",
              "      <td>1.0</td>\n",
              "      <td>0.28</td>\n",
              "    </tr>\n",
              "    <tr>\n",
              "      <th>1</th>\n",
              "      <td>0.7037</td>\n",
              "      <td>0.4815</td>\n",
              "      <td>0.3148</td>\n",
              "      <td>0.2407</td>\n",
              "      <td>0.9444</td>\n",
              "      <td>0.7222</td>\n",
              "      <td>0.6</td>\n",
              "      <td>1.00</td>\n",
              "    </tr>\n",
              "    <tr>\n",
              "      <th>2</th>\n",
              "      <td>0.5912</td>\n",
              "      <td>0.2336</td>\n",
              "      <td>0.1387</td>\n",
              "      <td>0.0146</td>\n",
              "      <td>0.9416</td>\n",
              "      <td>0.8175</td>\n",
              "      <td>1.1</td>\n",
              "      <td>0.00</td>\n",
              "    </tr>\n",
              "    <tr>\n",
              "      <th>3</th>\n",
              "      <td>0.6030</td>\n",
              "      <td>NaN</td>\n",
              "      <td>0.1160</td>\n",
              "      <td>NaN</td>\n",
              "      <td>0.9150</td>\n",
              "      <td>NaN</td>\n",
              "      <td>0.9</td>\n",
              "      <td>0.16</td>\n",
              "    </tr>\n",
              "    <tr>\n",
              "      <th>4</th>\n",
              "      <td>0.6160</td>\n",
              "      <td>NaN</td>\n",
              "      <td>0.1010</td>\n",
              "      <td>NaN</td>\n",
              "      <td>0.8990</td>\n",
              "      <td>NaN</td>\n",
              "      <td>0.8</td>\n",
              "      <td>0.15</td>\n",
              "    </tr>\n",
              "  </tbody>\n",
              "</table>\n",
              "</div>"
            ],
            "text/plain": [
              "   % Male  Hypertension  ...  Lymphocyte Count (10^9/L) - Median  Mortality\n",
              "0  0.6230        0.3000  ...                                 1.0       0.28\n",
              "1  0.7037        0.4815  ...                                 0.6       1.00\n",
              "2  0.5912        0.2336  ...                                 1.1       0.00\n",
              "3  0.6030           NaN  ...                                 0.9       0.16\n",
              "4  0.6160           NaN  ...                                 0.8       0.15\n",
              "\n",
              "[5 rows x 8 columns]"
            ]
          },
          "metadata": {
            "tags": []
          },
          "execution_count": 594
        }
      ]
    },
    {
      "cell_type": "code",
      "metadata": {
        "id": "UU3bmOnpoaIA"
      },
      "source": [
        "new_df=pd.concat([dumm_sev,dummy_vent,df],axis=1)"
      ],
      "execution_count": 568,
      "outputs": []
    },
    {
      "cell_type": "code",
      "metadata": {
        "colab": {
          "base_uri": "https://localhost:8080/"
        },
        "id": "Fm5v-tc3J3EA",
        "outputId": "c3a2a5d3-1c88-4bab-970b-92cb590fe670"
      },
      "source": [
        "new_df.shape"
      ],
      "execution_count": 637,
      "outputs": [
        {
          "output_type": "execute_result",
          "data": {
            "text/plain": [
              "(471, 18)"
            ]
          },
          "metadata": {
            "tags": []
          },
          "execution_count": 637
        }
      ]
    },
    {
      "cell_type": "code",
      "metadata": {
        "colab": {
          "base_uri": "https://localhost:8080/"
        },
        "id": "mTDL0pb-OQXH",
        "outputId": "60b71b51-9017-4681-a624-41cb0399ab3e"
      },
      "source": [
        "new_df.isnull().sum()"
      ],
      "execution_count": 650,
      "outputs": [
        {
          "output_type": "execute_result",
          "data": {
            "text/plain": [
              "All                                   0\n",
              "Both                                  0\n",
              "Mild                                  0\n",
              "Mild only                             0\n",
              "Severe/Critical Only                  0\n",
              "Severe/critical only                  0\n",
              "Both                                  0\n",
              "No                                    0\n",
              "Non-ventilation only                  0\n",
              "Ventilation only                      0\n",
              "% Male                                0\n",
              "Hypertension                          0\n",
              "Diabetes                              0\n",
              "Cardiovascular Disease (incl. CAD)    0\n",
              "Fever (temperature ≥37·3°C)           0\n",
              "Cough                                 0\n",
              "Lymphocyte Count (10^9/L) - Median    0\n",
              "Mortality                             0\n",
              "dtype: int64"
            ]
          },
          "metadata": {
            "tags": []
          },
          "execution_count": 650
        }
      ]
    },
    {
      "cell_type": "code",
      "metadata": {
        "id": "pJ8NOXeoJyUx"
      },
      "source": [
        "new_df=new_df.drop(['Asymptomatic only','Severe','Yes'],axis=1)"
      ],
      "execution_count": 576,
      "outputs": []
    },
    {
      "cell_type": "code",
      "metadata": {
        "colab": {
          "base_uri": "https://localhost:8080/",
          "height": 177
        },
        "id": "A4Dlf5eqo6bp",
        "outputId": "0076360d-8af7-4037-a244-5a9671b8074d"
      },
      "source": [
        "new_df.head(2)"
      ],
      "execution_count": 596,
      "outputs": [
        {
          "output_type": "execute_result",
          "data": {
            "text/html": [
              "<div>\n",
              "<style scoped>\n",
              "    .dataframe tbody tr th:only-of-type {\n",
              "        vertical-align: middle;\n",
              "    }\n",
              "\n",
              "    .dataframe tbody tr th {\n",
              "        vertical-align: top;\n",
              "    }\n",
              "\n",
              "    .dataframe thead th {\n",
              "        text-align: right;\n",
              "    }\n",
              "</style>\n",
              "<table border=\"1\" class=\"dataframe\">\n",
              "  <thead>\n",
              "    <tr style=\"text-align: right;\">\n",
              "      <th></th>\n",
              "      <th>All</th>\n",
              "      <th>Both</th>\n",
              "      <th>Mild</th>\n",
              "      <th>Mild only</th>\n",
              "      <th>Severe/Critical Only</th>\n",
              "      <th>Severe/critical only</th>\n",
              "      <th>Both</th>\n",
              "      <th>No</th>\n",
              "      <th>Non-ventilation only</th>\n",
              "      <th>Ventilation only</th>\n",
              "      <th>% Male</th>\n",
              "      <th>Hypertension</th>\n",
              "      <th>Diabetes</th>\n",
              "      <th>Cardiovascular Disease (incl. CAD)</th>\n",
              "      <th>Fever (temperature ≥37·3°C)</th>\n",
              "      <th>Cough</th>\n",
              "      <th>Lymphocyte Count (10^9/L) - Median</th>\n",
              "      <th>Mortality</th>\n",
              "    </tr>\n",
              "  </thead>\n",
              "  <tbody>\n",
              "    <tr>\n",
              "      <th>0</th>\n",
              "      <td>1</td>\n",
              "      <td>0</td>\n",
              "      <td>0</td>\n",
              "      <td>0</td>\n",
              "      <td>0</td>\n",
              "      <td>0</td>\n",
              "      <td>1</td>\n",
              "      <td>0</td>\n",
              "      <td>0</td>\n",
              "      <td>0</td>\n",
              "      <td>0.6230</td>\n",
              "      <td>0.3000</td>\n",
              "      <td>0.1900</td>\n",
              "      <td>0.0800</td>\n",
              "      <td>0.9400</td>\n",
              "      <td>0.7900</td>\n",
              "      <td>1.0</td>\n",
              "      <td>0.28</td>\n",
              "    </tr>\n",
              "    <tr>\n",
              "      <th>1</th>\n",
              "      <td>0</td>\n",
              "      <td>0</td>\n",
              "      <td>0</td>\n",
              "      <td>0</td>\n",
              "      <td>1</td>\n",
              "      <td>0</td>\n",
              "      <td>1</td>\n",
              "      <td>0</td>\n",
              "      <td>0</td>\n",
              "      <td>0</td>\n",
              "      <td>0.7037</td>\n",
              "      <td>0.4815</td>\n",
              "      <td>0.3148</td>\n",
              "      <td>0.2407</td>\n",
              "      <td>0.9444</td>\n",
              "      <td>0.7222</td>\n",
              "      <td>0.6</td>\n",
              "      <td>1.00</td>\n",
              "    </tr>\n",
              "  </tbody>\n",
              "</table>\n",
              "</div>"
            ],
            "text/plain": [
              "   All  Both  Mild  ...   Cough  Lymphocyte Count (10^9/L) - Median  Mortality\n",
              "0    1     0     0  ...  0.7900                                 1.0       0.28\n",
              "1    0     0     0  ...  0.7222                                 0.6       1.00\n",
              "\n",
              "[2 rows x 18 columns]"
            ]
          },
          "metadata": {
            "tags": []
          },
          "execution_count": 596
        }
      ]
    },
    {
      "cell_type": "code",
      "metadata": {
        "colab": {
          "base_uri": "https://localhost:8080/",
          "height": 177
        },
        "id": "pArqDLnKJpmN",
        "outputId": "7045ef87-feee-44aa-9d49-0cd34339c01b"
      },
      "source": [
        "frame.head(2)"
      ],
      "execution_count": 597,
      "outputs": [
        {
          "output_type": "execute_result",
          "data": {
            "text/html": [
              "<div>\n",
              "<style scoped>\n",
              "    .dataframe tbody tr th:only-of-type {\n",
              "        vertical-align: middle;\n",
              "    }\n",
              "\n",
              "    .dataframe tbody tr th {\n",
              "        vertical-align: top;\n",
              "    }\n",
              "\n",
              "    .dataframe thead th {\n",
              "        text-align: right;\n",
              "    }\n",
              "</style>\n",
              "<table border=\"1\" class=\"dataframe\">\n",
              "  <thead>\n",
              "    <tr style=\"text-align: right;\">\n",
              "      <th></th>\n",
              "      <th>All</th>\n",
              "      <th>Both</th>\n",
              "      <th>Mild Only</th>\n",
              "      <th>Mild only</th>\n",
              "      <th>Severe/Critical Only</th>\n",
              "      <th>Severe/critical only</th>\n",
              "      <th>Both</th>\n",
              "      <th>No</th>\n",
              "      <th>Non-ventilation only</th>\n",
              "      <th>Ventilation only</th>\n",
              "      <th>% Male</th>\n",
              "      <th>Hypertension</th>\n",
              "      <th>Diabetes</th>\n",
              "      <th>Fever (temperature ≥37·3°C)</th>\n",
              "      <th>Cardiovascular Disease (incl. CAD)</th>\n",
              "      <th>Cough</th>\n",
              "      <th>Lymphocyte Count (10^9/L) - Median</th>\n",
              "    </tr>\n",
              "  </thead>\n",
              "  <tbody>\n",
              "    <tr>\n",
              "      <th>0</th>\n",
              "      <td>0</td>\n",
              "      <td>0</td>\n",
              "      <td>0</td>\n",
              "      <td>1</td>\n",
              "      <td>0</td>\n",
              "      <td>0</td>\n",
              "      <td>1</td>\n",
              "      <td>0</td>\n",
              "      <td>0</td>\n",
              "      <td>0</td>\n",
              "      <td>0.341</td>\n",
              "      <td>0.151</td>\n",
              "      <td>0.119</td>\n",
              "      <td>0.730000</td>\n",
              "      <td>0.063</td>\n",
              "      <td>0.611000</td>\n",
              "      <td>1.30</td>\n",
              "    </tr>\n",
              "    <tr>\n",
              "      <th>1</th>\n",
              "      <td>0</td>\n",
              "      <td>0</td>\n",
              "      <td>0</td>\n",
              "      <td>0</td>\n",
              "      <td>1</td>\n",
              "      <td>0</td>\n",
              "      <td>1</td>\n",
              "      <td>0</td>\n",
              "      <td>0</td>\n",
              "      <td>0</td>\n",
              "      <td>0.750</td>\n",
              "      <td>0.250</td>\n",
              "      <td>0.170</td>\n",
              "      <td>0.906098</td>\n",
              "      <td>0.110</td>\n",
              "      <td>0.601125</td>\n",
              "      <td>1.22</td>\n",
              "    </tr>\n",
              "  </tbody>\n",
              "</table>\n",
              "</div>"
            ],
            "text/plain": [
              "   All  Both  ...     Cough  Lymphocyte Count (10^9/L) - Median\n",
              "0    0     0  ...  0.611000                                1.30\n",
              "1    0     0  ...  0.601125                                1.22\n",
              "\n",
              "[2 rows x 17 columns]"
            ]
          },
          "metadata": {
            "tags": []
          },
          "execution_count": 597
        }
      ]
    },
    {
      "cell_type": "code",
      "metadata": {
        "colab": {
          "base_uri": "https://localhost:8080/"
        },
        "id": "mYfJwLpgpio9",
        "outputId": "2d582ea2-520f-45ba-ee91-3b874e12546b"
      },
      "source": [
        "new_df.shape"
      ],
      "execution_count": 651,
      "outputs": [
        {
          "output_type": "execute_result",
          "data": {
            "text/plain": [
              "(471, 18)"
            ]
          },
          "metadata": {
            "tags": []
          },
          "execution_count": 651
        }
      ]
    },
    {
      "cell_type": "code",
      "metadata": {
        "colab": {
          "base_uri": "https://localhost:8080/"
        },
        "id": "lHhY_5v4KdHk",
        "outputId": "b2ba0e57-8ab5-4a47-b66f-980c1c2eaa01"
      },
      "source": [
        "frame.shape"
      ],
      "execution_count": 599,
      "outputs": [
        {
          "output_type": "execute_result",
          "data": {
            "text/plain": [
              "(53, 17)"
            ]
          },
          "metadata": {
            "tags": []
          },
          "execution_count": 599
        }
      ]
    },
    {
      "cell_type": "code",
      "metadata": {
        "colab": {
          "base_uri": "https://localhost:8080/",
          "height": 354
        },
        "id": "Ua5hm9bKpmTM",
        "outputId": "25c3d084-ff91-4106-f1f9-d81ba7184ef5"
      },
      "source": [
        "new_df.describe()"
      ],
      "execution_count": 600,
      "outputs": [
        {
          "output_type": "execute_result",
          "data": {
            "text/html": [
              "<div>\n",
              "<style scoped>\n",
              "    .dataframe tbody tr th:only-of-type {\n",
              "        vertical-align: middle;\n",
              "    }\n",
              "\n",
              "    .dataframe tbody tr th {\n",
              "        vertical-align: top;\n",
              "    }\n",
              "\n",
              "    .dataframe thead th {\n",
              "        text-align: right;\n",
              "    }\n",
              "</style>\n",
              "<table border=\"1\" class=\"dataframe\">\n",
              "  <thead>\n",
              "    <tr style=\"text-align: right;\">\n",
              "      <th></th>\n",
              "      <th>All</th>\n",
              "      <th>Both</th>\n",
              "      <th>Mild</th>\n",
              "      <th>Mild only</th>\n",
              "      <th>Severe/Critical Only</th>\n",
              "      <th>Severe/critical only</th>\n",
              "      <th>Both</th>\n",
              "      <th>No</th>\n",
              "      <th>Non-ventilation only</th>\n",
              "      <th>Ventilation only</th>\n",
              "      <th>% Male</th>\n",
              "      <th>Hypertension</th>\n",
              "      <th>Diabetes</th>\n",
              "      <th>Cardiovascular Disease (incl. CAD)</th>\n",
              "      <th>Fever (temperature ≥37·3°C)</th>\n",
              "      <th>Cough</th>\n",
              "      <th>Lymphocyte Count (10^9/L) - Median</th>\n",
              "      <th>Mortality</th>\n",
              "    </tr>\n",
              "  </thead>\n",
              "  <tbody>\n",
              "    <tr>\n",
              "      <th>count</th>\n",
              "      <td>471.000000</td>\n",
              "      <td>471.000000</td>\n",
              "      <td>471.000000</td>\n",
              "      <td>471.000000</td>\n",
              "      <td>471.000000</td>\n",
              "      <td>471.000000</td>\n",
              "      <td>471.000000</td>\n",
              "      <td>471.000000</td>\n",
              "      <td>471.000000</td>\n",
              "      <td>471.000000</td>\n",
              "      <td>426.000000</td>\n",
              "      <td>305.000000</td>\n",
              "      <td>321.000000</td>\n",
              "      <td>294.000000</td>\n",
              "      <td>355.000000</td>\n",
              "      <td>339.000000</td>\n",
              "      <td>288.000000</td>\n",
              "      <td>471.000000</td>\n",
              "    </tr>\n",
              "    <tr>\n",
              "      <th>mean</th>\n",
              "      <td>0.443737</td>\n",
              "      <td>0.010616</td>\n",
              "      <td>0.004246</td>\n",
              "      <td>0.193206</td>\n",
              "      <td>0.303609</td>\n",
              "      <td>0.004246</td>\n",
              "      <td>0.416136</td>\n",
              "      <td>0.375796</td>\n",
              "      <td>0.138004</td>\n",
              "      <td>0.038217</td>\n",
              "      <td>0.547131</td>\n",
              "      <td>0.284684</td>\n",
              "      <td>0.148729</td>\n",
              "      <td>0.142663</td>\n",
              "      <td>0.705348</td>\n",
              "      <td>0.602547</td>\n",
              "      <td>1.572257</td>\n",
              "      <td>0.188896</td>\n",
              "    </tr>\n",
              "    <tr>\n",
              "      <th>std</th>\n",
              "      <td>0.497353</td>\n",
              "      <td>0.102593</td>\n",
              "      <td>0.065094</td>\n",
              "      <td>0.395233</td>\n",
              "      <td>0.460305</td>\n",
              "      <td>0.065094</td>\n",
              "      <td>0.493441</td>\n",
              "      <td>0.484843</td>\n",
              "      <td>0.345271</td>\n",
              "      <td>0.191923</td>\n",
              "      <td>0.262453</td>\n",
              "      <td>0.287592</td>\n",
              "      <td>0.202673</td>\n",
              "      <td>0.241356</td>\n",
              "      <td>0.298094</td>\n",
              "      <td>0.285502</td>\n",
              "      <td>3.315615</td>\n",
              "      <td>0.323967</td>\n",
              "    </tr>\n",
              "    <tr>\n",
              "      <th>min</th>\n",
              "      <td>0.000000</td>\n",
              "      <td>0.000000</td>\n",
              "      <td>0.000000</td>\n",
              "      <td>0.000000</td>\n",
              "      <td>0.000000</td>\n",
              "      <td>0.000000</td>\n",
              "      <td>0.000000</td>\n",
              "      <td>0.000000</td>\n",
              "      <td>0.000000</td>\n",
              "      <td>0.000000</td>\n",
              "      <td>0.000000</td>\n",
              "      <td>0.000000</td>\n",
              "      <td>0.000000</td>\n",
              "      <td>0.000000</td>\n",
              "      <td>0.000000</td>\n",
              "      <td>0.000000</td>\n",
              "      <td>0.060000</td>\n",
              "      <td>0.000000</td>\n",
              "    </tr>\n",
              "    <tr>\n",
              "      <th>25%</th>\n",
              "      <td>0.000000</td>\n",
              "      <td>0.000000</td>\n",
              "      <td>0.000000</td>\n",
              "      <td>0.000000</td>\n",
              "      <td>0.000000</td>\n",
              "      <td>0.000000</td>\n",
              "      <td>0.000000</td>\n",
              "      <td>0.000000</td>\n",
              "      <td>0.000000</td>\n",
              "      <td>0.000000</td>\n",
              "      <td>0.451175</td>\n",
              "      <td>0.078000</td>\n",
              "      <td>0.000000</td>\n",
              "      <td>0.000000</td>\n",
              "      <td>0.563000</td>\n",
              "      <td>0.459500</td>\n",
              "      <td>0.777500</td>\n",
              "      <td>0.000000</td>\n",
              "    </tr>\n",
              "    <tr>\n",
              "      <th>50%</th>\n",
              "      <td>0.000000</td>\n",
              "      <td>0.000000</td>\n",
              "      <td>0.000000</td>\n",
              "      <td>0.000000</td>\n",
              "      <td>0.000000</td>\n",
              "      <td>0.000000</td>\n",
              "      <td>0.000000</td>\n",
              "      <td>0.000000</td>\n",
              "      <td>0.000000</td>\n",
              "      <td>0.000000</td>\n",
              "      <td>0.540100</td>\n",
              "      <td>0.202900</td>\n",
              "      <td>0.101000</td>\n",
              "      <td>0.060750</td>\n",
              "      <td>0.791000</td>\n",
              "      <td>0.643000</td>\n",
              "      <td>0.975000</td>\n",
              "      <td>0.000000</td>\n",
              "    </tr>\n",
              "    <tr>\n",
              "      <th>75%</th>\n",
              "      <td>1.000000</td>\n",
              "      <td>0.000000</td>\n",
              "      <td>0.000000</td>\n",
              "      <td>0.000000</td>\n",
              "      <td>1.000000</td>\n",
              "      <td>0.000000</td>\n",
              "      <td>1.000000</td>\n",
              "      <td>1.000000</td>\n",
              "      <td>0.000000</td>\n",
              "      <td>0.000000</td>\n",
              "      <td>0.670000</td>\n",
              "      <td>0.389000</td>\n",
              "      <td>0.183000</td>\n",
              "      <td>0.150750</td>\n",
              "      <td>0.940500</td>\n",
              "      <td>0.794000</td>\n",
              "      <td>1.300000</td>\n",
              "      <td>0.230000</td>\n",
              "    </tr>\n",
              "    <tr>\n",
              "      <th>max</th>\n",
              "      <td>1.000000</td>\n",
              "      <td>1.000000</td>\n",
              "      <td>1.000000</td>\n",
              "      <td>1.000000</td>\n",
              "      <td>1.000000</td>\n",
              "      <td>1.000000</td>\n",
              "      <td>1.000000</td>\n",
              "      <td>1.000000</td>\n",
              "      <td>1.000000</td>\n",
              "      <td>1.000000</td>\n",
              "      <td>1.000000</td>\n",
              "      <td>1.000000</td>\n",
              "      <td>1.000000</td>\n",
              "      <td>1.000000</td>\n",
              "      <td>1.000000</td>\n",
              "      <td>1.000000</td>\n",
              "      <td>30.600000</td>\n",
              "      <td>1.000000</td>\n",
              "    </tr>\n",
              "  </tbody>\n",
              "</table>\n",
              "</div>"
            ],
            "text/plain": [
              "              All        Both  ...  Lymphocyte Count (10^9/L) - Median   Mortality\n",
              "count  471.000000  471.000000  ...                          288.000000  471.000000\n",
              "mean     0.443737    0.010616  ...                            1.572257    0.188896\n",
              "std      0.497353    0.102593  ...                            3.315615    0.323967\n",
              "min      0.000000    0.000000  ...                            0.060000    0.000000\n",
              "25%      0.000000    0.000000  ...                            0.777500    0.000000\n",
              "50%      0.000000    0.000000  ...                            0.975000    0.000000\n",
              "75%      1.000000    0.000000  ...                            1.300000    0.230000\n",
              "max      1.000000    1.000000  ...                           30.600000    1.000000\n",
              "\n",
              "[8 rows x 18 columns]"
            ]
          },
          "metadata": {
            "tags": []
          },
          "execution_count": 600
        }
      ]
    },
    {
      "cell_type": "code",
      "metadata": {
        "id": "JmDW5oT5p0-6"
      },
      "source": [
        "from sklearn.preprocessing import MinMaxScaler "
      ],
      "execution_count": 601,
      "outputs": []
    },
    {
      "cell_type": "code",
      "metadata": {
        "id": "UruiB9BPqarr"
      },
      "source": [
        "sc=MinMaxScaler()"
      ],
      "execution_count": 602,
      "outputs": []
    },
    {
      "cell_type": "code",
      "metadata": {
        "id": "DFAIDGCSNPNV"
      },
      "source": [
        "X_train=new_df.iloc[:,:17]"
      ],
      "execution_count": 652,
      "outputs": []
    },
    {
      "cell_type": "code",
      "metadata": {
        "colab": {
          "base_uri": "https://localhost:8080/",
          "height": 472
        },
        "id": "s8I8laOpM9yq",
        "outputId": "45e6f49e-f30b-4d68-fffe-705eb3557fda"
      },
      "source": [
        "X_train"
      ],
      "execution_count": 653,
      "outputs": [
        {
          "output_type": "execute_result",
          "data": {
            "text/html": [
              "<div>\n",
              "<style scoped>\n",
              "    .dataframe tbody tr th:only-of-type {\n",
              "        vertical-align: middle;\n",
              "    }\n",
              "\n",
              "    .dataframe tbody tr th {\n",
              "        vertical-align: top;\n",
              "    }\n",
              "\n",
              "    .dataframe thead th {\n",
              "        text-align: right;\n",
              "    }\n",
              "</style>\n",
              "<table border=\"1\" class=\"dataframe\">\n",
              "  <thead>\n",
              "    <tr style=\"text-align: right;\">\n",
              "      <th></th>\n",
              "      <th>All</th>\n",
              "      <th>Both</th>\n",
              "      <th>Mild</th>\n",
              "      <th>Mild only</th>\n",
              "      <th>Severe/Critical Only</th>\n",
              "      <th>Severe/critical only</th>\n",
              "      <th>Both</th>\n",
              "      <th>No</th>\n",
              "      <th>Non-ventilation only</th>\n",
              "      <th>Ventilation only</th>\n",
              "      <th>% Male</th>\n",
              "      <th>Hypertension</th>\n",
              "      <th>Diabetes</th>\n",
              "      <th>Cardiovascular Disease (incl. CAD)</th>\n",
              "      <th>Fever (temperature ≥37·3°C)</th>\n",
              "      <th>Cough</th>\n",
              "      <th>Lymphocyte Count (10^9/L) - Median</th>\n",
              "    </tr>\n",
              "  </thead>\n",
              "  <tbody>\n",
              "    <tr>\n",
              "      <th>0</th>\n",
              "      <td>1</td>\n",
              "      <td>0</td>\n",
              "      <td>0</td>\n",
              "      <td>0</td>\n",
              "      <td>0</td>\n",
              "      <td>0</td>\n",
              "      <td>1</td>\n",
              "      <td>0</td>\n",
              "      <td>0</td>\n",
              "      <td>0</td>\n",
              "      <td>0.6230</td>\n",
              "      <td>0.3000</td>\n",
              "      <td>0.1900</td>\n",
              "      <td>0.08000</td>\n",
              "      <td>0.9400</td>\n",
              "      <td>0.790000</td>\n",
              "      <td>1.00</td>\n",
              "    </tr>\n",
              "    <tr>\n",
              "      <th>1</th>\n",
              "      <td>0</td>\n",
              "      <td>0</td>\n",
              "      <td>0</td>\n",
              "      <td>0</td>\n",
              "      <td>1</td>\n",
              "      <td>0</td>\n",
              "      <td>1</td>\n",
              "      <td>0</td>\n",
              "      <td>0</td>\n",
              "      <td>0</td>\n",
              "      <td>0.7037</td>\n",
              "      <td>0.4815</td>\n",
              "      <td>0.3148</td>\n",
              "      <td>0.24070</td>\n",
              "      <td>0.9444</td>\n",
              "      <td>0.722200</td>\n",
              "      <td>0.60</td>\n",
              "    </tr>\n",
              "    <tr>\n",
              "      <th>2</th>\n",
              "      <td>1</td>\n",
              "      <td>0</td>\n",
              "      <td>0</td>\n",
              "      <td>0</td>\n",
              "      <td>0</td>\n",
              "      <td>0</td>\n",
              "      <td>1</td>\n",
              "      <td>0</td>\n",
              "      <td>0</td>\n",
              "      <td>0</td>\n",
              "      <td>0.5912</td>\n",
              "      <td>0.2336</td>\n",
              "      <td>0.1387</td>\n",
              "      <td>0.01460</td>\n",
              "      <td>0.9416</td>\n",
              "      <td>0.817500</td>\n",
              "      <td>1.10</td>\n",
              "    </tr>\n",
              "    <tr>\n",
              "      <th>3</th>\n",
              "      <td>1</td>\n",
              "      <td>0</td>\n",
              "      <td>0</td>\n",
              "      <td>0</td>\n",
              "      <td>0</td>\n",
              "      <td>0</td>\n",
              "      <td>1</td>\n",
              "      <td>0</td>\n",
              "      <td>0</td>\n",
              "      <td>0</td>\n",
              "      <td>0.6030</td>\n",
              "      <td>0.2127</td>\n",
              "      <td>0.1160</td>\n",
              "      <td>0.03595</td>\n",
              "      <td>0.9150</td>\n",
              "      <td>0.760625</td>\n",
              "      <td>0.90</td>\n",
              "    </tr>\n",
              "    <tr>\n",
              "      <th>4</th>\n",
              "      <td>1</td>\n",
              "      <td>0</td>\n",
              "      <td>0</td>\n",
              "      <td>0</td>\n",
              "      <td>0</td>\n",
              "      <td>0</td>\n",
              "      <td>1</td>\n",
              "      <td>0</td>\n",
              "      <td>0</td>\n",
              "      <td>0</td>\n",
              "      <td>0.6160</td>\n",
              "      <td>0.1918</td>\n",
              "      <td>0.1010</td>\n",
              "      <td>0.05730</td>\n",
              "      <td>0.8990</td>\n",
              "      <td>0.703750</td>\n",
              "      <td>0.80</td>\n",
              "    </tr>\n",
              "    <tr>\n",
              "      <th>...</th>\n",
              "      <td>...</td>\n",
              "      <td>...</td>\n",
              "      <td>...</td>\n",
              "      <td>...</td>\n",
              "      <td>...</td>\n",
              "      <td>...</td>\n",
              "      <td>...</td>\n",
              "      <td>...</td>\n",
              "      <td>...</td>\n",
              "      <td>...</td>\n",
              "      <td>...</td>\n",
              "      <td>...</td>\n",
              "      <td>...</td>\n",
              "      <td>...</td>\n",
              "      <td>...</td>\n",
              "      <td>...</td>\n",
              "      <td>...</td>\n",
              "    </tr>\n",
              "    <tr>\n",
              "      <th>470</th>\n",
              "      <td>0</td>\n",
              "      <td>0</td>\n",
              "      <td>0</td>\n",
              "      <td>0</td>\n",
              "      <td>1</td>\n",
              "      <td>0</td>\n",
              "      <td>0</td>\n",
              "      <td>1</td>\n",
              "      <td>0</td>\n",
              "      <td>0</td>\n",
              "      <td>0.6630</td>\n",
              "      <td>0.3880</td>\n",
              "      <td>0.1220</td>\n",
              "      <td>0.09200</td>\n",
              "      <td>0.8570</td>\n",
              "      <td>0.704000</td>\n",
              "      <td>0.58</td>\n",
              "    </tr>\n",
              "    <tr>\n",
              "      <th>471</th>\n",
              "      <td>0</td>\n",
              "      <td>0</td>\n",
              "      <td>0</td>\n",
              "      <td>0</td>\n",
              "      <td>0</td>\n",
              "      <td>0</td>\n",
              "      <td>1</td>\n",
              "      <td>0</td>\n",
              "      <td>0</td>\n",
              "      <td>0</td>\n",
              "      <td>0.6600</td>\n",
              "      <td>0.6300</td>\n",
              "      <td>0.3600</td>\n",
              "      <td>0.19000</td>\n",
              "      <td>0.7100</td>\n",
              "      <td>0.660000</td>\n",
              "      <td>0.80</td>\n",
              "    </tr>\n",
              "    <tr>\n",
              "      <th>472</th>\n",
              "      <td>0</td>\n",
              "      <td>0</td>\n",
              "      <td>0</td>\n",
              "      <td>0</td>\n",
              "      <td>1</td>\n",
              "      <td>0</td>\n",
              "      <td>1</td>\n",
              "      <td>0</td>\n",
              "      <td>0</td>\n",
              "      <td>0</td>\n",
              "      <td>0.5900</td>\n",
              "      <td>0.4336</td>\n",
              "      <td>0.2368</td>\n",
              "      <td>0.07020</td>\n",
              "      <td>0.3665</td>\n",
              "      <td>0.660000</td>\n",
              "      <td>0.80</td>\n",
              "    </tr>\n",
              "    <tr>\n",
              "      <th>473</th>\n",
              "      <td>0</td>\n",
              "      <td>0</td>\n",
              "      <td>0</td>\n",
              "      <td>0</td>\n",
              "      <td>1</td>\n",
              "      <td>0</td>\n",
              "      <td>1</td>\n",
              "      <td>0</td>\n",
              "      <td>0</td>\n",
              "      <td>0</td>\n",
              "      <td>0.5600</td>\n",
              "      <td>0.4600</td>\n",
              "      <td>0.2500</td>\n",
              "      <td>0.09000</td>\n",
              "      <td>0.3500</td>\n",
              "      <td>0.660000</td>\n",
              "      <td>0.80</td>\n",
              "    </tr>\n",
              "    <tr>\n",
              "      <th>474</th>\n",
              "      <td>0</td>\n",
              "      <td>0</td>\n",
              "      <td>0</td>\n",
              "      <td>0</td>\n",
              "      <td>1</td>\n",
              "      <td>0</td>\n",
              "      <td>1</td>\n",
              "      <td>0</td>\n",
              "      <td>0</td>\n",
              "      <td>0</td>\n",
              "      <td>0.6500</td>\n",
              "      <td>0.3800</td>\n",
              "      <td>0.2100</td>\n",
              "      <td>0.03000</td>\n",
              "      <td>0.4000</td>\n",
              "      <td>0.660000</td>\n",
              "      <td>0.70</td>\n",
              "    </tr>\n",
              "  </tbody>\n",
              "</table>\n",
              "<p>471 rows × 17 columns</p>\n",
              "</div>"
            ],
            "text/plain": [
              "     All  Both  ...     Cough  Lymphocyte Count (10^9/L) - Median\n",
              "0      1     0  ...  0.790000                                1.00\n",
              "1      0     0  ...  0.722200                                0.60\n",
              "2      1     0  ...  0.817500                                1.10\n",
              "3      1     0  ...  0.760625                                0.90\n",
              "4      1     0  ...  0.703750                                0.80\n",
              "..   ...   ...  ...       ...                                 ...\n",
              "470    0     0  ...  0.704000                                0.58\n",
              "471    0     0  ...  0.660000                                0.80\n",
              "472    0     0  ...  0.660000                                0.80\n",
              "473    0     0  ...  0.660000                                0.80\n",
              "474    0     0  ...  0.660000                                0.70\n",
              "\n",
              "[471 rows x 17 columns]"
            ]
          },
          "metadata": {
            "tags": []
          },
          "execution_count": 653
        }
      ]
    },
    {
      "cell_type": "code",
      "metadata": {
        "id": "7wKNvGOzqiHR"
      },
      "source": [
        "X_train_scaled=sc.fit_transform(X_train)"
      ],
      "execution_count": 656,
      "outputs": []
    },
    {
      "cell_type": "code",
      "metadata": {
        "colab": {
          "base_uri": "https://localhost:8080/"
        },
        "id": "RWNVb8qMNz9d",
        "outputId": "fb8d92eb-ff93-4375-cd37-cc220823f0ff"
      },
      "source": [
        "X_train.isnull().sum()"
      ],
      "execution_count": 655,
      "outputs": [
        {
          "output_type": "execute_result",
          "data": {
            "text/plain": [
              "All                                   0\n",
              "Both                                  0\n",
              "Mild                                  0\n",
              "Mild only                             0\n",
              "Severe/Critical Only                  0\n",
              "Severe/critical only                  0\n",
              "Both                                  0\n",
              "No                                    0\n",
              "Non-ventilation only                  0\n",
              "Ventilation only                      0\n",
              "% Male                                0\n",
              "Hypertension                          0\n",
              "Diabetes                              0\n",
              "Cardiovascular Disease (incl. CAD)    0\n",
              "Fever (temperature ≥37·3°C)           0\n",
              "Cough                                 0\n",
              "Lymphocyte Count (10^9/L) - Median    0\n",
              "dtype: int64"
            ]
          },
          "metadata": {
            "tags": []
          },
          "execution_count": 655
        }
      ]
    },
    {
      "cell_type": "code",
      "metadata": {
        "colab": {
          "base_uri": "https://localhost:8080/"
        },
        "id": "DogQsNFtr0ER",
        "outputId": "c2aebd4e-1b26-40a9-8542-5a1b6e7d1113"
      },
      "source": [
        "X_train_scaled"
      ],
      "execution_count": 657,
      "outputs": [
        {
          "output_type": "execute_result",
          "data": {
            "text/plain": [
              "array([[1.        , 0.        , 0.        , ..., 0.86432442, 0.79      ,\n",
              "        0.03077931],\n",
              "       [0.        , 0.        , 0.        , ..., 0.86487966, 0.7222    ,\n",
              "        0.01768173],\n",
              "       [1.        , 0.        , 0.        , ..., 0.86452632, 0.8175    ,\n",
              "        0.0340537 ],\n",
              "       ...,\n",
              "       [0.        , 0.        , 0.        , ..., 0.7919529 , 0.66      ,\n",
              "        0.02423052],\n",
              "       [0.        , 0.        , 0.        , ..., 0.78987072, 0.66      ,\n",
              "        0.02423052],\n",
              "       [0.        , 0.        , 0.        , ..., 0.79618035, 0.66      ,\n",
              "        0.02095612]])"
            ]
          },
          "metadata": {
            "tags": []
          },
          "execution_count": 657
        }
      ]
    },
    {
      "cell_type": "code",
      "metadata": {
        "colab": {
          "base_uri": "https://localhost:8080/"
        },
        "id": "M9_0WSwBuk_p",
        "outputId": "6e98b972-03a4-4c94-a9e1-cf8e06f4a22e"
      },
      "source": [
        "y_train.shape"
      ],
      "execution_count": 658,
      "outputs": [
        {
          "output_type": "execute_result",
          "data": {
            "text/plain": [
              "(471,)"
            ]
          },
          "metadata": {
            "tags": []
          },
          "execution_count": 658
        }
      ]
    },
    {
      "cell_type": "code",
      "metadata": {
        "id": "cbU17Hymqk6k"
      },
      "source": [
        "from sklearn.model_selection import train_test_split"
      ],
      "execution_count": 272,
      "outputs": []
    },
    {
      "cell_type": "code",
      "metadata": {
        "colab": {
          "base_uri": "https://localhost:8080/"
        },
        "id": "dTX2LOB3rpfO",
        "outputId": "c2c6523c-ad89-4114-bc25-e22273940065"
      },
      "source": [
        "X_train, y_train"
      ],
      "execution_count": 659,
      "outputs": [
        {
          "output_type": "execute_result",
          "data": {
            "text/plain": [
              "(     All  Both  ...     Cough  Lymphocyte Count (10^9/L) - Median\n",
              " 0      1     0  ...  0.790000                                1.00\n",
              " 1      0     0  ...  0.722200                                0.60\n",
              " 2      1     0  ...  0.817500                                1.10\n",
              " 3      1     0  ...  0.760625                                0.90\n",
              " 4      1     0  ...  0.703750                                0.80\n",
              " ..   ...   ...  ...       ...                                 ...\n",
              " 470    0     0  ...  0.704000                                0.58\n",
              " 471    0     0  ...  0.660000                                0.80\n",
              " 472    0     0  ...  0.660000                                0.80\n",
              " 473    0     0  ...  0.660000                                0.80\n",
              " 474    0     0  ...  0.660000                                0.70\n",
              " \n",
              " [471 rows x 17 columns], 0      0.28\n",
              " 1      1.00\n",
              " 2      0.00\n",
              " 3      0.16\n",
              " 4      0.15\n",
              "        ... \n",
              " 470    0.56\n",
              " 471    0.58\n",
              " 472    1.00\n",
              " 473    0.00\n",
              " 474    0.00\n",
              " Name: Mortality, Length: 471, dtype: float64)"
            ]
          },
          "metadata": {
            "tags": []
          },
          "execution_count": 659
        }
      ]
    },
    {
      "cell_type": "code",
      "metadata": {
        "colab": {
          "base_uri": "https://localhost:8080/"
        },
        "id": "YdrAX_HuGYtC",
        "outputId": "72bc7a8d-0733-46ac-9972-81b518497af7"
      },
      "source": [
        "X_train.shape"
      ],
      "execution_count": 619,
      "outputs": [
        {
          "output_type": "execute_result",
          "data": {
            "text/plain": [
              "(471, 17)"
            ]
          },
          "metadata": {
            "tags": []
          },
          "execution_count": 619
        }
      ]
    },
    {
      "cell_type": "code",
      "metadata": {
        "id": "3rB2V94Cw9-Y"
      },
      "source": [
        "from sklearn.ensemble import RandomForestRegressor"
      ],
      "execution_count": 306,
      "outputs": []
    },
    {
      "cell_type": "code",
      "metadata": {
        "id": "eNAksMB0xC2B"
      },
      "source": [
        "rf=RandomForestRegressor()"
      ],
      "execution_count": 660,
      "outputs": []
    },
    {
      "cell_type": "code",
      "metadata": {
        "colab": {
          "base_uri": "https://localhost:8080/"
        },
        "id": "cDsdAMwlxDBi",
        "outputId": "3846ed0a-b843-4cc2-e5d1-dc04aa602ff9"
      },
      "source": [
        "rf.fit(X_train_scaled,y_train)"
      ],
      "execution_count": 661,
      "outputs": [
        {
          "output_type": "execute_result",
          "data": {
            "text/plain": [
              "RandomForestRegressor(bootstrap=True, ccp_alpha=0.0, criterion='mse',\n",
              "                      max_depth=None, max_features='auto', max_leaf_nodes=None,\n",
              "                      max_samples=None, min_impurity_decrease=0.0,\n",
              "                      min_impurity_split=None, min_samples_leaf=1,\n",
              "                      min_samples_split=2, min_weight_fraction_leaf=0.0,\n",
              "                      n_estimators=100, n_jobs=None, oob_score=False,\n",
              "                      random_state=None, verbose=0, warm_start=False)"
            ]
          },
          "metadata": {
            "tags": []
          },
          "execution_count": 661
        }
      ]
    },
    {
      "cell_type": "code",
      "metadata": {
        "id": "Ac-Z-FT6r50u"
      },
      "source": [
        "df_test=pd.read_excel('test_data.xlsx')"
      ],
      "execution_count": 312,
      "outputs": []
    },
    {
      "cell_type": "code",
      "metadata": {
        "colab": {
          "base_uri": "https://localhost:8080/"
        },
        "id": "OWkniDUexbAz",
        "outputId": "bd16ed98-60b1-45ef-e359-9a9269f6067b"
      },
      "source": [
        "df_test.shape\n"
      ],
      "execution_count": 314,
      "outputs": [
        {
          "output_type": "execute_result",
          "data": {
            "text/plain": [
              "(53, 54)"
            ]
          },
          "metadata": {
            "tags": []
          },
          "execution_count": 314
        }
      ]
    },
    {
      "cell_type": "code",
      "metadata": {
        "colab": {
          "base_uri": "https://localhost:8080/"
        },
        "id": "lGkonoVi9PQ1",
        "outputId": "3ca8295e-fd1b-4ad0-9839-8522279addcd"
      },
      "source": [
        "Counter(df_test['Ventilation'])"
      ],
      "execution_count": 408,
      "outputs": [
        {
          "output_type": "execute_result",
          "data": {
            "text/plain": [
              "Counter({'Both': 38, 'Non-ventilation only': 2, 'Ventilation only': 6, nan: 7})"
            ]
          },
          "metadata": {
            "tags": []
          },
          "execution_count": 408
        }
      ]
    },
    {
      "cell_type": "code",
      "metadata": {
        "colab": {
          "base_uri": "https://localhost:8080/",
          "height": 266
        },
        "id": "pMCzDOj-sVvt",
        "outputId": "9712cd41-afad-4f0d-938e-9dc71d5012d0"
      },
      "source": [
        "X_train.head()"
      ],
      "execution_count": 434,
      "outputs": [
        {
          "output_type": "execute_result",
          "data": {
            "text/html": [
              "<div>\n",
              "<style scoped>\n",
              "    .dataframe tbody tr th:only-of-type {\n",
              "        vertical-align: middle;\n",
              "    }\n",
              "\n",
              "    .dataframe tbody tr th {\n",
              "        vertical-align: top;\n",
              "    }\n",
              "\n",
              "    .dataframe thead th {\n",
              "        text-align: right;\n",
              "    }\n",
              "</style>\n",
              "<table border=\"1\" class=\"dataframe\">\n",
              "  <thead>\n",
              "    <tr style=\"text-align: right;\">\n",
              "      <th></th>\n",
              "      <th>All</th>\n",
              "      <th>Asymptomatic only</th>\n",
              "      <th>Both</th>\n",
              "      <th>Mild</th>\n",
              "      <th>Mild only</th>\n",
              "      <th>Severe</th>\n",
              "      <th>Severe/Critical Only</th>\n",
              "      <th>Severe/critical only</th>\n",
              "      <th>Both</th>\n",
              "      <th>No</th>\n",
              "      <th>Non-ventilation only</th>\n",
              "      <th>Ventilation only</th>\n",
              "      <th>Yes</th>\n",
              "      <th>ΝΑ</th>\n",
              "      <th>ID</th>\n",
              "      <th>% Male</th>\n",
              "      <th>Hypertension</th>\n",
              "      <th>Diabetes</th>\n",
              "      <th>Cardiovascular Disease (incl. CAD)</th>\n",
              "      <th>Fever (temperature ≥37·3°C)</th>\n",
              "      <th>Cough</th>\n",
              "      <th>Lymphocyte Count (10^9/L) - Median</th>\n",
              "    </tr>\n",
              "  </thead>\n",
              "  <tbody>\n",
              "    <tr>\n",
              "      <th>0</th>\n",
              "      <td>1</td>\n",
              "      <td>0</td>\n",
              "      <td>0</td>\n",
              "      <td>0</td>\n",
              "      <td>0</td>\n",
              "      <td>0</td>\n",
              "      <td>0</td>\n",
              "      <td>0</td>\n",
              "      <td>1</td>\n",
              "      <td>0</td>\n",
              "      <td>0</td>\n",
              "      <td>0</td>\n",
              "      <td>0</td>\n",
              "      <td>0</td>\n",
              "      <td>1</td>\n",
              "      <td>0.6230</td>\n",
              "      <td>0.3000</td>\n",
              "      <td>0.1900</td>\n",
              "      <td>0.08000</td>\n",
              "      <td>0.9400</td>\n",
              "      <td>0.790000</td>\n",
              "      <td>1.0</td>\n",
              "    </tr>\n",
              "    <tr>\n",
              "      <th>1</th>\n",
              "      <td>0</td>\n",
              "      <td>0</td>\n",
              "      <td>0</td>\n",
              "      <td>0</td>\n",
              "      <td>0</td>\n",
              "      <td>0</td>\n",
              "      <td>1</td>\n",
              "      <td>0</td>\n",
              "      <td>1</td>\n",
              "      <td>0</td>\n",
              "      <td>0</td>\n",
              "      <td>0</td>\n",
              "      <td>0</td>\n",
              "      <td>0</td>\n",
              "      <td>1</td>\n",
              "      <td>0.7037</td>\n",
              "      <td>0.4815</td>\n",
              "      <td>0.3148</td>\n",
              "      <td>0.24070</td>\n",
              "      <td>0.9444</td>\n",
              "      <td>0.722200</td>\n",
              "      <td>0.6</td>\n",
              "    </tr>\n",
              "    <tr>\n",
              "      <th>2</th>\n",
              "      <td>1</td>\n",
              "      <td>0</td>\n",
              "      <td>0</td>\n",
              "      <td>0</td>\n",
              "      <td>0</td>\n",
              "      <td>0</td>\n",
              "      <td>0</td>\n",
              "      <td>0</td>\n",
              "      <td>1</td>\n",
              "      <td>0</td>\n",
              "      <td>0</td>\n",
              "      <td>0</td>\n",
              "      <td>0</td>\n",
              "      <td>0</td>\n",
              "      <td>1</td>\n",
              "      <td>0.5912</td>\n",
              "      <td>0.2336</td>\n",
              "      <td>0.1387</td>\n",
              "      <td>0.01460</td>\n",
              "      <td>0.9416</td>\n",
              "      <td>0.817500</td>\n",
              "      <td>1.1</td>\n",
              "    </tr>\n",
              "    <tr>\n",
              "      <th>3</th>\n",
              "      <td>1</td>\n",
              "      <td>0</td>\n",
              "      <td>0</td>\n",
              "      <td>0</td>\n",
              "      <td>0</td>\n",
              "      <td>0</td>\n",
              "      <td>0</td>\n",
              "      <td>0</td>\n",
              "      <td>1</td>\n",
              "      <td>0</td>\n",
              "      <td>0</td>\n",
              "      <td>0</td>\n",
              "      <td>0</td>\n",
              "      <td>0</td>\n",
              "      <td>2</td>\n",
              "      <td>0.6030</td>\n",
              "      <td>0.2127</td>\n",
              "      <td>0.1160</td>\n",
              "      <td>0.03595</td>\n",
              "      <td>0.9150</td>\n",
              "      <td>0.760625</td>\n",
              "      <td>0.9</td>\n",
              "    </tr>\n",
              "    <tr>\n",
              "      <th>4</th>\n",
              "      <td>1</td>\n",
              "      <td>0</td>\n",
              "      <td>0</td>\n",
              "      <td>0</td>\n",
              "      <td>0</td>\n",
              "      <td>0</td>\n",
              "      <td>0</td>\n",
              "      <td>0</td>\n",
              "      <td>1</td>\n",
              "      <td>0</td>\n",
              "      <td>0</td>\n",
              "      <td>0</td>\n",
              "      <td>0</td>\n",
              "      <td>0</td>\n",
              "      <td>2</td>\n",
              "      <td>0.6160</td>\n",
              "      <td>0.1918</td>\n",
              "      <td>0.1010</td>\n",
              "      <td>0.05730</td>\n",
              "      <td>0.8990</td>\n",
              "      <td>0.703750</td>\n",
              "      <td>0.8</td>\n",
              "    </tr>\n",
              "  </tbody>\n",
              "</table>\n",
              "</div>"
            ],
            "text/plain": [
              "   All  Asymptomatic only  ...     Cough  Lymphocyte Count (10^9/L) - Median\n",
              "0    1                  0  ...  0.790000                                 1.0\n",
              "1    0                  0  ...  0.722200                                 0.6\n",
              "2    1                  0  ...  0.817500                                 1.1\n",
              "3    1                  0  ...  0.760625                                 0.9\n",
              "4    1                  0  ...  0.703750                                 0.8\n",
              "\n",
              "[5 rows x 22 columns]"
            ]
          },
          "metadata": {
            "tags": []
          },
          "execution_count": 434
        }
      ]
    },
    {
      "cell_type": "code",
      "metadata": {
        "colab": {
          "base_uri": "https://localhost:8080/",
          "height": 366
        },
        "id": "-VGACCPgRnXC",
        "outputId": "d40fe706-4813-442e-90ca-f5a25af252a0"
      },
      "source": [
        "df_test.head()"
      ],
      "execution_count": 675,
      "outputs": [
        {
          "output_type": "execute_result",
          "data": {
            "text/html": [
              "<div>\n",
              "<style scoped>\n",
              "    .dataframe tbody tr th:only-of-type {\n",
              "        vertical-align: middle;\n",
              "    }\n",
              "\n",
              "    .dataframe tbody tr th {\n",
              "        vertical-align: top;\n",
              "    }\n",
              "\n",
              "    .dataframe thead th {\n",
              "        text-align: right;\n",
              "    }\n",
              "</style>\n",
              "<table border=\"1\" class=\"dataframe\">\n",
              "  <thead>\n",
              "    <tr style=\"text-align: right;\">\n",
              "      <th></th>\n",
              "      <th>ID</th>\n",
              "      <th>Severity</th>\n",
              "      <th>Ventilation</th>\n",
              "      <th>Mean Age</th>\n",
              "      <th>% Male</th>\n",
              "      <th>Any Comorbidity</th>\n",
              "      <th>Hypertension</th>\n",
              "      <th>Diabetes</th>\n",
              "      <th>Cardiovascular Disease (incl. CAD)</th>\n",
              "      <th>Chronic obstructive lung (COPD)</th>\n",
              "      <th>Cancer (Any)</th>\n",
              "      <th>Liver Disease (any)</th>\n",
              "      <th>Cerebrovascular Disease</th>\n",
              "      <th>Chronic kidney/renal disease</th>\n",
              "      <th>Other</th>\n",
              "      <th>Fever (temperature ≥37·3°C)</th>\n",
              "      <th>Average temperature (celsius)</th>\n",
              "      <th>Max temperature (celsius)</th>\n",
              "      <th>Respiratory rate &gt; 24 breaths per min</th>\n",
              "      <th>Cough</th>\n",
              "      <th>Shortness of Breath (dyspnoea)</th>\n",
              "      <th>Headache</th>\n",
              "      <th>Sputum (/Expectoration)</th>\n",
              "      <th>Myalgia (Muscle Pain)</th>\n",
              "      <th>Fatigue</th>\n",
              "      <th>Diarrhoea</th>\n",
              "      <th>Nausea or Vomiting</th>\n",
              "      <th>Loss of Appetite/Anorexia</th>\n",
              "      <th>Disease Severity Asymptomatic</th>\n",
              "      <th>Disease Severity General</th>\n",
              "      <th>Disease Severity Severe</th>\n",
              "      <th>Disease Severity Critical</th>\n",
              "      <th>White Blood Cell Count (10^9/L) - Median</th>\n",
              "      <th>White Blood Cell Count (10^9/L) - LQ</th>\n",
              "      <th>White Blood Cell Count (10^9/L) - UQ</th>\n",
              "      <th>Lymphocyte Count (10^9/L) - Median</th>\n",
              "      <th>Lymphocyte Count (10^9/L) - LQ</th>\n",
              "      <th>Lymphocyte Count (10^9/L) - UQ</th>\n",
              "      <th>Platelet Count (10^9/L) - Median</th>\n",
              "      <th>Platelet Count (10^9/L) - LQ</th>\n",
              "      <th>Platelet Count (10^9/L) - UQ</th>\n",
              "      <th>Hemoglobin (g/L) - Median</th>\n",
              "      <th>Hemoglobin (g/L) - LQ</th>\n",
              "      <th>Hemoglobin (g/L) - UQ</th>\n",
              "      <th>Albumin (g/L)</th>\n",
              "      <th>Alanine Aminotransferase (U/L)</th>\n",
              "      <th>Aspartate Aminotransferase (U/L)</th>\n",
              "      <th>Antibiotic</th>\n",
              "      <th>Antiviral (Any)</th>\n",
              "      <th>Heart failure</th>\n",
              "      <th>Acute kidney injury (AKI)</th>\n",
              "      <th>Secondary infection/ Bacterial infection</th>\n",
              "      <th>ICU length of stay, days</th>\n",
              "      <th>Hospital length of stay, days</th>\n",
              "    </tr>\n",
              "  </thead>\n",
              "  <tbody>\n",
              "    <tr>\n",
              "      <th>0</th>\n",
              "      <td>155</td>\n",
              "      <td>Mild only</td>\n",
              "      <td>Both</td>\n",
              "      <td>48.900000</td>\n",
              "      <td>0.3410</td>\n",
              "      <td>0.325</td>\n",
              "      <td>0.1510</td>\n",
              "      <td>0.1190</td>\n",
              "      <td>0.0630</td>\n",
              "      <td>NaN</td>\n",
              "      <td>0.0630</td>\n",
              "      <td>NaN</td>\n",
              "      <td>NaN</td>\n",
              "      <td>0.032</td>\n",
              "      <td>NaN</td>\n",
              "      <td>0.730</td>\n",
              "      <td>0.611</td>\n",
              "      <td>NaN</td>\n",
              "      <td>NaN</td>\n",
              "      <td>0.6110</td>\n",
              "      <td>NaN</td>\n",
              "      <td>0.103</td>\n",
              "      <td>NaN</td>\n",
              "      <td>0.0320</td>\n",
              "      <td>NaN</td>\n",
              "      <td>0.2220</td>\n",
              "      <td>NaN</td>\n",
              "      <td>0.3730</td>\n",
              "      <td>0.0</td>\n",
              "      <td>1.0</td>\n",
              "      <td>0.0</td>\n",
              "      <td>0.0</td>\n",
              "      <td>4.50</td>\n",
              "      <td>NaN</td>\n",
              "      <td>NaN</td>\n",
              "      <td>1.30</td>\n",
              "      <td>NaN</td>\n",
              "      <td>NaN</td>\n",
              "      <td>219.00</td>\n",
              "      <td>NaN</td>\n",
              "      <td>NaN</td>\n",
              "      <td>NaN</td>\n",
              "      <td>NaN</td>\n",
              "      <td>NaN</td>\n",
              "      <td>NaN</td>\n",
              "      <td>23.0</td>\n",
              "      <td>23.0</td>\n",
              "      <td>NaN</td>\n",
              "      <td>NaN</td>\n",
              "      <td>NaN</td>\n",
              "      <td>NaN</td>\n",
              "      <td>NaN</td>\n",
              "      <td>NaN</td>\n",
              "      <td>NaN</td>\n",
              "    </tr>\n",
              "    <tr>\n",
              "      <th>1</th>\n",
              "      <td>156</td>\n",
              "      <td>Severe/Critical Only</td>\n",
              "      <td>Both</td>\n",
              "      <td>NaN</td>\n",
              "      <td>0.7500</td>\n",
              "      <td>0.680</td>\n",
              "      <td>0.2500</td>\n",
              "      <td>0.1700</td>\n",
              "      <td>0.1100</td>\n",
              "      <td>0.1100</td>\n",
              "      <td>NaN</td>\n",
              "      <td>NaN</td>\n",
              "      <td>NaN</td>\n",
              "      <td>NaN</td>\n",
              "      <td>NaN</td>\n",
              "      <td>NaN</td>\n",
              "      <td>NaN</td>\n",
              "      <td>NaN</td>\n",
              "      <td>NaN</td>\n",
              "      <td>NaN</td>\n",
              "      <td>NaN</td>\n",
              "      <td>NaN</td>\n",
              "      <td>NaN</td>\n",
              "      <td>NaN</td>\n",
              "      <td>NaN</td>\n",
              "      <td>0.0900</td>\n",
              "      <td>NaN</td>\n",
              "      <td>NaN</td>\n",
              "      <td>NaN</td>\n",
              "      <td>NaN</td>\n",
              "      <td>NaN</td>\n",
              "      <td>NaN</td>\n",
              "      <td>NaN</td>\n",
              "      <td>NaN</td>\n",
              "      <td>NaN</td>\n",
              "      <td>NaN</td>\n",
              "      <td>NaN</td>\n",
              "      <td>NaN</td>\n",
              "      <td>NaN</td>\n",
              "      <td>NaN</td>\n",
              "      <td>NaN</td>\n",
              "      <td>NaN</td>\n",
              "      <td>NaN</td>\n",
              "      <td>NaN</td>\n",
              "      <td>NaN</td>\n",
              "      <td>37.0</td>\n",
              "      <td>36.0</td>\n",
              "      <td>NaN</td>\n",
              "      <td>1.0</td>\n",
              "      <td>NaN</td>\n",
              "      <td>0.06</td>\n",
              "      <td>NaN</td>\n",
              "      <td>10.0</td>\n",
              "      <td>16.0</td>\n",
              "    </tr>\n",
              "    <tr>\n",
              "      <th>2</th>\n",
              "      <td>156</td>\n",
              "      <td>Severe/Critical Only</td>\n",
              "      <td>Ventilation only</td>\n",
              "      <td>NaN</td>\n",
              "      <td>0.7900</td>\n",
              "      <td>0.740</td>\n",
              "      <td>0.2600</td>\n",
              "      <td>0.2400</td>\n",
              "      <td>0.1800</td>\n",
              "      <td>0.1500</td>\n",
              "      <td>NaN</td>\n",
              "      <td>NaN</td>\n",
              "      <td>NaN</td>\n",
              "      <td>NaN</td>\n",
              "      <td>NaN</td>\n",
              "      <td>NaN</td>\n",
              "      <td>NaN</td>\n",
              "      <td>NaN</td>\n",
              "      <td>NaN</td>\n",
              "      <td>NaN</td>\n",
              "      <td>NaN</td>\n",
              "      <td>NaN</td>\n",
              "      <td>NaN</td>\n",
              "      <td>NaN</td>\n",
              "      <td>NaN</td>\n",
              "      <td>0.0300</td>\n",
              "      <td>NaN</td>\n",
              "      <td>NaN</td>\n",
              "      <td>NaN</td>\n",
              "      <td>NaN</td>\n",
              "      <td>NaN</td>\n",
              "      <td>NaN</td>\n",
              "      <td>NaN</td>\n",
              "      <td>NaN</td>\n",
              "      <td>NaN</td>\n",
              "      <td>NaN</td>\n",
              "      <td>NaN</td>\n",
              "      <td>NaN</td>\n",
              "      <td>NaN</td>\n",
              "      <td>NaN</td>\n",
              "      <td>NaN</td>\n",
              "      <td>NaN</td>\n",
              "      <td>NaN</td>\n",
              "      <td>NaN</td>\n",
              "      <td>NaN</td>\n",
              "      <td>48.0</td>\n",
              "      <td>39.0</td>\n",
              "      <td>NaN</td>\n",
              "      <td>1.0</td>\n",
              "      <td>NaN</td>\n",
              "      <td>0.05</td>\n",
              "      <td>NaN</td>\n",
              "      <td>12.0</td>\n",
              "      <td>17.0</td>\n",
              "    </tr>\n",
              "    <tr>\n",
              "      <th>3</th>\n",
              "      <td>156</td>\n",
              "      <td>Severe/Critical Only</td>\n",
              "      <td>Non-ventilation only</td>\n",
              "      <td>NaN</td>\n",
              "      <td>0.6800</td>\n",
              "      <td>0.580</td>\n",
              "      <td>0.2100</td>\n",
              "      <td>0.0500</td>\n",
              "      <td>0.0000</td>\n",
              "      <td>0.0500</td>\n",
              "      <td>NaN</td>\n",
              "      <td>NaN</td>\n",
              "      <td>NaN</td>\n",
              "      <td>NaN</td>\n",
              "      <td>NaN</td>\n",
              "      <td>NaN</td>\n",
              "      <td>NaN</td>\n",
              "      <td>NaN</td>\n",
              "      <td>NaN</td>\n",
              "      <td>NaN</td>\n",
              "      <td>NaN</td>\n",
              "      <td>NaN</td>\n",
              "      <td>NaN</td>\n",
              "      <td>NaN</td>\n",
              "      <td>NaN</td>\n",
              "      <td>0.2100</td>\n",
              "      <td>NaN</td>\n",
              "      <td>NaN</td>\n",
              "      <td>NaN</td>\n",
              "      <td>NaN</td>\n",
              "      <td>NaN</td>\n",
              "      <td>NaN</td>\n",
              "      <td>NaN</td>\n",
              "      <td>NaN</td>\n",
              "      <td>NaN</td>\n",
              "      <td>NaN</td>\n",
              "      <td>NaN</td>\n",
              "      <td>NaN</td>\n",
              "      <td>NaN</td>\n",
              "      <td>NaN</td>\n",
              "      <td>NaN</td>\n",
              "      <td>NaN</td>\n",
              "      <td>NaN</td>\n",
              "      <td>NaN</td>\n",
              "      <td>NaN</td>\n",
              "      <td>27.0</td>\n",
              "      <td>35.0</td>\n",
              "      <td>NaN</td>\n",
              "      <td>1.0</td>\n",
              "      <td>NaN</td>\n",
              "      <td>0.06</td>\n",
              "      <td>NaN</td>\n",
              "      <td>0.0</td>\n",
              "      <td>13.0</td>\n",
              "    </tr>\n",
              "    <tr>\n",
              "      <th>4</th>\n",
              "      <td>157</td>\n",
              "      <td>All</td>\n",
              "      <td>Both</td>\n",
              "      <td>52.943333</td>\n",
              "      <td>0.4654</td>\n",
              "      <td>NaN</td>\n",
              "      <td>0.2121</td>\n",
              "      <td>0.0938</td>\n",
              "      <td>0.0733</td>\n",
              "      <td>0.0327</td>\n",
              "      <td>0.0366</td>\n",
              "      <td>0.03</td>\n",
              "      <td>NaN</td>\n",
              "      <td>NaN</td>\n",
              "      <td>NaN</td>\n",
              "      <td>0.808</td>\n",
              "      <td>NaN</td>\n",
              "      <td>NaN</td>\n",
              "      <td>NaN</td>\n",
              "      <td>0.5715</td>\n",
              "      <td>0.1835</td>\n",
              "      <td>0.049</td>\n",
              "      <td>0.2736</td>\n",
              "      <td>0.3062</td>\n",
              "      <td>0.4773</td>\n",
              "      <td>0.0736</td>\n",
              "      <td>0.0408</td>\n",
              "      <td>0.2284</td>\n",
              "      <td>NaN</td>\n",
              "      <td>NaN</td>\n",
              "      <td>NaN</td>\n",
              "      <td>NaN</td>\n",
              "      <td>5.53</td>\n",
              "      <td>NaN</td>\n",
              "      <td>NaN</td>\n",
              "      <td>0.98</td>\n",
              "      <td>NaN</td>\n",
              "      <td>NaN</td>\n",
              "      <td>181.53</td>\n",
              "      <td>NaN</td>\n",
              "      <td>NaN</td>\n",
              "      <td>127.54</td>\n",
              "      <td>NaN</td>\n",
              "      <td>NaN</td>\n",
              "      <td>NaN</td>\n",
              "      <td>NaN</td>\n",
              "      <td>NaN</td>\n",
              "      <td>NaN</td>\n",
              "      <td>NaN</td>\n",
              "      <td>NaN</td>\n",
              "      <td>NaN</td>\n",
              "      <td>NaN</td>\n",
              "      <td>NaN</td>\n",
              "      <td>NaN</td>\n",
              "    </tr>\n",
              "  </tbody>\n",
              "</table>\n",
              "</div>"
            ],
            "text/plain": [
              "    ID  ... Hospital length of stay, days\n",
              "0  155  ...                           NaN\n",
              "1  156  ...                          16.0\n",
              "2  156  ...                          17.0\n",
              "3  156  ...                          13.0\n",
              "4  157  ...                           NaN\n",
              "\n",
              "[5 rows x 54 columns]"
            ]
          },
          "metadata": {
            "tags": []
          },
          "execution_count": 675
        }
      ]
    },
    {
      "cell_type": "code",
      "metadata": {
        "colab": {
          "base_uri": "https://localhost:8080/"
        },
        "id": "dd7TglEfsY_C",
        "outputId": "342efd36-190a-432a-a499-576873cd5aaa"
      },
      "source": [
        "## servity, ventilation , id , %Male ,Hypertension,diabetes ,cardiovascular, fever , cough ,lymphocyte\n",
        "df_test.columns"
      ],
      "execution_count": 317,
      "outputs": [
        {
          "output_type": "execute_result",
          "data": {
            "text/plain": [
              "Index(['ID', 'Severity', 'Ventilation', 'Mean Age', '% Male',\n",
              "       'Any Comorbidity', 'Hypertension', 'Diabetes',\n",
              "       'Cardiovascular Disease (incl. CAD)', 'Chronic obstructive lung (COPD)',\n",
              "       'Cancer (Any)', 'Liver Disease (any)', 'Cerebrovascular Disease',\n",
              "       'Chronic kidney/renal disease', 'Other', 'Fever (temperature ≥37·3°C)',\n",
              "       'Average temperature (celsius)', 'Max temperature (celsius)',\n",
              "       'Respiratory rate > 24 breaths per min', 'Cough',\n",
              "       'Shortness of Breath (dyspnoea)', 'Headache', 'Sputum (/Expectoration)',\n",
              "       'Myalgia (Muscle Pain)', 'Fatigue', 'Diarrhoea', 'Nausea or Vomiting',\n",
              "       'Loss of Appetite/Anorexia', 'Disease Severity Asymptomatic',\n",
              "       'Disease Severity General', 'Disease Severity Severe',\n",
              "       'Disease Severity Critical', 'White Blood Cell Count (10^9/L) - Median',\n",
              "       'White Blood Cell Count (10^9/L) - LQ',\n",
              "       'White Blood Cell Count (10^9/L) - UQ',\n",
              "       'Lymphocyte Count (10^9/L) - Median', 'Lymphocyte Count (10^9/L) - LQ',\n",
              "       'Lymphocyte Count (10^9/L) - UQ', 'Platelet Count (10^9/L) - Median',\n",
              "       'Platelet Count (10^9/L) - LQ', 'Platelet Count (10^9/L) - UQ',\n",
              "       'Hemoglobin (g/L) - Median', 'Hemoglobin (g/L) - LQ',\n",
              "       'Hemoglobin (g/L) - UQ', 'Albumin (g/L)',\n",
              "       'Alanine Aminotransferase (U/L)', 'Aspartate Aminotransferase (U/L)',\n",
              "       'Antibiotic', 'Antiviral (Any)', 'Heart failure',\n",
              "       'Acute kidney injury (AKI)', 'Secondary infection/ Bacterial infection',\n",
              "       'ICU length of stay, days', 'Hospital length of stay, days'],\n",
              "      dtype='object')"
            ]
          },
          "metadata": {
            "tags": []
          },
          "execution_count": 317
        }
      ]
    },
    {
      "cell_type": "code",
      "metadata": {
        "id": "odIYI7HFshus"
      },
      "source": [
        "frame=pd.DataFrame(data=df_test,columns=['Severity','Ventilation','% Male','Hypertension','Diabetes','Fever (temperature ≥37·3°C)','Cardiovascular Disease (incl. CAD)','Cough','Lymphocyte Count (10^9/L) - Median'])"
      ],
      "execution_count": 331,
      "outputs": []
    },
    {
      "cell_type": "code",
      "metadata": {
        "colab": {
          "base_uri": "https://localhost:8080/",
          "height": 266
        },
        "id": "LN2o4MTLy-JL",
        "outputId": "0a011d19-a4a6-4e12-f03c-8da0ad64eca7"
      },
      "source": [
        "frame.head()"
      ],
      "execution_count": 384,
      "outputs": [
        {
          "output_type": "execute_result",
          "data": {
            "text/html": [
              "<div>\n",
              "<style scoped>\n",
              "    .dataframe tbody tr th:only-of-type {\n",
              "        vertical-align: middle;\n",
              "    }\n",
              "\n",
              "    .dataframe tbody tr th {\n",
              "        vertical-align: top;\n",
              "    }\n",
              "\n",
              "    .dataframe thead th {\n",
              "        text-align: right;\n",
              "    }\n",
              "</style>\n",
              "<table border=\"1\" class=\"dataframe\">\n",
              "  <thead>\n",
              "    <tr style=\"text-align: right;\">\n",
              "      <th></th>\n",
              "      <th>All</th>\n",
              "      <th>Both</th>\n",
              "      <th>Mild Only</th>\n",
              "      <th>Mild only</th>\n",
              "      <th>Severe/Critical Only</th>\n",
              "      <th>Severe/critical only</th>\n",
              "      <th>Both</th>\n",
              "      <th>No</th>\n",
              "      <th>Non-ventilation only</th>\n",
              "      <th>Ventilation only</th>\n",
              "      <th>% Male</th>\n",
              "      <th>Hypertension</th>\n",
              "      <th>Diabetes</th>\n",
              "      <th>Fever (temperature ≥37·3°C)</th>\n",
              "      <th>Cardiovascular Disease (incl. CAD)</th>\n",
              "      <th>Cough</th>\n",
              "      <th>Lymphocyte Count (10^9/L) - Median</th>\n",
              "    </tr>\n",
              "  </thead>\n",
              "  <tbody>\n",
              "    <tr>\n",
              "      <th>0</th>\n",
              "      <td>0</td>\n",
              "      <td>0</td>\n",
              "      <td>0</td>\n",
              "      <td>1</td>\n",
              "      <td>0</td>\n",
              "      <td>0</td>\n",
              "      <td>1</td>\n",
              "      <td>0</td>\n",
              "      <td>0</td>\n",
              "      <td>0</td>\n",
              "      <td>0.3410</td>\n",
              "      <td>0.1510</td>\n",
              "      <td>0.1190</td>\n",
              "      <td>0.730000</td>\n",
              "      <td>0.0630</td>\n",
              "      <td>0.611000</td>\n",
              "      <td>1.30</td>\n",
              "    </tr>\n",
              "    <tr>\n",
              "      <th>1</th>\n",
              "      <td>0</td>\n",
              "      <td>0</td>\n",
              "      <td>0</td>\n",
              "      <td>0</td>\n",
              "      <td>1</td>\n",
              "      <td>0</td>\n",
              "      <td>1</td>\n",
              "      <td>0</td>\n",
              "      <td>0</td>\n",
              "      <td>0</td>\n",
              "      <td>0.7500</td>\n",
              "      <td>0.2500</td>\n",
              "      <td>0.1700</td>\n",
              "      <td>0.906098</td>\n",
              "      <td>0.1100</td>\n",
              "      <td>0.601125</td>\n",
              "      <td>1.22</td>\n",
              "    </tr>\n",
              "    <tr>\n",
              "      <th>2</th>\n",
              "      <td>0</td>\n",
              "      <td>0</td>\n",
              "      <td>0</td>\n",
              "      <td>0</td>\n",
              "      <td>1</td>\n",
              "      <td>0</td>\n",
              "      <td>0</td>\n",
              "      <td>0</td>\n",
              "      <td>0</td>\n",
              "      <td>1</td>\n",
              "      <td>0.7900</td>\n",
              "      <td>0.2600</td>\n",
              "      <td>0.2400</td>\n",
              "      <td>0.942318</td>\n",
              "      <td>0.1800</td>\n",
              "      <td>0.591250</td>\n",
              "      <td>1.14</td>\n",
              "    </tr>\n",
              "    <tr>\n",
              "      <th>3</th>\n",
              "      <td>0</td>\n",
              "      <td>0</td>\n",
              "      <td>0</td>\n",
              "      <td>0</td>\n",
              "      <td>1</td>\n",
              "      <td>0</td>\n",
              "      <td>0</td>\n",
              "      <td>0</td>\n",
              "      <td>1</td>\n",
              "      <td>0</td>\n",
              "      <td>0.6800</td>\n",
              "      <td>0.2100</td>\n",
              "      <td>0.0500</td>\n",
              "      <td>0.891879</td>\n",
              "      <td>0.0000</td>\n",
              "      <td>0.581375</td>\n",
              "      <td>1.06</td>\n",
              "    </tr>\n",
              "    <tr>\n",
              "      <th>4</th>\n",
              "      <td>1</td>\n",
              "      <td>0</td>\n",
              "      <td>0</td>\n",
              "      <td>0</td>\n",
              "      <td>0</td>\n",
              "      <td>0</td>\n",
              "      <td>1</td>\n",
              "      <td>0</td>\n",
              "      <td>0</td>\n",
              "      <td>0</td>\n",
              "      <td>0.4654</td>\n",
              "      <td>0.2121</td>\n",
              "      <td>0.0938</td>\n",
              "      <td>0.808000</td>\n",
              "      <td>0.0733</td>\n",
              "      <td>0.571500</td>\n",
              "      <td>0.98</td>\n",
              "    </tr>\n",
              "  </tbody>\n",
              "</table>\n",
              "</div>"
            ],
            "text/plain": [
              "   All  Both  ...     Cough  Lymphocyte Count (10^9/L) - Median\n",
              "0    0     0  ...  0.611000                                1.30\n",
              "1    0     0  ...  0.601125                                1.22\n",
              "2    0     0  ...  0.591250                                1.14\n",
              "3    0     0  ...  0.581375                                1.06\n",
              "4    1     0  ...  0.571500                                0.98\n",
              "\n",
              "[5 rows x 17 columns]"
            ]
          },
          "metadata": {
            "tags": []
          },
          "execution_count": 384
        }
      ]
    },
    {
      "cell_type": "code",
      "metadata": {
        "colab": {
          "base_uri": "https://localhost:8080/"
        },
        "id": "T7LWxo6nz5oX",
        "outputId": "3e0cdfb7-6389-45a0-f8ef-f0a89cc2b741"
      },
      "source": [
        "frame.shape"
      ],
      "execution_count": 333,
      "outputs": [
        {
          "output_type": "execute_result",
          "data": {
            "text/plain": [
              "(53, 9)"
            ]
          },
          "metadata": {
            "tags": []
          },
          "execution_count": 333
        }
      ]
    },
    {
      "cell_type": "code",
      "metadata": {
        "colab": {
          "base_uri": "https://localhost:8080/"
        },
        "id": "ge78jr9e1eTW",
        "outputId": "32da12ba-3544-4d0c-dbfe-2d07f7d87e87"
      },
      "source": [
        "frame.isnull().sum()"
      ],
      "execution_count": 334,
      "outputs": [
        {
          "output_type": "execute_result",
          "data": {
            "text/plain": [
              "Severity                               0\n",
              "Ventilation                            7\n",
              "% Male                                 8\n",
              "Hypertension                          27\n",
              "Diabetes                              23\n",
              "Fever (temperature ≥37·3°C)           16\n",
              "Cardiovascular Disease (incl. CAD)    18\n",
              "Cough                                 27\n",
              "Lymphocyte Count (10^9/L) - Median    35\n",
              "dtype: int64"
            ]
          },
          "metadata": {
            "tags": []
          },
          "execution_count": 334
        }
      ]
    },
    {
      "cell_type": "code",
      "metadata": {
        "colab": {
          "base_uri": "https://localhost:8080/"
        },
        "id": "1egQttOy-elJ",
        "outputId": "f882c848-1164-4c44-a7a6-430f4fa3da59"
      },
      "source": [
        "Counter(df_test['Severity'])"
      ],
      "execution_count": 411,
      "outputs": [
        {
          "output_type": "execute_result",
          "data": {
            "text/plain": [
              "Counter({'All': 36,\n",
              "         'Both': 4,\n",
              "         'Mild Only': 1,\n",
              "         'Mild only': 2,\n",
              "         'Severe/Critical Only': 9,\n",
              "         'Severe/critical only': 1})"
            ]
          },
          "metadata": {
            "tags": []
          },
          "execution_count": 411
        }
      ]
    },
    {
      "cell_type": "code",
      "metadata": {
        "id": "8x-cAxQ98b3u"
      },
      "source": [
        "frame[]"
      ],
      "execution_count": null,
      "outputs": []
    },
    {
      "cell_type": "code",
      "metadata": {
        "id": "eEKR2z98112P"
      },
      "source": [
        "frame['Ventilation']=frame['Ventilation'].replace(np.nan,'No')"
      ],
      "execution_count": 336,
      "outputs": []
    },
    {
      "cell_type": "code",
      "metadata": {
        "id": "ZjZXuamM2IMH"
      },
      "source": [
        "dummy_vent_test=pd.get_dummies(frame['Ventilation'])\n",
        "dumm_sev_test=pd.get_dummies(frame['Severity'])"
      ],
      "execution_count": 339,
      "outputs": []
    },
    {
      "cell_type": "code",
      "metadata": {
        "colab": {
          "base_uri": "https://localhost:8080/",
          "height": 1000
        },
        "id": "yz5MpBkO2WAk",
        "outputId": "394fd7c6-b743-459f-85f8-de97ab2da889"
      },
      "source": [
        "dumm_sev_test"
      ],
      "execution_count": 341,
      "outputs": [
        {
          "output_type": "execute_result",
          "data": {
            "text/html": [
              "<div>\n",
              "<style scoped>\n",
              "    .dataframe tbody tr th:only-of-type {\n",
              "        vertical-align: middle;\n",
              "    }\n",
              "\n",
              "    .dataframe tbody tr th {\n",
              "        vertical-align: top;\n",
              "    }\n",
              "\n",
              "    .dataframe thead th {\n",
              "        text-align: right;\n",
              "    }\n",
              "</style>\n",
              "<table border=\"1\" class=\"dataframe\">\n",
              "  <thead>\n",
              "    <tr style=\"text-align: right;\">\n",
              "      <th></th>\n",
              "      <th>All</th>\n",
              "      <th>Both</th>\n",
              "      <th>Mild Only</th>\n",
              "      <th>Mild only</th>\n",
              "      <th>Severe/Critical Only</th>\n",
              "      <th>Severe/critical only</th>\n",
              "    </tr>\n",
              "  </thead>\n",
              "  <tbody>\n",
              "    <tr>\n",
              "      <th>0</th>\n",
              "      <td>0</td>\n",
              "      <td>0</td>\n",
              "      <td>0</td>\n",
              "      <td>1</td>\n",
              "      <td>0</td>\n",
              "      <td>0</td>\n",
              "    </tr>\n",
              "    <tr>\n",
              "      <th>1</th>\n",
              "      <td>0</td>\n",
              "      <td>0</td>\n",
              "      <td>0</td>\n",
              "      <td>0</td>\n",
              "      <td>1</td>\n",
              "      <td>0</td>\n",
              "    </tr>\n",
              "    <tr>\n",
              "      <th>2</th>\n",
              "      <td>0</td>\n",
              "      <td>0</td>\n",
              "      <td>0</td>\n",
              "      <td>0</td>\n",
              "      <td>1</td>\n",
              "      <td>0</td>\n",
              "    </tr>\n",
              "    <tr>\n",
              "      <th>3</th>\n",
              "      <td>0</td>\n",
              "      <td>0</td>\n",
              "      <td>0</td>\n",
              "      <td>0</td>\n",
              "      <td>1</td>\n",
              "      <td>0</td>\n",
              "    </tr>\n",
              "    <tr>\n",
              "      <th>4</th>\n",
              "      <td>1</td>\n",
              "      <td>0</td>\n",
              "      <td>0</td>\n",
              "      <td>0</td>\n",
              "      <td>0</td>\n",
              "      <td>0</td>\n",
              "    </tr>\n",
              "    <tr>\n",
              "      <th>5</th>\n",
              "      <td>1</td>\n",
              "      <td>0</td>\n",
              "      <td>0</td>\n",
              "      <td>0</td>\n",
              "      <td>0</td>\n",
              "      <td>0</td>\n",
              "    </tr>\n",
              "    <tr>\n",
              "      <th>6</th>\n",
              "      <td>1</td>\n",
              "      <td>0</td>\n",
              "      <td>0</td>\n",
              "      <td>0</td>\n",
              "      <td>0</td>\n",
              "      <td>0</td>\n",
              "    </tr>\n",
              "    <tr>\n",
              "      <th>7</th>\n",
              "      <td>1</td>\n",
              "      <td>0</td>\n",
              "      <td>0</td>\n",
              "      <td>0</td>\n",
              "      <td>0</td>\n",
              "      <td>0</td>\n",
              "    </tr>\n",
              "    <tr>\n",
              "      <th>8</th>\n",
              "      <td>1</td>\n",
              "      <td>0</td>\n",
              "      <td>0</td>\n",
              "      <td>0</td>\n",
              "      <td>0</td>\n",
              "      <td>0</td>\n",
              "    </tr>\n",
              "    <tr>\n",
              "      <th>9</th>\n",
              "      <td>1</td>\n",
              "      <td>0</td>\n",
              "      <td>0</td>\n",
              "      <td>0</td>\n",
              "      <td>0</td>\n",
              "      <td>0</td>\n",
              "    </tr>\n",
              "    <tr>\n",
              "      <th>10</th>\n",
              "      <td>1</td>\n",
              "      <td>0</td>\n",
              "      <td>0</td>\n",
              "      <td>0</td>\n",
              "      <td>0</td>\n",
              "      <td>0</td>\n",
              "    </tr>\n",
              "    <tr>\n",
              "      <th>11</th>\n",
              "      <td>1</td>\n",
              "      <td>0</td>\n",
              "      <td>0</td>\n",
              "      <td>0</td>\n",
              "      <td>0</td>\n",
              "      <td>0</td>\n",
              "    </tr>\n",
              "    <tr>\n",
              "      <th>12</th>\n",
              "      <td>0</td>\n",
              "      <td>0</td>\n",
              "      <td>0</td>\n",
              "      <td>1</td>\n",
              "      <td>0</td>\n",
              "      <td>0</td>\n",
              "    </tr>\n",
              "    <tr>\n",
              "      <th>13</th>\n",
              "      <td>0</td>\n",
              "      <td>0</td>\n",
              "      <td>0</td>\n",
              "      <td>0</td>\n",
              "      <td>1</td>\n",
              "      <td>0</td>\n",
              "    </tr>\n",
              "    <tr>\n",
              "      <th>14</th>\n",
              "      <td>1</td>\n",
              "      <td>0</td>\n",
              "      <td>0</td>\n",
              "      <td>0</td>\n",
              "      <td>0</td>\n",
              "      <td>0</td>\n",
              "    </tr>\n",
              "    <tr>\n",
              "      <th>15</th>\n",
              "      <td>0</td>\n",
              "      <td>0</td>\n",
              "      <td>0</td>\n",
              "      <td>0</td>\n",
              "      <td>1</td>\n",
              "      <td>0</td>\n",
              "    </tr>\n",
              "    <tr>\n",
              "      <th>16</th>\n",
              "      <td>0</td>\n",
              "      <td>0</td>\n",
              "      <td>1</td>\n",
              "      <td>0</td>\n",
              "      <td>0</td>\n",
              "      <td>0</td>\n",
              "    </tr>\n",
              "    <tr>\n",
              "      <th>17</th>\n",
              "      <td>0</td>\n",
              "      <td>0</td>\n",
              "      <td>0</td>\n",
              "      <td>0</td>\n",
              "      <td>1</td>\n",
              "      <td>0</td>\n",
              "    </tr>\n",
              "    <tr>\n",
              "      <th>18</th>\n",
              "      <td>0</td>\n",
              "      <td>0</td>\n",
              "      <td>0</td>\n",
              "      <td>0</td>\n",
              "      <td>1</td>\n",
              "      <td>0</td>\n",
              "    </tr>\n",
              "    <tr>\n",
              "      <th>19</th>\n",
              "      <td>0</td>\n",
              "      <td>0</td>\n",
              "      <td>0</td>\n",
              "      <td>0</td>\n",
              "      <td>1</td>\n",
              "      <td>0</td>\n",
              "    </tr>\n",
              "    <tr>\n",
              "      <th>20</th>\n",
              "      <td>0</td>\n",
              "      <td>0</td>\n",
              "      <td>0</td>\n",
              "      <td>0</td>\n",
              "      <td>1</td>\n",
              "      <td>0</td>\n",
              "    </tr>\n",
              "    <tr>\n",
              "      <th>21</th>\n",
              "      <td>0</td>\n",
              "      <td>1</td>\n",
              "      <td>0</td>\n",
              "      <td>0</td>\n",
              "      <td>0</td>\n",
              "      <td>0</td>\n",
              "    </tr>\n",
              "    <tr>\n",
              "      <th>22</th>\n",
              "      <td>0</td>\n",
              "      <td>1</td>\n",
              "      <td>0</td>\n",
              "      <td>0</td>\n",
              "      <td>0</td>\n",
              "      <td>0</td>\n",
              "    </tr>\n",
              "    <tr>\n",
              "      <th>23</th>\n",
              "      <td>0</td>\n",
              "      <td>1</td>\n",
              "      <td>0</td>\n",
              "      <td>0</td>\n",
              "      <td>0</td>\n",
              "      <td>0</td>\n",
              "    </tr>\n",
              "    <tr>\n",
              "      <th>24</th>\n",
              "      <td>0</td>\n",
              "      <td>1</td>\n",
              "      <td>0</td>\n",
              "      <td>0</td>\n",
              "      <td>0</td>\n",
              "      <td>0</td>\n",
              "    </tr>\n",
              "    <tr>\n",
              "      <th>25</th>\n",
              "      <td>1</td>\n",
              "      <td>0</td>\n",
              "      <td>0</td>\n",
              "      <td>0</td>\n",
              "      <td>0</td>\n",
              "      <td>0</td>\n",
              "    </tr>\n",
              "    <tr>\n",
              "      <th>26</th>\n",
              "      <td>1</td>\n",
              "      <td>0</td>\n",
              "      <td>0</td>\n",
              "      <td>0</td>\n",
              "      <td>0</td>\n",
              "      <td>0</td>\n",
              "    </tr>\n",
              "    <tr>\n",
              "      <th>27</th>\n",
              "      <td>1</td>\n",
              "      <td>0</td>\n",
              "      <td>0</td>\n",
              "      <td>0</td>\n",
              "      <td>0</td>\n",
              "      <td>0</td>\n",
              "    </tr>\n",
              "    <tr>\n",
              "      <th>28</th>\n",
              "      <td>1</td>\n",
              "      <td>0</td>\n",
              "      <td>0</td>\n",
              "      <td>0</td>\n",
              "      <td>0</td>\n",
              "      <td>0</td>\n",
              "    </tr>\n",
              "    <tr>\n",
              "      <th>29</th>\n",
              "      <td>1</td>\n",
              "      <td>0</td>\n",
              "      <td>0</td>\n",
              "      <td>0</td>\n",
              "      <td>0</td>\n",
              "      <td>0</td>\n",
              "    </tr>\n",
              "    <tr>\n",
              "      <th>30</th>\n",
              "      <td>1</td>\n",
              "      <td>0</td>\n",
              "      <td>0</td>\n",
              "      <td>0</td>\n",
              "      <td>0</td>\n",
              "      <td>0</td>\n",
              "    </tr>\n",
              "    <tr>\n",
              "      <th>31</th>\n",
              "      <td>1</td>\n",
              "      <td>0</td>\n",
              "      <td>0</td>\n",
              "      <td>0</td>\n",
              "      <td>0</td>\n",
              "      <td>0</td>\n",
              "    </tr>\n",
              "    <tr>\n",
              "      <th>32</th>\n",
              "      <td>1</td>\n",
              "      <td>0</td>\n",
              "      <td>0</td>\n",
              "      <td>0</td>\n",
              "      <td>0</td>\n",
              "      <td>0</td>\n",
              "    </tr>\n",
              "    <tr>\n",
              "      <th>33</th>\n",
              "      <td>1</td>\n",
              "      <td>0</td>\n",
              "      <td>0</td>\n",
              "      <td>0</td>\n",
              "      <td>0</td>\n",
              "      <td>0</td>\n",
              "    </tr>\n",
              "    <tr>\n",
              "      <th>34</th>\n",
              "      <td>1</td>\n",
              "      <td>0</td>\n",
              "      <td>0</td>\n",
              "      <td>0</td>\n",
              "      <td>0</td>\n",
              "      <td>0</td>\n",
              "    </tr>\n",
              "    <tr>\n",
              "      <th>35</th>\n",
              "      <td>1</td>\n",
              "      <td>0</td>\n",
              "      <td>0</td>\n",
              "      <td>0</td>\n",
              "      <td>0</td>\n",
              "      <td>0</td>\n",
              "    </tr>\n",
              "    <tr>\n",
              "      <th>36</th>\n",
              "      <td>1</td>\n",
              "      <td>0</td>\n",
              "      <td>0</td>\n",
              "      <td>0</td>\n",
              "      <td>0</td>\n",
              "      <td>0</td>\n",
              "    </tr>\n",
              "    <tr>\n",
              "      <th>37</th>\n",
              "      <td>1</td>\n",
              "      <td>0</td>\n",
              "      <td>0</td>\n",
              "      <td>0</td>\n",
              "      <td>0</td>\n",
              "      <td>0</td>\n",
              "    </tr>\n",
              "    <tr>\n",
              "      <th>38</th>\n",
              "      <td>1</td>\n",
              "      <td>0</td>\n",
              "      <td>0</td>\n",
              "      <td>0</td>\n",
              "      <td>0</td>\n",
              "      <td>0</td>\n",
              "    </tr>\n",
              "    <tr>\n",
              "      <th>39</th>\n",
              "      <td>1</td>\n",
              "      <td>0</td>\n",
              "      <td>0</td>\n",
              "      <td>0</td>\n",
              "      <td>0</td>\n",
              "      <td>0</td>\n",
              "    </tr>\n",
              "    <tr>\n",
              "      <th>40</th>\n",
              "      <td>1</td>\n",
              "      <td>0</td>\n",
              "      <td>0</td>\n",
              "      <td>0</td>\n",
              "      <td>0</td>\n",
              "      <td>0</td>\n",
              "    </tr>\n",
              "    <tr>\n",
              "      <th>41</th>\n",
              "      <td>1</td>\n",
              "      <td>0</td>\n",
              "      <td>0</td>\n",
              "      <td>0</td>\n",
              "      <td>0</td>\n",
              "      <td>0</td>\n",
              "    </tr>\n",
              "    <tr>\n",
              "      <th>42</th>\n",
              "      <td>1</td>\n",
              "      <td>0</td>\n",
              "      <td>0</td>\n",
              "      <td>0</td>\n",
              "      <td>0</td>\n",
              "      <td>0</td>\n",
              "    </tr>\n",
              "    <tr>\n",
              "      <th>43</th>\n",
              "      <td>1</td>\n",
              "      <td>0</td>\n",
              "      <td>0</td>\n",
              "      <td>0</td>\n",
              "      <td>0</td>\n",
              "      <td>0</td>\n",
              "    </tr>\n",
              "    <tr>\n",
              "      <th>44</th>\n",
              "      <td>1</td>\n",
              "      <td>0</td>\n",
              "      <td>0</td>\n",
              "      <td>0</td>\n",
              "      <td>0</td>\n",
              "      <td>0</td>\n",
              "    </tr>\n",
              "    <tr>\n",
              "      <th>45</th>\n",
              "      <td>0</td>\n",
              "      <td>0</td>\n",
              "      <td>0</td>\n",
              "      <td>0</td>\n",
              "      <td>0</td>\n",
              "      <td>1</td>\n",
              "    </tr>\n",
              "    <tr>\n",
              "      <th>46</th>\n",
              "      <td>1</td>\n",
              "      <td>0</td>\n",
              "      <td>0</td>\n",
              "      <td>0</td>\n",
              "      <td>0</td>\n",
              "      <td>0</td>\n",
              "    </tr>\n",
              "    <tr>\n",
              "      <th>47</th>\n",
              "      <td>1</td>\n",
              "      <td>0</td>\n",
              "      <td>0</td>\n",
              "      <td>0</td>\n",
              "      <td>0</td>\n",
              "      <td>0</td>\n",
              "    </tr>\n",
              "    <tr>\n",
              "      <th>48</th>\n",
              "      <td>1</td>\n",
              "      <td>0</td>\n",
              "      <td>0</td>\n",
              "      <td>0</td>\n",
              "      <td>0</td>\n",
              "      <td>0</td>\n",
              "    </tr>\n",
              "    <tr>\n",
              "      <th>49</th>\n",
              "      <td>1</td>\n",
              "      <td>0</td>\n",
              "      <td>0</td>\n",
              "      <td>0</td>\n",
              "      <td>0</td>\n",
              "      <td>0</td>\n",
              "    </tr>\n",
              "    <tr>\n",
              "      <th>50</th>\n",
              "      <td>1</td>\n",
              "      <td>0</td>\n",
              "      <td>0</td>\n",
              "      <td>0</td>\n",
              "      <td>0</td>\n",
              "      <td>0</td>\n",
              "    </tr>\n",
              "    <tr>\n",
              "      <th>51</th>\n",
              "      <td>1</td>\n",
              "      <td>0</td>\n",
              "      <td>0</td>\n",
              "      <td>0</td>\n",
              "      <td>0</td>\n",
              "      <td>0</td>\n",
              "    </tr>\n",
              "    <tr>\n",
              "      <th>52</th>\n",
              "      <td>1</td>\n",
              "      <td>0</td>\n",
              "      <td>0</td>\n",
              "      <td>0</td>\n",
              "      <td>0</td>\n",
              "      <td>0</td>\n",
              "    </tr>\n",
              "  </tbody>\n",
              "</table>\n",
              "</div>"
            ],
            "text/plain": [
              "    All  Both  Mild Only  Mild only  Severe/Critical Only  Severe/critical only\n",
              "0     0     0          0          1                     0                     0\n",
              "1     0     0          0          0                     1                     0\n",
              "2     0     0          0          0                     1                     0\n",
              "3     0     0          0          0                     1                     0\n",
              "4     1     0          0          0                     0                     0\n",
              "5     1     0          0          0                     0                     0\n",
              "6     1     0          0          0                     0                     0\n",
              "7     1     0          0          0                     0                     0\n",
              "8     1     0          0          0                     0                     0\n",
              "9     1     0          0          0                     0                     0\n",
              "10    1     0          0          0                     0                     0\n",
              "11    1     0          0          0                     0                     0\n",
              "12    0     0          0          1                     0                     0\n",
              "13    0     0          0          0                     1                     0\n",
              "14    1     0          0          0                     0                     0\n",
              "15    0     0          0          0                     1                     0\n",
              "16    0     0          1          0                     0                     0\n",
              "17    0     0          0          0                     1                     0\n",
              "18    0     0          0          0                     1                     0\n",
              "19    0     0          0          0                     1                     0\n",
              "20    0     0          0          0                     1                     0\n",
              "21    0     1          0          0                     0                     0\n",
              "22    0     1          0          0                     0                     0\n",
              "23    0     1          0          0                     0                     0\n",
              "24    0     1          0          0                     0                     0\n",
              "25    1     0          0          0                     0                     0\n",
              "26    1     0          0          0                     0                     0\n",
              "27    1     0          0          0                     0                     0\n",
              "28    1     0          0          0                     0                     0\n",
              "29    1     0          0          0                     0                     0\n",
              "30    1     0          0          0                     0                     0\n",
              "31    1     0          0          0                     0                     0\n",
              "32    1     0          0          0                     0                     0\n",
              "33    1     0          0          0                     0                     0\n",
              "34    1     0          0          0                     0                     0\n",
              "35    1     0          0          0                     0                     0\n",
              "36    1     0          0          0                     0                     0\n",
              "37    1     0          0          0                     0                     0\n",
              "38    1     0          0          0                     0                     0\n",
              "39    1     0          0          0                     0                     0\n",
              "40    1     0          0          0                     0                     0\n",
              "41    1     0          0          0                     0                     0\n",
              "42    1     0          0          0                     0                     0\n",
              "43    1     0          0          0                     0                     0\n",
              "44    1     0          0          0                     0                     0\n",
              "45    0     0          0          0                     0                     1\n",
              "46    1     0          0          0                     0                     0\n",
              "47    1     0          0          0                     0                     0\n",
              "48    1     0          0          0                     0                     0\n",
              "49    1     0          0          0                     0                     0\n",
              "50    1     0          0          0                     0                     0\n",
              "51    1     0          0          0                     0                     0\n",
              "52    1     0          0          0                     0                     0"
            ]
          },
          "metadata": {
            "tags": []
          },
          "execution_count": 341
        }
      ]
    },
    {
      "cell_type": "code",
      "metadata": {
        "id": "AtWp69OT2eI2"
      },
      "source": [
        "frame.drop(['Severity','Ventilation'],axis=1,inplace=True)"
      ],
      "execution_count": 344,
      "outputs": []
    },
    {
      "cell_type": "code",
      "metadata": {
        "id": "cHujsHvB3FV5"
      },
      "source": [
        "frame=pd.concat([dumm_sev_test,dummy_vent_test,frame],axis=1)"
      ],
      "execution_count": 349,
      "outputs": []
    },
    {
      "cell_type": "code",
      "metadata": {
        "id": "mpSUF5j45s3j"
      },
      "source": [
        "frame['Fever (temperature ≥37·3°C)']=frame['Fever (temperature ≥37·3°C)'].replace(np.nan,0.7345)"
      ],
      "execution_count": 387,
      "outputs": []
    },
    {
      "cell_type": "code",
      "metadata": {
        "colab": {
          "base_uri": "https://localhost:8080/"
        },
        "id": "3pM-7q1V7Jrk",
        "outputId": "a1bdcb77-bafb-4995-87a6-cd7532765fdf"
      },
      "source": [
        "frame['Fever (temperature ≥37·3°C)'].isnull().sum()"
      ],
      "execution_count": 388,
      "outputs": [
        {
          "output_type": "execute_result",
          "data": {
            "text/plain": [
              "0"
            ]
          },
          "metadata": {
            "tags": []
          },
          "execution_count": 388
        }
      ]
    },
    {
      "cell_type": "code",
      "metadata": {
        "colab": {
          "base_uri": "https://localhost:8080/"
        },
        "id": "Yw4jG88i3nwN",
        "outputId": "564a6495-5840-42e3-bdca-41b5006dd912"
      },
      "source": [
        "frame.shape"
      ],
      "execution_count": 351,
      "outputs": [
        {
          "output_type": "execute_result",
          "data": {
            "text/plain": [
              "(53, 17)"
            ]
          },
          "metadata": {
            "tags": []
          },
          "execution_count": 351
        }
      ]
    },
    {
      "cell_type": "code",
      "metadata": {
        "id": "Lio50yIF3st4"
      },
      "source": [
        "frame['Lymphocyte Count (10^9/L) - Median']=frame['Lymphocyte Count (10^9/L) - Median'].interpolate(method='values',limit_direction='forward')"
      ],
      "execution_count": 352,
      "outputs": []
    },
    {
      "cell_type": "code",
      "metadata": {
        "id": "R78F5eDG4BMF"
      },
      "source": [
        "frame['Cough']=frame['Cough'].interpolate(method='linear',limit_direction='both')"
      ],
      "execution_count": 354,
      "outputs": []
    },
    {
      "cell_type": "code",
      "metadata": {
        "id": "MLLq5VAw4Uv7"
      },
      "source": [
        "frame['Fever (temperature ≥37·3°C)']=frame['Fever (temperature ≥37·3°C)'].interpolate(method='cubic',limit_direction='both')"
      ],
      "execution_count": 371,
      "outputs": []
    },
    {
      "cell_type": "code",
      "metadata": {
        "id": "4cnth85V4mDu"
      },
      "source": [
        "frame['Cardiovascular Disease (incl. CAD)']=frame['Cardiovascular Disease (incl. CAD)'].interpolate(method='linear',limit_direction='both')"
      ],
      "execution_count": 360,
      "outputs": []
    },
    {
      "cell_type": "code",
      "metadata": {
        "id": "I872N0Fz44ab"
      },
      "source": [
        "frame['% Male']=frame['% Male'].interpolate(method='values',limit_direction='backward')"
      ],
      "execution_count": 372,
      "outputs": []
    },
    {
      "cell_type": "code",
      "metadata": {
        "id": "ehMxmpk15Gk9"
      },
      "source": [
        "frame['Diabetes']=frame['Diabetes'].interpolate(method='polynomial',limit_direction='forward',order=2)"
      ],
      "execution_count": 369,
      "outputs": []
    },
    {
      "cell_type": "code",
      "metadata": {
        "id": "BolyQta35KoD"
      },
      "source": [
        "frame['Hypertension']=frame['Hypertension'].interpolate(method='linear',limit_direction='both')"
      ],
      "execution_count": 368,
      "outputs": []
    },
    {
      "cell_type": "code",
      "metadata": {
        "colab": {
          "base_uri": "https://localhost:8080/"
        },
        "id": "E0trjy3S5PxH",
        "outputId": "7591b555-456f-46d3-ace8-407deb0d65eb"
      },
      "source": [
        "frame.shape"
      ],
      "execution_count": 379,
      "outputs": [
        {
          "output_type": "execute_result",
          "data": {
            "text/plain": [
              "(53, 17)"
            ]
          },
          "metadata": {
            "tags": []
          },
          "execution_count": 379
        }
      ]
    },
    {
      "cell_type": "code",
      "metadata": {
        "id": "d-4JlMcO6Hfv"
      },
      "source": [
        "frame_scaled=sc.fit_transform(frame)"
      ],
      "execution_count": 662,
      "outputs": []
    },
    {
      "cell_type": "code",
      "metadata": {
        "colab": {
          "base_uri": "https://localhost:8080/"
        },
        "id": "CubPDhaO6QiJ",
        "outputId": "1ceb2710-9935-4ce4-adda-a483a9a60528"
      },
      "source": [
        "frame_scaled"
      ],
      "execution_count": 663,
      "outputs": [
        {
          "output_type": "execute_result",
          "data": {
            "text/plain": [
              "array([[0.        , 0.        , 0.        , 1.        , 0.        ,\n",
              "        0.        , 1.        , 0.        , 0.        , 0.        ,\n",
              "        0.341     , 0.23230769, 0.11298603, 0.57814299, 0.063     ,\n",
              "        0.57945946, 0.7       ],\n",
              "       [0.        , 0.        , 0.        , 0.        , 1.        ,\n",
              "        0.        , 1.        , 0.        , 0.        , 0.        ,\n",
              "        0.75      , 0.38461538, 0.16140862, 0.71760873, 0.11      ,\n",
              "        0.56878378, 0.62      ],\n",
              "       [0.        , 0.        , 0.        , 0.        , 1.        ,\n",
              "        0.        , 0.        , 0.        , 0.        , 1.        ,\n",
              "        0.79      , 0.4       , 0.22787099, 0.74629412, 0.18      ,\n",
              "        0.55810811, 0.54      ],\n",
              "       [0.        , 0.        , 0.        , 0.        , 1.        ,\n",
              "        0.        , 0.        , 0.        , 1.        , 0.        ,\n",
              "        0.68      , 0.32307692, 0.04747312, 0.7063475 , 0.        ,\n",
              "        0.54743243, 0.46      ],\n",
              "       [1.        , 0.        , 0.        , 0.        , 0.        ,\n",
              "        0.        , 1.        , 0.        , 0.        , 0.        ,\n",
              "        0.4654    , 0.32630769, 0.08905958, 0.63991717, 0.0733    ,\n",
              "        0.53675676, 0.38      ],\n",
              "       [1.        , 0.        , 0.        , 0.        , 0.        ,\n",
              "        0.        , 1.        , 0.        , 0.        , 0.        ,\n",
              "        0.2927    , 0.20630769, 0.05791721, 0.58915147, 0.061     ,\n",
              "        0.43308108, 0.79      ],\n",
              "       [1.        , 0.        , 0.        , 0.        , 0.        ,\n",
              "        0.        , 1.        , 0.        , 0.        , 0.        ,\n",
              "        0.4938    , 0.26584615, 0.07035517, 0.60617897, 0.037     ,\n",
              "        0.57286486, 0.32      ],\n",
              "       [1.        , 0.        , 0.        , 0.        , 0.        ,\n",
              "        0.        , 1.        , 0.        , 0.        , 0.        ,\n",
              "        0.6098    , 0.50661538, 0.13890636, 0.72434189, 0.122     ,\n",
              "        0.60443243, 0.02      ],\n",
              "       [1.        , 0.        , 0.        , 0.        , 0.        ,\n",
              "        0.        , 1.        , 0.        , 0.        , 0.        ,\n",
              "        0.5198    , 0.45303846, 0.17895331, 0.7919767 , 0.1065    ,\n",
              "        0.60332432, 0.66      ],\n",
              "       [1.        , 0.        , 0.        , 0.        , 0.        ,\n",
              "        0.        , 1.        , 0.        , 0.        , 0.        ,\n",
              "        0.588     , 0.39946154, 0.17652805, 0.7919767 , 0.091     ,\n",
              "        0.60221622, 0.5       ],\n",
              "       [1.        , 0.        , 0.        , 0.        , 0.        ,\n",
              "        0.        , 1.        , 0.        , 0.        , 0.        ,\n",
              "        0.375     , 0.34588462, 0.14430192, 0.7919767 , 0.0755    ,\n",
              "        0.60110811, 1.        ],\n",
              "       [1.        , 0.        , 0.        , 0.        , 0.        ,\n",
              "        0.        , 0.        , 1.        , 0.        , 0.        ,\n",
              "        0.47      , 0.29230769, 0.09494624, 0.68109996, 0.06      ,\n",
              "        0.6       , 0.86      ],\n",
              "       [0.        , 0.        , 0.        , 1.        , 0.        ,\n",
              "        0.        , 0.        , 1.        , 0.        , 0.        ,\n",
              "        0.44      , 0.15384615, 0.06646237, 0.68109996, 0.03      ,\n",
              "        0.49189189, 0.72      ],\n",
              "       [0.        , 0.        , 0.        , 0.        , 1.        ,\n",
              "        0.        , 0.        , 1.        , 0.        , 0.        ,\n",
              "        0.6       , 1.        , 0.23736561, 0.63358136, 0.2       ,\n",
              "        0.62162162, 0.58      ],\n",
              "       [1.        , 0.        , 0.        , 0.        , 0.        ,\n",
              "        0.        , 1.        , 0.        , 0.        , 0.        ,\n",
              "        0.568     , 0.83333333, 0.34870087, 0.73495438, 0.144     ,\n",
              "        0.80108108, 0.44      ],\n",
              "       [0.        , 0.        , 0.        , 0.        , 1.        ,\n",
              "        0.        , 1.        , 0.        , 0.        , 0.        ,\n",
              "        0.64      , 0.66666667, 0.3509754 , 0.73298199, 0.42933333,\n",
              "        0.7827027 , 0.14      ],\n",
              "       [0.        , 0.        , 1.        , 0.        , 0.        ,\n",
              "        0.        , 1.        , 0.        , 0.        , 0.        ,\n",
              "        0.55      , 0.5       , 0.24418921, 0.68948856, 0.71466667,\n",
              "        0.76432432, 0.51      ],\n",
              "       [0.        , 0.        , 0.        , 0.        , 1.        ,\n",
              "        0.        , 0.        , 0.        , 0.        , 1.        ,\n",
              "        1.        , 0.33333333, 0.10951271, 0.7919767 , 1.        ,\n",
              "        0.74594595, 0.45833333],\n",
              "       [0.        , 0.        , 0.        , 0.        , 1.        ,\n",
              "        0.        , 0.        , 0.        , 0.        , 1.        ,\n",
              "        1.        , 0.16666667, 0.02811631, 0.7919767 , 0.        ,\n",
              "        0.72756757, 0.40666667],\n",
              "       [0.        , 0.        , 0.        , 0.        , 1.        ,\n",
              "        0.        , 0.        , 0.        , 0.        , 1.        ,\n",
              "        0.        , 0.        , 0.        , 0.        , 0.        ,\n",
              "        0.70918919, 0.355     ],\n",
              "       [0.        , 0.        , 0.        , 0.        , 1.        ,\n",
              "        0.        , 0.        , 0.        , 0.        , 1.        ,\n",
              "        1.        , 0.17435897, 0.02516379, 0.7919767 , 1.        ,\n",
              "        0.69081081, 0.30333333],\n",
              "       [0.        , 1.        , 0.        , 0.        , 0.        ,\n",
              "        0.        , 0.        , 1.        , 0.        , 0.        ,\n",
              "        0.81      , 0.34871795, 0.09539401, 1.        , 0.54      ,\n",
              "        0.67243243, 0.25166667],\n",
              "       [0.        , 1.        , 0.        , 0.        , 0.        ,\n",
              "        0.        , 0.        , 1.        , 0.        , 0.        ,\n",
              "        0.62      , 0.52307692, 0.16140862, 0.7206988 , 0.08      ,\n",
              "        0.65405405, 0.2       ],\n",
              "       [0.        , 1.        , 0.        , 0.        , 0.        ,\n",
              "        0.        , 0.        , 1.        , 0.        , 0.        ,\n",
              "        0.73      , 0.73846154, 0.19938711, 0.72861856, 0.14      ,\n",
              "        0.67567568, 0.        ],\n",
              "       [0.        , 1.        , 0.        , 0.        , 0.        ,\n",
              "        0.        , 0.        , 1.        , 0.        , 0.        ,\n",
              "        0.55      , 0.36923077, 0.13292474, 0.71277903, 0.04      ,\n",
              "        0.63243243, 0.4       ],\n",
              "       [1.        , 0.        , 0.        , 0.        , 0.        ,\n",
              "        0.        , 1.        , 0.        , 0.        , 0.        ,\n",
              "        0.474     , 0.25384615, 0.05981613, 0.70667649, 0.042     ,\n",
              "        0.62108108, 0.49      ],\n",
              "       [1.        , 0.        , 0.        , 0.        , 0.        ,\n",
              "        0.        , 1.        , 0.        , 0.        , 0.        ,\n",
              "        0.466     , 0.26461538, 0.04937205, 0.7231546 , 0.052     ,\n",
              "        0.60972973, 0.58      ],\n",
              "       [1.        , 0.        , 0.        , 0.        , 0.        ,\n",
              "        0.        , 1.        , 0.        , 0.        , 0.        ,\n",
              "        0.486     , 0.24923077, 0.07690646, 0.72553519, 0.027     ,\n",
              "        0.59837838, 0.67      ],\n",
              "       [1.        , 0.        , 0.        , 0.        , 0.        ,\n",
              "        0.        , 1.        , 0.        , 0.        , 0.        ,\n",
              "        0.49      , 0.47538462, 0.15571184, 0.67714008, 0.036     ,\n",
              "        0.58702703, 0.76      ],\n",
              "       [1.        , 0.        , 0.        , 0.        , 0.        ,\n",
              "        0.        , 1.        , 0.        , 0.        , 0.        ,\n",
              "        0.468     , 0.45846154, 0.10064302, 0.65734066, 0.021     ,\n",
              "        0.51675676, 0.8       ],\n",
              "       [1.        , 0.        , 0.        , 0.        , 0.        ,\n",
              "        0.        , 1.        , 0.        , 0.        , 0.        ,\n",
              "        0.625     , 0.57692308, 0.47473122, 0.7919767 , 0.125     ,\n",
              "        1.        , 0.23      ],\n",
              "       [1.        , 0.        , 0.        , 0.        , 0.        ,\n",
              "        0.        , 1.        , 0.        , 0.        , 0.        ,\n",
              "        0.5017    , 0.61423077, 0.799159  , 0.3602702 , 0.1805    ,\n",
              "        0.25027027, 0.23227273],\n",
              "       [1.        , 0.        , 0.        , 0.        , 0.        ,\n",
              "        0.        , 1.        , 0.        , 0.        , 0.        ,\n",
              "        0.52      , 0.65153846, 0.97424859, 0.33342219, 0.236     ,\n",
              "        0.19459459, 0.23454545],\n",
              "       [1.        , 0.        , 0.        , 0.        , 0.        ,\n",
              "        0.        , 1.        , 0.        , 0.        , 0.        ,\n",
              "        0.529     , 0.68884615, 1.        , 0.15443546, 0.2915    ,\n",
              "        0.31675676, 0.23681818],\n",
              "       [1.        , 0.        , 0.        , 0.        , 0.        ,\n",
              "        0.        , 1.        , 0.        , 0.        , 0.        ,\n",
              "        0.494     , 0.72615385, 0.87641323, 0.38648463, 0.347     ,\n",
              "        0.25513514, 0.23909091],\n",
              "       [1.        , 0.        , 0.        , 0.        , 0.        ,\n",
              "        0.        , 1.        , 0.        , 0.        , 0.        ,\n",
              "        0.692     , 0.76346154, 0.69238575, 0.        , 0.4025    ,\n",
              "        0.16864865, 0.24136364],\n",
              "       [1.        , 0.        , 0.        , 0.        , 0.        ,\n",
              "        0.        , 1.        , 0.        , 0.        , 0.        ,\n",
              "        0.844     , 0.80076923, 0.53681503, 0.00791977, 0.458     ,\n",
              "        0.        , 0.24363636],\n",
              "       [1.        , 0.        , 0.        , 0.        , 0.        ,\n",
              "        0.        , 1.        , 0.        , 0.        , 0.        ,\n",
              "        0.644     , 0.83807692, 0.40970108, 0.00950372, 0.5135    ,\n",
              "        0.00972973, 0.24590909],\n",
              "       [1.        , 0.        , 0.        , 0.        , 0.        ,\n",
              "        0.        , 1.        , 0.        , 0.        , 0.        ,\n",
              "        0.6226    , 0.87538462, 0.3110439 , 0.56380821, 0.569     ,\n",
              "        0.51437838, 0.24818182],\n",
              "       [1.        , 0.        , 0.        , 0.        , 0.        ,\n",
              "        0.        , 1.        , 0.        , 0.        , 0.        ,\n",
              "        0.375     , 0.85794872, 0.24084348, 0.93358635, 0.4055    ,\n",
              "        0.5581982 , 0.25045455],\n",
              "       [1.        , 0.        , 0.        , 0.        , 0.        ,\n",
              "        0.        , 1.        , 0.        , 0.        , 0.        ,\n",
              "        0.514     , 0.84051282, 0.19909982, 0.96493231, 0.242     ,\n",
              "        0.60201802, 0.25272727],\n",
              "       [1.        , 0.        , 0.        , 0.        , 0.        ,\n",
              "        0.        , 1.        , 0.        , 0.        , 0.        ,\n",
              "        0.537     , 0.82307692, 0.18581293, 0.78264409, 0.21575   ,\n",
              "        0.64583784, 0.255     ],\n",
              "       [1.        , 0.        , 0.        , 0.        , 0.        ,\n",
              "        0.        , 1.        , 0.        , 0.        , 0.        ,\n",
              "        0.56      , 0.80564103, 0.19237966, 0.51151965, 0.1895    ,\n",
              "        0.68965766, 0.25727273],\n",
              "       [1.        , 0.        , 0.        , 0.        , 0.        ,\n",
              "        0.        , 1.        , 0.        , 0.        , 0.        ,\n",
              "        0.583     , 0.78820513, 0.21019686, 0.27635698, 0.16325   ,\n",
              "        0.73347748, 0.25954545],\n",
              "       [1.        , 0.        , 0.        , 0.        , 0.        ,\n",
              "        0.        , 1.        , 0.        , 0.        , 0.        ,\n",
              "        0.606     , 0.77076923, 0.23926454, 0.20195406, 0.137     ,\n",
              "        0.7772973 , 0.26181818],\n",
              "       [0.        , 0.        , 0.        , 0.        , 0.        ,\n",
              "        1.        , 0.        , 0.        , 0.        , 1.        ,\n",
              "        0.708     , 0.82769231, 0.2630011 , 0.27402394, 0.192     ,\n",
              "        0.8172973 , 0.26409091],\n",
              "       [1.        , 0.        , 0.        , 0.        , 0.        ,\n",
              "        0.        , 0.        , 0.        , 1.        , 0.        ,\n",
              "        0.555     , 0.74307692, 0.22787099, 0.16631511, 0.11      ,\n",
              "        0.75783784, 0.26636364],\n",
              "       [1.        , 0.        , 0.        , 0.        , 0.        ,\n",
              "        0.        , 1.        , 0.        , 0.        , 0.        ,\n",
              "        0.566     , 0.76435897, 0.39301659, 0.21980315, 0.14485   ,\n",
              "        0.75783784, 0.26863636],\n",
              "       [1.        , 0.        , 0.        , 0.        , 0.        ,\n",
              "        0.        , 1.        , 0.        , 0.        , 0.        ,\n",
              "        0.5734    , 0.78564103, 0.64250124, 0.33508534, 0.1797    ,\n",
              "        0.75783784, 0.27090909],\n",
              "       [1.        , 0.        , 0.        , 0.        , 0.        ,\n",
              "        0.        , 1.        , 0.        , 0.        , 0.        ,\n",
              "        0.5808    , 0.80692308, 0.75387318, 0.34054998, 0.258     ,\n",
              "        0.75783784, 0.27318182],\n",
              "       [1.        , 0.        , 0.        , 0.        , 0.        ,\n",
              "        0.        , 1.        , 0.        , 0.        , 0.        ,\n",
              "        0.5882    , 0.82820513, 0.52125488, 0.37143707, 0.133     ,\n",
              "        0.75783784, 0.27545455],\n",
              "       [1.        , 0.        , 0.        , 0.        , 0.        ,\n",
              "        0.        , 1.        , 0.        , 0.        , 0.        ,\n",
              "        0.5956    , 0.84948718, 0.66082586, 0.30570301, 0.165     ,\n",
              "        0.75783784, 0.27772727],\n",
              "       [1.        , 0.        , 0.        , 0.        , 0.        ,\n",
              "        0.        , 1.        , 0.        , 0.        , 0.        ,\n",
              "        0.603     , 0.87076923, 0.32091831, 0.58170689, 0.18      ,\n",
              "        0.75783784, 0.28      ]])"
            ]
          },
          "metadata": {
            "tags": []
          },
          "execution_count": 663
        }
      ]
    },
    {
      "cell_type": "code",
      "metadata": {
        "colab": {
          "base_uri": "https://localhost:8080/"
        },
        "id": "d_h2ts416Rz8",
        "outputId": "38e945aa-b669-4f9e-81af-8ee2fbc6ceed"
      },
      "source": [
        "frame.shape"
      ],
      "execution_count": 664,
      "outputs": [
        {
          "output_type": "execute_result",
          "data": {
            "text/plain": [
              "(53, 17)"
            ]
          },
          "metadata": {
            "tags": []
          },
          "execution_count": 664
        }
      ]
    },
    {
      "cell_type": "code",
      "metadata": {
        "colab": {
          "base_uri": "https://localhost:8080/"
        },
        "id": "m_Q7slFzCMAp",
        "outputId": "5255c336-9c6f-4182-879d-9374666a8d22"
      },
      "source": [
        "frame.shape"
      ],
      "execution_count": 667,
      "outputs": [
        {
          "output_type": "execute_result",
          "data": {
            "text/plain": [
              "(53, 17)"
            ]
          },
          "metadata": {
            "tags": []
          },
          "execution_count": 667
        }
      ]
    },
    {
      "cell_type": "code",
      "metadata": {
        "colab": {
          "base_uri": "https://localhost:8080/"
        },
        "id": "OWyluGfOAisf",
        "outputId": "13d45cd5-39e1-43e0-dddc-1fd05aa329fb"
      },
      "source": [
        "X_train.shape"
      ],
      "execution_count": 668,
      "outputs": [
        {
          "output_type": "execute_result",
          "data": {
            "text/plain": [
              "(471, 17)"
            ]
          },
          "metadata": {
            "tags": []
          },
          "execution_count": 668
        }
      ]
    },
    {
      "cell_type": "code",
      "metadata": {
        "colab": {
          "base_uri": "https://localhost:8080/"
        },
        "id": "Mv3jg-WN7eYC",
        "outputId": "fbdbbbc3-a8d8-4a03-8af7-487b1154c42c"
      },
      "source": [
        "frame.columns"
      ],
      "execution_count": 665,
      "outputs": [
        {
          "output_type": "execute_result",
          "data": {
            "text/plain": [
              "Index(['All', 'Both', 'Mild Only', 'Mild only', 'Severe/Critical Only',\n",
              "       'Severe/critical only', 'Both', 'No', 'Non-ventilation only',\n",
              "       'Ventilation only', '% Male', 'Hypertension', 'Diabetes',\n",
              "       'Fever (temperature ≥37·3°C)', 'Cardiovascular Disease (incl. CAD)',\n",
              "       'Cough', 'Lymphocyte Count (10^9/L) - Median'],\n",
              "      dtype='object')"
            ]
          },
          "metadata": {
            "tags": []
          },
          "execution_count": 665
        }
      ]
    },
    {
      "cell_type": "code",
      "metadata": {
        "colab": {
          "base_uri": "https://localhost:8080/"
        },
        "id": "Z-hCtjva9Ahd",
        "outputId": "84eb9ad1-418f-4cba-ecd9-99bf6c9ba6bc"
      },
      "source": [
        "X_train.columns"
      ],
      "execution_count": 666,
      "outputs": [
        {
          "output_type": "execute_result",
          "data": {
            "text/plain": [
              "Index(['All', 'Both', 'Mild', 'Mild only', 'Severe/Critical Only',\n",
              "       'Severe/critical only', 'Both', 'No', 'Non-ventilation only',\n",
              "       'Ventilation only', '% Male', 'Hypertension', 'Diabetes',\n",
              "       'Cardiovascular Disease (incl. CAD)', 'Fever (temperature ≥37·3°C)',\n",
              "       'Cough', 'Lymphocyte Count (10^9/L) - Median'],\n",
              "      dtype='object')"
            ]
          },
          "metadata": {
            "tags": []
          },
          "execution_count": 666
        }
      ]
    },
    {
      "cell_type": "code",
      "metadata": {
        "colab": {
          "base_uri": "https://localhost:8080/",
          "height": 177
        },
        "id": "V6vcIWK99DYg",
        "outputId": "8025fbec-0214-484b-c7b5-250b217d1534"
      },
      "source": [
        "frame.head(2)"
      ],
      "execution_count": 406,
      "outputs": [
        {
          "output_type": "execute_result",
          "data": {
            "text/html": [
              "<div>\n",
              "<style scoped>\n",
              "    .dataframe tbody tr th:only-of-type {\n",
              "        vertical-align: middle;\n",
              "    }\n",
              "\n",
              "    .dataframe tbody tr th {\n",
              "        vertical-align: top;\n",
              "    }\n",
              "\n",
              "    .dataframe thead th {\n",
              "        text-align: right;\n",
              "    }\n",
              "</style>\n",
              "<table border=\"1\" class=\"dataframe\">\n",
              "  <thead>\n",
              "    <tr style=\"text-align: right;\">\n",
              "      <th></th>\n",
              "      <th>All</th>\n",
              "      <th>Both</th>\n",
              "      <th>Mild Only</th>\n",
              "      <th>Mild only</th>\n",
              "      <th>Severe/Critical Only</th>\n",
              "      <th>Severe/critical only</th>\n",
              "      <th>Both</th>\n",
              "      <th>No</th>\n",
              "      <th>Non-ventilation only</th>\n",
              "      <th>Ventilation only</th>\n",
              "      <th>% Male</th>\n",
              "      <th>Hypertension</th>\n",
              "      <th>Diabetes</th>\n",
              "      <th>Fever (temperature ≥37·3°C)</th>\n",
              "      <th>Cardiovascular Disease (incl. CAD)</th>\n",
              "      <th>Cough</th>\n",
              "      <th>Lymphocyte Count (10^9/L) - Median</th>\n",
              "    </tr>\n",
              "  </thead>\n",
              "  <tbody>\n",
              "    <tr>\n",
              "      <th>0</th>\n",
              "      <td>0</td>\n",
              "      <td>0</td>\n",
              "      <td>0</td>\n",
              "      <td>1</td>\n",
              "      <td>0</td>\n",
              "      <td>0</td>\n",
              "      <td>1</td>\n",
              "      <td>0</td>\n",
              "      <td>0</td>\n",
              "      <td>0</td>\n",
              "      <td>0.341</td>\n",
              "      <td>0.151</td>\n",
              "      <td>0.119</td>\n",
              "      <td>0.730000</td>\n",
              "      <td>0.063</td>\n",
              "      <td>0.611000</td>\n",
              "      <td>1.30</td>\n",
              "    </tr>\n",
              "    <tr>\n",
              "      <th>1</th>\n",
              "      <td>0</td>\n",
              "      <td>0</td>\n",
              "      <td>0</td>\n",
              "      <td>0</td>\n",
              "      <td>1</td>\n",
              "      <td>0</td>\n",
              "      <td>1</td>\n",
              "      <td>0</td>\n",
              "      <td>0</td>\n",
              "      <td>0</td>\n",
              "      <td>0.750</td>\n",
              "      <td>0.250</td>\n",
              "      <td>0.170</td>\n",
              "      <td>0.906098</td>\n",
              "      <td>0.110</td>\n",
              "      <td>0.601125</td>\n",
              "      <td>1.22</td>\n",
              "    </tr>\n",
              "  </tbody>\n",
              "</table>\n",
              "</div>"
            ],
            "text/plain": [
              "   All  Both  ...     Cough  Lymphocyte Count (10^9/L) - Median\n",
              "0    0     0  ...  0.611000                                1.30\n",
              "1    0     0  ...  0.601125                                1.22\n",
              "\n",
              "[2 rows x 17 columns]"
            ]
          },
          "metadata": {
            "tags": []
          },
          "execution_count": 406
        }
      ]
    },
    {
      "cell_type": "code",
      "metadata": {
        "colab": {
          "base_uri": "https://localhost:8080/"
        },
        "id": "SM-g5KlV81_G",
        "outputId": "65d518ea-67a0-4b97-ee8d-af63bbb08e41"
      },
      "source": [
        "frame.shape"
      ],
      "execution_count": 427,
      "outputs": [
        {
          "output_type": "execute_result",
          "data": {
            "text/plain": [
              "(53, 17)"
            ]
          },
          "metadata": {
            "tags": []
          },
          "execution_count": 427
        }
      ]
    },
    {
      "cell_type": "code",
      "metadata": {
        "id": "qx2cr9I8734C"
      },
      "source": [
        "pred=rf.predict(frame_scaled)"
      ],
      "execution_count": 669,
      "outputs": []
    },
    {
      "cell_type": "code",
      "metadata": {
        "id": "4IpG3ZzkPXNV"
      },
      "source": [
        "from sklearn.metrics import r2_score"
      ],
      "execution_count": 670,
      "outputs": []
    },
    {
      "cell_type": "code",
      "metadata": {
        "colab": {
          "base_uri": "https://localhost:8080/"
        },
        "id": "4uExwwCGPfUv",
        "outputId": "0774f100-c369-49f9-f324-1818ef2bc8b2"
      },
      "source": [
        "pred.shape"
      ],
      "execution_count": 672,
      "outputs": [
        {
          "output_type": "execute_result",
          "data": {
            "text/plain": [
              "(53,)"
            ]
          },
          "metadata": {
            "tags": []
          },
          "execution_count": 672
        }
      ]
    },
    {
      "cell_type": "code",
      "metadata": {
        "colab": {
          "base_uri": "https://localhost:8080/"
        },
        "id": "f-uKEhi8QFGj",
        "outputId": "872d85df-323e-4f6b-96a7-7d947e1e2bfb"
      },
      "source": [
        "pred"
      ],
      "execution_count": 674,
      "outputs": [
        {
          "output_type": "execute_result",
          "data": {
            "text/plain": [
              "array([0.9293, 0.9621, 0.9435, 0.9649, 0.9358, 0.9368, 0.9338, 0.925 ,\n",
              "       0.9289, 0.9338, 0.9392, 0.9494, 0.9428, 0.9558, 0.8931, 0.9399,\n",
              "       0.8768, 0.4447, 0.9473, 0.98  , 0.4728, 0.9611, 0.9266, 0.9121,\n",
              "       0.9581, 0.936 , 0.9372, 0.9352, 0.9332, 0.9269, 0.882 , 0.8635,\n",
              "       0.8584, 0.8603, 0.8607, 0.8598, 0.8635, 0.8658, 0.89  , 0.8757,\n",
              "       0.8837, 0.8834, 0.8799, 0.8592, 0.8648, 0.8659, 0.8613, 0.8658,\n",
              "       0.8639, 0.8657, 0.8732, 0.8571, 0.8855])"
            ]
          },
          "metadata": {
            "tags": []
          },
          "execution_count": 674
        }
      ]
    },
    {
      "cell_type": "code",
      "metadata": {
        "id": "mDWa9Sk3QHqB"
      },
      "source": [
        ""
      ],
      "execution_count": null,
      "outputs": []
    }
  ]
}